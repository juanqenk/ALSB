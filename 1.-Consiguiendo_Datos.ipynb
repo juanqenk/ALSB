{
 "cells": [
  {
   "cell_type": "markdown",
   "metadata": {},
   "source": [
    "\n",
    "<center> <h1>Consiguiendo los datos con Tweepy</h1> </center>\n",
    "   \n",
    "   \n",
    "![](img/1.jpg)\n",
    "\n",
    "<h3>Juan Cuenca</h3>\n",
    "[Twitter](http://twitter.com/juan_qenk) | [Github](https://github.com/juanqenk) | [mail](mailto:juanqenk@gmail.com)"
   ]
  },
  {
   "cell_type": "markdown",
   "metadata": {},
   "source": [
    "**Tweepy** es una libreria escrita en `Python` para manejar la red social `Twitter` de una forma sencilla y directa. Con [Tweepy](http://www.tweepy.org/) podeis acceder a la `API` de Twitter y realizar busquedas, actualizar vuestro perfil o analizar a vuestros seguidores.\n",
    "\n",
    "Tweepy es relativamente intuitiva y de fácil uso. Lo primero que necesitamos es instalar la librería en python, que como la mayoría de librerías puedes instalar con `pip` o `easy_install`. Abrid vuestra consola de comandos e instalad Tweepy con alguna de las siguientes órdenes:\n",
    "\n",
    "**Instalación con pip:**\n",
    "```bash\n",
    "pip search tweepy # para buscar si esta en los repositorios\n",
    "pip install tweepy\n",
    "```\n",
    "**Instalación con easy_install:**\n",
    "```bash  \n",
    "easy_install tweepy\n",
    "```\n",
    "Tened en cuenta que necesitais registrar vuestra aplicación en Twitter para comunicaros con la API, concretamente en la web de [Twitter para desarrolladores](https://apps.twitter.com/). Una vez os habeis registrado con vuestra cuenta y elegido los permisos correspondientes para la app, en `Keys and Access Tokens` podeis encontrar dos claves; API_key y API secret (en adelante `consumer_key` y `consumer_secret`, respectivamente). Necesitareis además generar los tokens; `access_token` y `access_secret`. Estas cuatro claves son necesarias para comunicaros con la red social. \n",
    "\n",
    "Con tal de no tener que copiar las claves cada vez que intenteis hacer una busqueda, os recomiendo guardarlas en un archivo vacio llamado `passw.py`. El contenido de este debe ser solo vuestras claves siguiendo este formato:\n",
    "```python\n",
    "consumer_key = 'sustituid el contenido de estas comillas por vuestro consumer key'\n",
    "consumer_secret = 'sustituid el contenido de estas comillas por vuestro consumer secret'\n",
    "access_token = 'sustituid el contenido de estas comillas por vuestro access token'\n",
    "access_secret = 'sustituid el contenido de estas comillas por vuestro access secret'\n",
    "```\n",
    "Una vez hemos instalado Tweepy y generado el archivo con las contraseñas (el cual guardaremos en la carpeta de trabajo) podemos importarlos a nuestro script para su uso. "
   ]
  },
  {
   "cell_type": "code",
   "execution_count": 2,
   "metadata": {},
   "outputs": [],
   "source": [
    "import tweepy\n",
    "from passw import consumer_key, consumer_secret, access_token, access_secret\n",
    "import numpy as np\n",
    "import pandas as pd\n",
    "import platform\n",
    "import sys"
   ]
  },
  {
   "cell_type": "code",
   "execution_count": 4,
   "metadata": {},
   "outputs": [
    {
     "name": "stdout",
     "output_type": "stream",
     "text": [
      "Sistema operativo:      Linux-4.9.71-1-MANJARO-x86_64-with-arch-Manjaro-Linux\n",
      "Versión de Python:      3.6.1 |Continuum Analytics, Inc.| (default, May 11 2017, 13:09:58) \n",
      "[GCC 4.4.7 20120313 (Red Hat 4.4.7-1)]\n",
      "Versión de Pandas:      0.21.0\n",
      "Versión de Numpy:       1.13.3\n",
      "Versión de Tweepy:      3.5.0\n"
     ]
    }
   ],
   "source": [
    "print(\"Sistema operativo:     \", platform.platform())\n",
    "print(\"Versión de Python:     \", sys.version)\n",
    "print(\"Versión de Pandas:     \", pd.__version__)\n",
    "print(\"Versión de Numpy:      \", np.version.short_version)\n",
    "print(\"Versión de Tweepy:     \", tweepy.__version__)"
   ]
  },
  {
   "cell_type": "markdown",
   "metadata": {
    "collapsed": true
   },
   "source": [
    "Ejecutando el código que se encuentra a continuación nos comunicaremos con Twitter para mandarle nuestras credenciales. Twitter comprobará que hemos creado correctamente una aplicación y obtendremos una autorización para conectarnos con la API. Finalmente obtenemos un objeto llamado `api` sobre el cual podemos ejecutar las diferentes funciones que nos ofrece Tweepy. "
   ]
  },
  {
   "cell_type": "code",
   "execution_count": 5,
   "metadata": {},
   "outputs": [],
   "source": [
    "auth = tweepy.OAuthHandler(consumer_key, consumer_secret)\n",
    "auth.set_access_token(access_token, access_secret)\n",
    "\n",
    "api = tweepy.API(auth)"
   ]
  },
  {
   "cell_type": "markdown",
   "metadata": {},
   "source": [
    "Una vez hemos accedido, hay muchas cosas que podemos hacer:\n",
    "- enviar un tuit\n",
    "- seguir o dejar de seguir a otros\n",
    "- actualizar el perfil\n",
    "- obtener información de un usuario\n",
    "- obtener todos los tuits de un usuario\n",
    "- ver todos los seguidores de otro usuario\n",
    "- hacer búsquedas de tuits\n",
    "- guardar todos los tuits que van apareciendo en directo\n",
    "- ...   \n",
    "\n",
    "A modo de demostración, podemos obtener de manera sencilla la siguiente información:"
   ]
  },
  {
   "cell_type": "code",
   "execution_count": 6,
   "metadata": {
    "scrolled": true
   },
   "outputs": [
    {
     "name": "stdout",
     "output_type": "stream",
     "text": [
      "Nombre de Usuario:  juan_qenk\n",
      "Fecha de creación: 2012-04-20 16:06:21\n",
      "Descripción: Biólogo capaz de hacer la fotosíntesis incluso en días nublados. Habla más de 100 idiomas, todos inventados por él en una sola noche.\n",
      "Número de seguidores: 921\n",
      "Localización: Agost\n"
     ]
    }
   ],
   "source": [
    "usuario = api.get_user('juan_qenk')\n",
    "print('Nombre de Usuario: ', usuario.screen_name)\n",
    "print('Fecha de creación:', usuario.created_at)\n",
    "print('Descripción:', usuario.description)\n",
    "print('Número de seguidores:', usuario.followers_count)\n",
    "print('Localización:', usuario.location)"
   ]
  },
  {
   "cell_type": "markdown",
   "metadata": {},
   "source": [
    "Twitter tiene una normativa que regula la frecuencia máxima de peticiones, así como la cantidad máxima de tweets que se pueden extraer, [rate limiting](https://developer.twitter.com/en/docs/basics/rate-limits). Es importante cumplir estos límites para evitar ser bloqueado.\n",
    "\n",
    "Para el trabajo de análisis que se quiere realizar, es conveniente recuperar tantos tweets como sea posible, al menos unos 1000 por búsqueda. Para ello podemos usar el objeto `cursor` de Tweepy. Este objeto nos permite paginar los resultados ajustandonos a un número de tuits máximo que podemos elegir. "
   ]
  },
  {
   "cell_type": "code",
   "execution_count": 16,
   "metadata": {},
   "outputs": [],
   "source": [
    "query = 'biotecnología -filter:retweets'\n",
    "max_tweets = 1000\n",
    "searched_tweets = [status for status in tweepy.Cursor(api.search, q=query).items(max_tweets)]"
   ]
  },
  {
   "cell_type": "markdown",
   "metadata": {},
   "source": [
    "Acabamos de generar una lista con todos los tuits que coinciden con la palabra *biotechnology*. Hemos ajustado el número máximo de tuits en 1000, con lo que, si hemos cumplido todos los requisitos que exige la API, \n",
    "```python \n",
    "len(searched_tweets) == 1000\n",
    "```\n"
   ]
  },
  {
   "cell_type": "markdown",
   "metadata": {},
   "source": [
    "Esta lista de tuits no contiene solo el texto del tuit, es un objeto complejo que tiene mucha información. Si tomamos el primer tuit de la lista, `searched_tweets[0]`, y lo imprimimos en pantalla, podemos ver que toda la información se encuentra en formato json. Json es un formato de texto ligero para el intercambio de datos muy común en internet. "
   ]
  },
  {
   "cell_type": "code",
   "execution_count": 17,
   "metadata": {},
   "outputs": [
    {
     "data": {
      "text/plain": [
       "Status(_api=<tweepy.api.API object at 0x7f54f0599048>, _json={'created_at': 'Wed Dec 27 13:32:02 +0000 2017', 'id': 946010785851068416, 'id_str': '946010785851068416', 'text': '3P Bio, \"actor clave\" dentro de la patronal española de Bioempresas https://t.co/GxvCnngz16 #3PBio #biotecnologia… https://t.co/SgOHlhjysJ', 'truncated': True, 'entities': {'hashtags': [{'text': '3PBio', 'indices': [92, 98]}, {'text': 'biotecnologia', 'indices': [99, 113]}], 'symbols': [], 'user_mentions': [], 'urls': [{'url': 'https://t.co/GxvCnngz16', 'expanded_url': 'http://navarracapital.es/3p-bio-actor-clave-dentro-de-la-patronal-espanola-de-bioempresas/', 'display_url': 'navarracapital.es/3p-bio-actor-c…', 'indices': [68, 91]}, {'url': 'https://t.co/SgOHlhjysJ', 'expanded_url': 'https://twitter.com/i/web/status/946010785851068416', 'display_url': 'twitter.com/i/web/status/9…', 'indices': [115, 138]}]}, 'metadata': {'iso_language_code': 'es', 'result_type': 'recent'}, 'source': '<a href=\"http://coschedule.com\" rel=\"nofollow\">CoSchedule</a>', 'in_reply_to_status_id': None, 'in_reply_to_status_id_str': None, 'in_reply_to_user_id': None, 'in_reply_to_user_id_str': None, 'in_reply_to_screen_name': None, 'user': {'id': 2390124846, 'id_str': '2390124846', 'name': 'Navarra Capital', 'screen_name': 'NavarraCapital', 'location': 'Pamplona', 'description': 'Twitter oficial de Navarra Capital, Gabinete de Relaciones Públicas Empresarial de Navarra. Contacto: redaccion@navarracapital.es', 'url': 'http://t.co/su2hIcyuXD', 'entities': {'url': {'urls': [{'url': 'http://t.co/su2hIcyuXD', 'expanded_url': 'http://www.navarracapital.es', 'display_url': 'navarracapital.es', 'indices': [0, 22]}]}, 'description': {'urls': []}}, 'protected': False, 'followers_count': 3542, 'friends_count': 1632, 'listed_count': 233, 'created_at': 'Sat Mar 15 00:55:09 +0000 2014', 'favourites_count': 10623, 'utc_offset': 7200, 'time_zone': 'Athens', 'geo_enabled': True, 'verified': False, 'statuses_count': 33445, 'lang': 'es', 'contributors_enabled': False, 'is_translator': False, 'is_translation_enabled': False, 'profile_background_color': '000000', 'profile_background_image_url': 'http://abs.twimg.com/images/themes/theme1/bg.png', 'profile_background_image_url_https': 'https://abs.twimg.com/images/themes/theme1/bg.png', 'profile_background_tile': False, 'profile_image_url': 'http://pbs.twimg.com/profile_images/495140985731440641/byhfga2n_normal.jpeg', 'profile_image_url_https': 'https://pbs.twimg.com/profile_images/495140985731440641/byhfga2n_normal.jpeg', 'profile_banner_url': 'https://pbs.twimg.com/profile_banners/2390124846/1411083695', 'profile_link_color': '5D115A', 'profile_sidebar_border_color': '000000', 'profile_sidebar_fill_color': '000000', 'profile_text_color': '000000', 'profile_use_background_image': False, 'has_extended_profile': False, 'default_profile': False, 'default_profile_image': False, 'following': False, 'follow_request_sent': False, 'notifications': False, 'translator_type': 'none'}, 'geo': None, 'coordinates': None, 'place': None, 'contributors': None, 'is_quote_status': False, 'retweet_count': 0, 'favorite_count': 0, 'favorited': False, 'retweeted': False, 'possibly_sensitive': False, 'lang': 'es'}, created_at=datetime.datetime(2017, 12, 27, 13, 32, 2), id=946010785851068416, id_str='946010785851068416', text='3P Bio, \"actor clave\" dentro de la patronal española de Bioempresas https://t.co/GxvCnngz16 #3PBio #biotecnologia… https://t.co/SgOHlhjysJ', truncated=True, entities={'hashtags': [{'text': '3PBio', 'indices': [92, 98]}, {'text': 'biotecnologia', 'indices': [99, 113]}], 'symbols': [], 'user_mentions': [], 'urls': [{'url': 'https://t.co/GxvCnngz16', 'expanded_url': 'http://navarracapital.es/3p-bio-actor-clave-dentro-de-la-patronal-espanola-de-bioempresas/', 'display_url': 'navarracapital.es/3p-bio-actor-c…', 'indices': [68, 91]}, {'url': 'https://t.co/SgOHlhjysJ', 'expanded_url': 'https://twitter.com/i/web/status/946010785851068416', 'display_url': 'twitter.com/i/web/status/9…', 'indices': [115, 138]}]}, metadata={'iso_language_code': 'es', 'result_type': 'recent'}, source='CoSchedule', source_url='http://coschedule.com', in_reply_to_status_id=None, in_reply_to_status_id_str=None, in_reply_to_user_id=None, in_reply_to_user_id_str=None, in_reply_to_screen_name=None, author=User(_api=<tweepy.api.API object at 0x7f54f0599048>, _json={'id': 2390124846, 'id_str': '2390124846', 'name': 'Navarra Capital', 'screen_name': 'NavarraCapital', 'location': 'Pamplona', 'description': 'Twitter oficial de Navarra Capital, Gabinete de Relaciones Públicas Empresarial de Navarra. Contacto: redaccion@navarracapital.es', 'url': 'http://t.co/su2hIcyuXD', 'entities': {'url': {'urls': [{'url': 'http://t.co/su2hIcyuXD', 'expanded_url': 'http://www.navarracapital.es', 'display_url': 'navarracapital.es', 'indices': [0, 22]}]}, 'description': {'urls': []}}, 'protected': False, 'followers_count': 3542, 'friends_count': 1632, 'listed_count': 233, 'created_at': 'Sat Mar 15 00:55:09 +0000 2014', 'favourites_count': 10623, 'utc_offset': 7200, 'time_zone': 'Athens', 'geo_enabled': True, 'verified': False, 'statuses_count': 33445, 'lang': 'es', 'contributors_enabled': False, 'is_translator': False, 'is_translation_enabled': False, 'profile_background_color': '000000', 'profile_background_image_url': 'http://abs.twimg.com/images/themes/theme1/bg.png', 'profile_background_image_url_https': 'https://abs.twimg.com/images/themes/theme1/bg.png', 'profile_background_tile': False, 'profile_image_url': 'http://pbs.twimg.com/profile_images/495140985731440641/byhfga2n_normal.jpeg', 'profile_image_url_https': 'https://pbs.twimg.com/profile_images/495140985731440641/byhfga2n_normal.jpeg', 'profile_banner_url': 'https://pbs.twimg.com/profile_banners/2390124846/1411083695', 'profile_link_color': '5D115A', 'profile_sidebar_border_color': '000000', 'profile_sidebar_fill_color': '000000', 'profile_text_color': '000000', 'profile_use_background_image': False, 'has_extended_profile': False, 'default_profile': False, 'default_profile_image': False, 'following': False, 'follow_request_sent': False, 'notifications': False, 'translator_type': 'none'}, id=2390124846, id_str='2390124846', name='Navarra Capital', screen_name='NavarraCapital', location='Pamplona', description='Twitter oficial de Navarra Capital, Gabinete de Relaciones Públicas Empresarial de Navarra. Contacto: redaccion@navarracapital.es', url='http://t.co/su2hIcyuXD', entities={'url': {'urls': [{'url': 'http://t.co/su2hIcyuXD', 'expanded_url': 'http://www.navarracapital.es', 'display_url': 'navarracapital.es', 'indices': [0, 22]}]}, 'description': {'urls': []}}, protected=False, followers_count=3542, friends_count=1632, listed_count=233, created_at=datetime.datetime(2014, 3, 15, 0, 55, 9), favourites_count=10623, utc_offset=7200, time_zone='Athens', geo_enabled=True, verified=False, statuses_count=33445, lang='es', contributors_enabled=False, is_translator=False, is_translation_enabled=False, profile_background_color='000000', profile_background_image_url='http://abs.twimg.com/images/themes/theme1/bg.png', profile_background_image_url_https='https://abs.twimg.com/images/themes/theme1/bg.png', profile_background_tile=False, profile_image_url='http://pbs.twimg.com/profile_images/495140985731440641/byhfga2n_normal.jpeg', profile_image_url_https='https://pbs.twimg.com/profile_images/495140985731440641/byhfga2n_normal.jpeg', profile_banner_url='https://pbs.twimg.com/profile_banners/2390124846/1411083695', profile_link_color='5D115A', profile_sidebar_border_color='000000', profile_sidebar_fill_color='000000', profile_text_color='000000', profile_use_background_image=False, has_extended_profile=False, default_profile=False, default_profile_image=False, following=False, follow_request_sent=False, notifications=False, translator_type='none'), user=User(_api=<tweepy.api.API object at 0x7f54f0599048>, _json={'id': 2390124846, 'id_str': '2390124846', 'name': 'Navarra Capital', 'screen_name': 'NavarraCapital', 'location': 'Pamplona', 'description': 'Twitter oficial de Navarra Capital, Gabinete de Relaciones Públicas Empresarial de Navarra. Contacto: redaccion@navarracapital.es', 'url': 'http://t.co/su2hIcyuXD', 'entities': {'url': {'urls': [{'url': 'http://t.co/su2hIcyuXD', 'expanded_url': 'http://www.navarracapital.es', 'display_url': 'navarracapital.es', 'indices': [0, 22]}]}, 'description': {'urls': []}}, 'protected': False, 'followers_count': 3542, 'friends_count': 1632, 'listed_count': 233, 'created_at': 'Sat Mar 15 00:55:09 +0000 2014', 'favourites_count': 10623, 'utc_offset': 7200, 'time_zone': 'Athens', 'geo_enabled': True, 'verified': False, 'statuses_count': 33445, 'lang': 'es', 'contributors_enabled': False, 'is_translator': False, 'is_translation_enabled': False, 'profile_background_color': '000000', 'profile_background_image_url': 'http://abs.twimg.com/images/themes/theme1/bg.png', 'profile_background_image_url_https': 'https://abs.twimg.com/images/themes/theme1/bg.png', 'profile_background_tile': False, 'profile_image_url': 'http://pbs.twimg.com/profile_images/495140985731440641/byhfga2n_normal.jpeg', 'profile_image_url_https': 'https://pbs.twimg.com/profile_images/495140985731440641/byhfga2n_normal.jpeg', 'profile_banner_url': 'https://pbs.twimg.com/profile_banners/2390124846/1411083695', 'profile_link_color': '5D115A', 'profile_sidebar_border_color': '000000', 'profile_sidebar_fill_color': '000000', 'profile_text_color': '000000', 'profile_use_background_image': False, 'has_extended_profile': False, 'default_profile': False, 'default_profile_image': False, 'following': False, 'follow_request_sent': False, 'notifications': False, 'translator_type': 'none'}, id=2390124846, id_str='2390124846', name='Navarra Capital', screen_name='NavarraCapital', location='Pamplona', description='Twitter oficial de Navarra Capital, Gabinete de Relaciones Públicas Empresarial de Navarra. Contacto: redaccion@navarracapital.es', url='http://t.co/su2hIcyuXD', entities={'url': {'urls': [{'url': 'http://t.co/su2hIcyuXD', 'expanded_url': 'http://www.navarracapital.es', 'display_url': 'navarracapital.es', 'indices': [0, 22]}]}, 'description': {'urls': []}}, protected=False, followers_count=3542, friends_count=1632, listed_count=233, created_at=datetime.datetime(2014, 3, 15, 0, 55, 9), favourites_count=10623, utc_offset=7200, time_zone='Athens', geo_enabled=True, verified=False, statuses_count=33445, lang='es', contributors_enabled=False, is_translator=False, is_translation_enabled=False, profile_background_color='000000', profile_background_image_url='http://abs.twimg.com/images/themes/theme1/bg.png', profile_background_image_url_https='https://abs.twimg.com/images/themes/theme1/bg.png', profile_background_tile=False, profile_image_url='http://pbs.twimg.com/profile_images/495140985731440641/byhfga2n_normal.jpeg', profile_image_url_https='https://pbs.twimg.com/profile_images/495140985731440641/byhfga2n_normal.jpeg', profile_banner_url='https://pbs.twimg.com/profile_banners/2390124846/1411083695', profile_link_color='5D115A', profile_sidebar_border_color='000000', profile_sidebar_fill_color='000000', profile_text_color='000000', profile_use_background_image=False, has_extended_profile=False, default_profile=False, default_profile_image=False, following=False, follow_request_sent=False, notifications=False, translator_type='none'), geo=None, coordinates=None, place=None, contributors=None, is_quote_status=False, retweet_count=0, favorite_count=0, favorited=False, retweeted=False, possibly_sensitive=False, lang='es')"
      ]
     },
     "execution_count": 17,
     "metadata": {},
     "output_type": "execute_result"
    }
   ],
   "source": [
    "searched_tweets[0]"
   ]
  },
  {
   "cell_type": "markdown",
   "metadata": {},
   "source": [
    "La salida del último comando puede resultar dificilmente legible. Sin embargo podemos leer el contenido de un modo menos doloroso si usamos la función `pprint()`."
   ]
  },
  {
   "cell_type": "code",
   "execution_count": 18,
   "metadata": {},
   "outputs": [
    {
     "name": "stdout",
     "output_type": "stream",
     "text": [
      "{'contributors': None,\n",
      " 'coordinates': None,\n",
      " 'created_at': 'Wed Dec 27 13:32:02 +0000 2017',\n",
      " 'entities': {'hashtags': [{'indices': [92, 98], 'text': '3PBio'},\n",
      "                           {'indices': [99, 113], 'text': 'biotecnologia'}],\n",
      "              'symbols': [],\n",
      "              'urls': [{'display_url': 'navarracapital.es/3p-bio-actor-c…',\n",
      "                        'expanded_url': 'http://navarracapital.es/3p-bio-actor-clave-dentro-de-la-patronal-espanola-de-bioempresas/',\n",
      "                        'indices': [68, 91],\n",
      "                        'url': 'https://t.co/GxvCnngz16'},\n",
      "                       {'display_url': 'twitter.com/i/web/status/9…',\n",
      "                        'expanded_url': 'https://twitter.com/i/web/status/946010785851068416',\n",
      "                        'indices': [115, 138],\n",
      "                        'url': 'https://t.co/SgOHlhjysJ'}],\n",
      "              'user_mentions': []},\n",
      " 'favorite_count': 0,\n",
      " 'favorited': False,\n",
      " 'geo': None,\n",
      " 'id': 946010785851068416,\n",
      " 'id_str': '946010785851068416',\n",
      " 'in_reply_to_screen_name': None,\n",
      " 'in_reply_to_status_id': None,\n",
      " 'in_reply_to_status_id_str': None,\n",
      " 'in_reply_to_user_id': None,\n",
      " 'in_reply_to_user_id_str': None,\n",
      " 'is_quote_status': False,\n",
      " 'lang': 'es',\n",
      " 'metadata': {'iso_language_code': 'es', 'result_type': 'recent'},\n",
      " 'place': None,\n",
      " 'possibly_sensitive': False,\n",
      " 'retweet_count': 0,\n",
      " 'retweeted': False,\n",
      " 'source': '<a href=\"http://coschedule.com\" rel=\"nofollow\">CoSchedule</a>',\n",
      " 'text': '3P Bio, \"actor clave\" dentro de la patronal española de Bioempresas '\n",
      "         'https://t.co/GxvCnngz16 #3PBio #biotecnologia… '\n",
      "         'https://t.co/SgOHlhjysJ',\n",
      " 'truncated': True,\n",
      " 'user': {'contributors_enabled': False,\n",
      "          'created_at': 'Sat Mar 15 00:55:09 +0000 2014',\n",
      "          'default_profile': False,\n",
      "          'default_profile_image': False,\n",
      "          'description': 'Twitter oficial de Navarra Capital, Gabinete de '\n",
      "                         'Relaciones Públicas Empresarial de Navarra. '\n",
      "                         'Contacto: redaccion@navarracapital.es',\n",
      "          'entities': {'description': {'urls': []},\n",
      "                       'url': {'urls': [{'display_url': 'navarracapital.es',\n",
      "                                         'expanded_url': 'http://www.navarracapital.es',\n",
      "                                         'indices': [0, 22],\n",
      "                                         'url': 'http://t.co/su2hIcyuXD'}]}},\n",
      "          'favourites_count': 10623,\n",
      "          'follow_request_sent': False,\n",
      "          'followers_count': 3542,\n",
      "          'following': False,\n",
      "          'friends_count': 1632,\n",
      "          'geo_enabled': True,\n",
      "          'has_extended_profile': False,\n",
      "          'id': 2390124846,\n",
      "          'id_str': '2390124846',\n",
      "          'is_translation_enabled': False,\n",
      "          'is_translator': False,\n",
      "          'lang': 'es',\n",
      "          'listed_count': 233,\n",
      "          'location': 'Pamplona',\n",
      "          'name': 'Navarra Capital',\n",
      "          'notifications': False,\n",
      "          'profile_background_color': '000000',\n",
      "          'profile_background_image_url': 'http://abs.twimg.com/images/themes/theme1/bg.png',\n",
      "          'profile_background_image_url_https': 'https://abs.twimg.com/images/themes/theme1/bg.png',\n",
      "          'profile_background_tile': False,\n",
      "          'profile_banner_url': 'https://pbs.twimg.com/profile_banners/2390124846/1411083695',\n",
      "          'profile_image_url': 'http://pbs.twimg.com/profile_images/495140985731440641/byhfga2n_normal.jpeg',\n",
      "          'profile_image_url_https': 'https://pbs.twimg.com/profile_images/495140985731440641/byhfga2n_normal.jpeg',\n",
      "          'profile_link_color': '5D115A',\n",
      "          'profile_sidebar_border_color': '000000',\n",
      "          'profile_sidebar_fill_color': '000000',\n",
      "          'profile_text_color': '000000',\n",
      "          'profile_use_background_image': False,\n",
      "          'protected': False,\n",
      "          'screen_name': 'NavarraCapital',\n",
      "          'statuses_count': 33445,\n",
      "          'time_zone': 'Athens',\n",
      "          'translator_type': 'none',\n",
      "          'url': 'http://t.co/su2hIcyuXD',\n",
      "          'utc_offset': 7200,\n",
      "          'verified': False}}\n"
     ]
    }
   ],
   "source": [
    "import json\n",
    "import pprint\n",
    "pprint.pprint(searched_tweets[0]._json)"
   ]
  },
  {
   "cell_type": "markdown",
   "metadata": {},
   "source": [
    "Podemos acceder a un gran número de información tanto del tuit como del usuario que lo creó. \n"
   ]
  },
  {
   "cell_type": "code",
   "execution_count": 19,
   "metadata": {
    "scrolled": true
   },
   "outputs": [
    {
     "name": "stdout",
     "output_type": "stream",
     "text": [
      "Fecha:  2017-12-27 13:32:02\n",
      "Usuario: @NavarraCapital\n",
      "Nombre:  Navarra Capital\n",
      "Descripción:  Twitter oficial de Navarra Capital, Gabinete de Relaciones Públicas Empresarial de Navarra. Contacto: redaccion@navarracapital.es\n",
      "Localización:  Pamplona\n",
      "Verificado:  False\n",
      "Seguidores:  3542\n",
      "Texto:  3P Bio, \"actor clave\" dentro de la patronal española de Bioempresas https://t.co/GxvCnngz16 #3PBio #biotecnologia… https://t.co/SgOHlhjysJ\n",
      "RT:  0\n",
      "Favs:  0\n"
     ]
    }
   ],
   "source": [
    "print('Fecha: ', searched_tweets[0].created_at)\n",
    "print('Usuario: @' + searched_tweets[0].user.screen_name)\n",
    "print('Nombre: ', searched_tweets[0].user.name)\n",
    "print('Descripción: ', searched_tweets[0].user.description)\n",
    "print('Localización: ', searched_tweets[0].user.location)\n",
    "print('Verificado: ', searched_tweets[0].user.verified)\n",
    "print('Seguidores: ', searched_tweets[0].user.followers_count)\n",
    "print('Texto: ', searched_tweets[0].text)\n",
    "print('RT: ', searched_tweets[0].retweet_count)\n",
    "print('Favs: ', searched_tweets[0].favorite_count)"
   ]
  },
  {
   "cell_type": "code",
   "execution_count": 20,
   "metadata": {},
   "outputs": [],
   "source": [
    "columns = ['Usuario','Nombre', 'Fecha', 'Tuit', 'RT', 'Fav', 'Verificado']\n",
    "df = pd.DataFrame(columns=columns)\n",
    "for tuit in searched_tweets:\n",
    "    Fecha = tuit.created_at\n",
    "    Usuario = tuit.user.screen_name\n",
    "    Nombre = tuit.user.name\n",
    "    Verificado= tuit.user.verified\n",
    "    Texto= tuit.text\n",
    "    RT= tuit.retweet_count\n",
    "    Favs= tuit.favorite_count\n",
    "    df.loc[len(df)]=[Usuario, Nombre, Fecha, Texto, RT, Favs, Verificado ] \n",
    "    "
   ]
  },
  {
   "cell_type": "code",
   "execution_count": 21,
   "metadata": {},
   "outputs": [
    {
     "data": {
      "text/html": [
       "<div>\n",
       "<style scoped>\n",
       "    .dataframe tbody tr th:only-of-type {\n",
       "        vertical-align: middle;\n",
       "    }\n",
       "\n",
       "    .dataframe tbody tr th {\n",
       "        vertical-align: top;\n",
       "    }\n",
       "\n",
       "    .dataframe thead th {\n",
       "        text-align: right;\n",
       "    }\n",
       "</style>\n",
       "<table border=\"1\" class=\"dataframe\">\n",
       "  <thead>\n",
       "    <tr style=\"text-align: right;\">\n",
       "      <th></th>\n",
       "      <th>Usuario</th>\n",
       "      <th>Nombre</th>\n",
       "      <th>Fecha</th>\n",
       "      <th>Tuit</th>\n",
       "      <th>RT</th>\n",
       "      <th>Fav</th>\n",
       "      <th>Verificado</th>\n",
       "    </tr>\n",
       "  </thead>\n",
       "  <tbody>\n",
       "    <tr>\n",
       "      <th>0</th>\n",
       "      <td>NavarraCapital</td>\n",
       "      <td>Navarra Capital</td>\n",
       "      <td>2017-12-27 13:32:02</td>\n",
       "      <td>3P Bio, \"actor clave\" dentro de la patronal es...</td>\n",
       "      <td>0</td>\n",
       "      <td>0</td>\n",
       "      <td>False</td>\n",
       "    </tr>\n",
       "    <tr>\n",
       "      <th>1</th>\n",
       "      <td>CangasPilar</td>\n",
       "      <td>Pilar Cangas Mtnez</td>\n",
       "      <td>2017-12-27 13:31:49</td>\n",
       "      <td>¿Conoce los principales resultados de la biote...</td>\n",
       "      <td>0</td>\n",
       "      <td>0</td>\n",
       "      <td>False</td>\n",
       "    </tr>\n",
       "    <tr>\n",
       "      <th>2</th>\n",
       "      <td>TeleDiagnosis1</td>\n",
       "      <td>TeleDiagnosis</td>\n",
       "      <td>2017-12-27 13:30:58</td>\n",
       "      <td>En el evento realizado en la ciudad, #Clúster ...</td>\n",
       "      <td>0</td>\n",
       "      <td>0</td>\n",
       "      <td>False</td>\n",
       "    </tr>\n",
       "    <tr>\n",
       "      <th>3</th>\n",
       "      <td>fundacionantama</td>\n",
       "      <td>Fundación Antama</td>\n",
       "      <td>2017-12-27 13:10:07</td>\n",
       "      <td>#LoMásVisto2017 Beneficios del maíz Bt en Espa...</td>\n",
       "      <td>1</td>\n",
       "      <td>0</td>\n",
       "      <td>False</td>\n",
       "    </tr>\n",
       "    <tr>\n",
       "      <th>4</th>\n",
       "      <td>juanrabio</td>\n",
       "      <td>Juan Ramón Rodríguez</td>\n",
       "      <td>2017-12-27 13:07:19</td>\n",
       "      <td>2,5 millones para impulsar  la biotecnología a...</td>\n",
       "      <td>0</td>\n",
       "      <td>0</td>\n",
       "      <td>False</td>\n",
       "    </tr>\n",
       "  </tbody>\n",
       "</table>\n",
       "</div>"
      ],
      "text/plain": [
       "           Usuario                Nombre               Fecha  \\\n",
       "0   NavarraCapital       Navarra Capital 2017-12-27 13:32:02   \n",
       "1      CangasPilar    Pilar Cangas Mtnez 2017-12-27 13:31:49   \n",
       "2   TeleDiagnosis1         TeleDiagnosis 2017-12-27 13:30:58   \n",
       "3  fundacionantama      Fundación Antama 2017-12-27 13:10:07   \n",
       "4        juanrabio  Juan Ramón Rodríguez 2017-12-27 13:07:19   \n",
       "\n",
       "                                                Tuit RT Fav Verificado  \n",
       "0  3P Bio, \"actor clave\" dentro de la patronal es...  0   0      False  \n",
       "1  ¿Conoce los principales resultados de la biote...  0   0      False  \n",
       "2  En el evento realizado en la ciudad, #Clúster ...  0   0      False  \n",
       "3  #LoMásVisto2017 Beneficios del maíz Bt en Espa...  1   0      False  \n",
       "4  2,5 millones para impulsar  la biotecnología a...  0   0      False  "
      ]
     },
     "execution_count": 21,
     "metadata": {},
     "output_type": "execute_result"
    }
   ],
   "source": [
    "df.head()"
   ]
  },
  {
   "cell_type": "code",
   "execution_count": 22,
   "metadata": {},
   "outputs": [],
   "source": [
    "df.to_pickle('data/biotecnologia.pkl')"
   ]
  },
  {
   "cell_type": "markdown",
   "metadata": {},
   "source": [
    "Siguiendo el sistema anterior se realizaron las siguientes busquedas:\n",
    "   \n",
    "- vacunas (\"Genetically modified\" OR GMO OR transgenic) AND (vaccine OR vaccination) lang:en exclude:retweets\n",
    "- medicinas (\"Genetically modified\" OR GMO OR transgenic) AND (medicina OR drug) lang:en exclude:retweets\n",
    "- alimentos funcionales (\"Genetically modified\" OR GMO OR transgenic) AND (\"functional food\") lang:en exclude:retweets\n",
    "- arroz dorado (\"Genetically modified\" OR GMO OR transgenic) AND (\"golden rice\") lang:en exclude:retweets\n",
    "- cultivos (\"Genetically modified\" OR GMO OR transgenic) AND (crops) lang:en exclude:retweets\n",
    "- pesticidas (\"Genetically modified\" OR GMO OR transgenic) AND (pesticides) lang:en exclude:retweets\n",
    "- medio ambiente (\"Genetically modified\" OR GMO OR transgenic) AND (environment) lang:en exclude:retweets\n",
    "- bioremediación (\"Genetically modified\" OR GMO OR transgenic) AND (bioremediation) lang:en exclude:retweets\n",
    "- cancer (\"Genetically modified\" OR GMO OR transgenic) AND (cancer) lang:en exclude:retweets\n",
    "- alergias (\"Genetically modified\" OR GMO OR transgenic) AND (allergy OR allergies) lang:en exclude:retweets\n",
    "- Tranferencia de genes (\"Genetically modified\" OR GMO OR transgenic) AND (\"gene transfer\") lang:en exclude:retweets\n",
    "- Desigualdad (\"Genetically modified\" OR GMO OR transgenic) AND (inequality) lang:en exclude:retweets\n",
    "- Sociedad (\"Genetically modified\" OR GMO OR transgenic) AND (society) lang:en exclude:retweets\n",
    "- Biodiversidad (\"Genetically modified\" OR GMO OR transgenic) AND (biodiversity) lang:en exclude:retweets\n",
    "   \n",
    "Además, usando los datos en directo, se han filtrado los siguientes tuits:   \n",
    "\n",
    "    (\"Genetically modified\" OR GMO OR transgenic) lang:en exclude:retweets"
   ]
  },
  {
   "cell_type": "code",
   "execution_count": null,
   "metadata": {},
   "outputs": [],
   "source": []
  }
 ],
 "metadata": {
  "kernelspec": {
   "display_name": "Python 3",
   "language": "python",
   "name": "python3"
  },
  "language_info": {
   "codemirror_mode": {
    "name": "ipython",
    "version": 3
   },
   "file_extension": ".py",
   "mimetype": "text/x-python",
   "name": "python",
   "nbconvert_exporter": "python",
   "pygments_lexer": "ipython3",
   "version": "3.6.1"
  }
 },
 "nbformat": 4,
 "nbformat_minor": 2
}
