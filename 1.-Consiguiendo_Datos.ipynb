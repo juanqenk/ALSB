{
 "cells": [
  {
   "cell_type": "markdown",
   "metadata": {},
   "source": [
    "# Consiguiendo los datos con Tweepy\n",
    "\n",
    "**Tweepy** es una libreria escrita en `Python` para manejar la red social `Twitter` de una forma sencilla y directa. Con [Tweepy](http://www.tweepy.org/) podeis acceder a la `API` de Twitter y realizar busquedas, actualizar vuestro perfil o analizar a vuestros seguidores.\n",
    "\n",
    "Tweepy es relativamente intuitiva y de fácil uso. Lo primero que necesitamos es instalar la librería en python, que como la mayoría de librerías puedes instalar con `pip` o `easy_install`. Abrid vuestra consola de comandos e instalad Tweepy con alguna de las siguientes órdenes:\n",
    "\n",
    "**Instalación con pip:**\n",
    "```bash\n",
    "pip search tweepy # para buscar si esta en los repositorios\n",
    "pip install tweepy\n",
    "```\n",
    "**Instalación con easy_install:**\n",
    "```bash  \n",
    "easy_install tweepy\n",
    "```\n",
    "Tened en cuenta que necesitais registrar vuestra aplicación en Twitter para comunicaros con la API, concretamente en la web de [Twitter para desarrolladores](https://apps.twitter.com/). Una vez os habeis registrado con vuestra cuenta y elegido los permisos correspondientes para la app, en `Keys and Access Tokens` podeis encontrar dos claves; API_key y API secret (en adelante `consumer_key` y `consumer_secret`, respectivamente). Necesitareis además generar los tokens; `access_token` y `access_secret`. Estas cuatro claves son necesarias para comunicaros con la red social. \n",
    "\n",
    "Con tal de no tener que copiar las claves cada vez que intenteis hacer una busqueda, os recomiendo guardarlas en un archivo vacio llamado `passw.py`. El contenido de este debe ser solo vuestras claves siguiendo este formato:\n",
    "```python\n",
    "consumer_key = 'sustituid el contenido de estas comillas por vuestro consumer key'\n",
    "consumer_secret = 'sustituid el contenido de estas comillas por vuestro consumer secret'\n",
    "access_token = 'sustituid el contenido de estas comillas por vuestro access token'\n",
    "access_secret = 'sustituid el contenido de estas comillas por vuestro access secret'\n",
    "```\n",
    "Una vez hemos instalado Tweepy y generado el archivo con las contraseñas (el cual guardaremos en la carpeta de trabajo) podemos importarlos a nuestro script para su uso. "
   ]
  },
  {
   "cell_type": "code",
   "execution_count": 28,
   "metadata": {},
   "outputs": [],
   "source": [
    "import tweepy\n",
    "from passw import consumer_key, consumer_secret, access_token, access_secret\n",
    "import numpy as np\n",
    "import pandas as pd"
   ]
  },
  {
   "cell_type": "markdown",
   "metadata": {
    "collapsed": true
   },
   "source": [
    "Ejecutando el código que se encuentra a continuación nos comunicaremos con Twitter para mandarle nuestras credenciales. Twitter comprobará que hemos creado correctamente una aplicación y obtendremos una autorización para conectarnos con la API. Finalmente obtenemos un objeto llamado `api` sobre el cual podemos ejecutar las diferentes funciones que nos ofrece Tweepy. "
   ]
  },
  {
   "cell_type": "code",
   "execution_count": 7,
   "metadata": {},
   "outputs": [],
   "source": [
    "auth = tweepy.OAuthHandler(consumer_key, consumer_secret)\n",
    "auth.set_access_token(access_token, access_secret)\n",
    "\n",
    "api = tweepy.API(auth)"
   ]
  },
  {
   "cell_type": "markdown",
   "metadata": {},
   "source": [
    "Una vez hemos accedido, hay muchas cosas que podemos hacer:\n",
    "- enviar un tuit\n",
    "- seguir o dejar de seguir a otros\n",
    "- actualizar el perfil\n",
    "- obtener información de un usuario\n",
    "- obtener todos los tuits de un usuario\n",
    "- ver todos los seguidores de otro usuario\n",
    "- hacer búsquedas de tuits\n",
    "- guardar todos los tuits que van apareciendo en directo\n",
    "- ...   \n",
    "\n",
    "A modo de demostración, podemos obtener de manera sencilla la siguiente información:"
   ]
  },
  {
   "cell_type": "code",
   "execution_count": 18,
   "metadata": {
    "scrolled": true
   },
   "outputs": [
    {
     "name": "stdout",
     "output_type": "stream",
     "text": [
      "Nombre de Usuario:  juan_qenk\n",
      "Fecha de creación: 2012-04-20 16:06:21\n",
      "Descripción: Biólogo capaz de hacer la fotosíntesis incluso en días nublados. Habla más de 100 idiomas, todos inventados por él en una sola noche.\n",
      "Número de seguidores: 921\n",
      "Localización: Agost\n"
     ]
    }
   ],
   "source": [
    "usuario = api.get_user('juan_qenk')\n",
    "print('Nombre de Usuario: ', usuario.screen_name)\n",
    "print('Fecha de creación:', usuario.created_at)\n",
    "print('Descripción:', usuario.description)\n",
    "print('Número de seguidores:', usuario.followers_count)\n",
    "print('Localización:', usuario.location)"
   ]
  },
  {
   "cell_type": "markdown",
   "metadata": {},
   "source": [
    "Twitter tiene una normativa que regula la frecuencia máxima de peticiones, así como la cantidad máxima de tweets que se pueden extraer, [rate limiting](https://developer.twitter.com/en/docs/basics/rate-limits). Es importante cumplir estos límites para evitar ser bloqueado.\n",
    "\n",
    "Para el trabajo de análisis que se quiere realizar, es conveniente recuperar tantos tweets como sea posible, al menos unos 1000 por búsqueda. Para ello podemos usar el objeto `cursor` de Tweepy. Este objeto nos permite paginar los resultados ajustandonos a un número de tuits máximo que podemos elegir. "
   ]
  },
  {
   "cell_type": "code",
   "execution_count": 19,
   "metadata": {},
   "outputs": [],
   "source": [
    "query = 'biotechnology'\n",
    "max_tweets = 1000\n",
    "searched_tweets = [status for status in tweepy.Cursor(api.search, q=query).items(max_tweets)]"
   ]
  },
  {
   "cell_type": "markdown",
   "metadata": {},
   "source": [
    "Acabamos de generar una lista con todos los tuits que coinciden con la palabra *biotechnology*. Hemos ajustado el número máximo de tuits en 1000, con lo que, si hemos cumplido todos los requisitos que exige la API, \n",
    "```python \n",
    "len(searched_tweets) == 1000\n",
    "```\n"
   ]
  },
  {
   "cell_type": "markdown",
   "metadata": {},
   "source": [
    "Esta lista de tuits no contiene solo el texto del tuit, es un objeto complejo que tiene mucha información. Si tomamos el primer tuit de la lista, `searched_tweets[0]`, y lo imprimimos en pantalla, podemos ver que toda la información se encuentra en formato json. Json es un formato de texto ligero para el intercambio de datos muy común en internet. "
   ]
  },
  {
   "cell_type": "code",
   "execution_count": 21,
   "metadata": {},
   "outputs": [
    {
     "data": {
      "text/plain": [
       "Status(_api=<tweepy.api.API object at 0x7f19b4ea2400>, _json={'created_at': 'Tue Dec 26 18:59:27 +0000 2017', 'id': 945730796517777408, 'id_str': '945730796517777408', 'text': \"RT @VeeKaMajozi: Hi y'all.\\nI have ND in Biotechnology with 2 years experience. Please 🙏 RT for me and help me find a job. I'm willing to re…\", 'truncated': False, 'entities': {'hashtags': [], 'symbols': [], 'user_mentions': [{'screen_name': 'VeeKaMajozi', 'name': 'IG:vee_majozi', 'id': 1607599200, 'id_str': '1607599200', 'indices': [3, 15]}], 'urls': []}, 'metadata': {'iso_language_code': 'en', 'result_type': 'recent'}, 'source': '<a href=\"https://mobile.twitter.com\" rel=\"nofollow\">Twitter Lite</a>', 'in_reply_to_status_id': None, 'in_reply_to_status_id_str': None, 'in_reply_to_user_id': None, 'in_reply_to_user_id_str': None, 'in_reply_to_screen_name': None, 'user': {'id': 817700425457664001, 'id_str': '817700425457664001', 'name': 'Lumkile ka xhoba', 'screen_name': 'MosheLumkile', 'location': 'South africa', 'description': 'Confident and visionary, politically and business minded', 'url': None, 'entities': {'description': {'urls': []}}, 'protected': False, 'followers_count': 283, 'friends_count': 108, 'listed_count': 4, 'created_at': 'Sat Jan 07 11:52:28 +0000 2017', 'favourites_count': 12828, 'utc_offset': None, 'time_zone': None, 'geo_enabled': False, 'verified': False, 'statuses_count': 19426, 'lang': 'en', 'contributors_enabled': False, 'is_translator': False, 'is_translation_enabled': False, 'profile_background_color': 'F5F8FA', 'profile_background_image_url': None, 'profile_background_image_url_https': None, 'profile_background_tile': False, 'profile_image_url': 'http://pbs.twimg.com/profile_images/920283105835044864/FGI4UtBo_normal.jpg', 'profile_image_url_https': 'https://pbs.twimg.com/profile_images/920283105835044864/FGI4UtBo_normal.jpg', 'profile_banner_url': 'https://pbs.twimg.com/profile_banners/817700425457664001/1509039626', 'profile_link_color': '1DA1F2', 'profile_sidebar_border_color': 'C0DEED', 'profile_sidebar_fill_color': 'DDEEF6', 'profile_text_color': '333333', 'profile_use_background_image': True, 'has_extended_profile': False, 'default_profile': True, 'default_profile_image': False, 'following': False, 'follow_request_sent': False, 'notifications': False, 'translator_type': 'none'}, 'geo': None, 'coordinates': None, 'place': None, 'contributors': None, 'retweeted_status': {'created_at': 'Tue Dec 26 17:53:53 +0000 2017', 'id': 945714296226492416, 'id_str': '945714296226492416', 'text': \"Hi y'all.\\nI have ND in Biotechnology with 2 years experience. Please 🙏 RT for me and help me find a job. I'm willin… https://t.co/1GBx4evTMC\", 'truncated': True, 'entities': {'hashtags': [], 'symbols': [], 'user_mentions': [], 'urls': [{'url': 'https://t.co/1GBx4evTMC', 'expanded_url': 'https://twitter.com/i/web/status/945714296226492416', 'display_url': 'twitter.com/i/web/status/9…', 'indices': [117, 140]}]}, 'metadata': {'iso_language_code': 'en', 'result_type': 'recent'}, 'source': '<a href=\"http://twitter.com/download/android\" rel=\"nofollow\">Twitter for Android</a>', 'in_reply_to_status_id': None, 'in_reply_to_status_id_str': None, 'in_reply_to_user_id': None, 'in_reply_to_user_id_str': None, 'in_reply_to_screen_name': None, 'user': {'id': 1607599200, 'id_str': '1607599200', 'name': 'IG:vee_majozi', 'screen_name': 'VeeKaMajozi', 'location': 'Durban, South Africa', 'description': \"• Ngiyintombi yom'Zulu ♕ • GOD is Love😍 • Very Humble • 🎓Biotechnologist  • I Love Hard• My Smile is Beautiful😍• No neg vibes please!!•\", 'url': None, 'entities': {'description': {'urls': []}}, 'protected': False, 'followers_count': 1817, 'friends_count': 1422, 'listed_count': 2, 'created_at': 'Sat Jul 20 06:41:29 +0000 2013', 'favourites_count': 9247, 'utc_offset': None, 'time_zone': None, 'geo_enabled': True, 'verified': False, 'statuses_count': 12786, 'lang': 'en', 'contributors_enabled': False, 'is_translator': False, 'is_translation_enabled': False, 'profile_background_color': 'C0DEED', 'profile_background_image_url': 'http://abs.twimg.com/images/themes/theme1/bg.png', 'profile_background_image_url_https': 'https://abs.twimg.com/images/themes/theme1/bg.png', 'profile_background_tile': False, 'profile_image_url': 'http://pbs.twimg.com/profile_images/935542663893352448/CQ-VFIBS_normal.jpg', 'profile_image_url_https': 'https://pbs.twimg.com/profile_images/935542663893352448/CQ-VFIBS_normal.jpg', 'profile_link_color': '1DA1F2', 'profile_sidebar_border_color': 'C0DEED', 'profile_sidebar_fill_color': 'DDEEF6', 'profile_text_color': '333333', 'profile_use_background_image': True, 'has_extended_profile': True, 'default_profile': True, 'default_profile_image': False, 'following': False, 'follow_request_sent': False, 'notifications': False, 'translator_type': 'none'}, 'geo': None, 'coordinates': None, 'place': None, 'contributors': None, 'is_quote_status': False, 'retweet_count': 88, 'favorite_count': 25, 'favorited': False, 'retweeted': False, 'possibly_sensitive': False, 'lang': 'en'}, 'is_quote_status': False, 'retweet_count': 88, 'favorite_count': 0, 'favorited': False, 'retweeted': False, 'lang': 'en'}, created_at=datetime.datetime(2017, 12, 26, 18, 59, 27), id=945730796517777408, id_str='945730796517777408', text=\"RT @VeeKaMajozi: Hi y'all.\\nI have ND in Biotechnology with 2 years experience. Please 🙏 RT for me and help me find a job. I'm willing to re…\", truncated=False, entities={'hashtags': [], 'symbols': [], 'user_mentions': [{'screen_name': 'VeeKaMajozi', 'name': 'IG:vee_majozi', 'id': 1607599200, 'id_str': '1607599200', 'indices': [3, 15]}], 'urls': []}, metadata={'iso_language_code': 'en', 'result_type': 'recent'}, source='Twitter Lite', source_url='https://mobile.twitter.com', in_reply_to_status_id=None, in_reply_to_status_id_str=None, in_reply_to_user_id=None, in_reply_to_user_id_str=None, in_reply_to_screen_name=None, author=User(_api=<tweepy.api.API object at 0x7f19b4ea2400>, _json={'id': 817700425457664001, 'id_str': '817700425457664001', 'name': 'Lumkile ka xhoba', 'screen_name': 'MosheLumkile', 'location': 'South africa', 'description': 'Confident and visionary, politically and business minded', 'url': None, 'entities': {'description': {'urls': []}}, 'protected': False, 'followers_count': 283, 'friends_count': 108, 'listed_count': 4, 'created_at': 'Sat Jan 07 11:52:28 +0000 2017', 'favourites_count': 12828, 'utc_offset': None, 'time_zone': None, 'geo_enabled': False, 'verified': False, 'statuses_count': 19426, 'lang': 'en', 'contributors_enabled': False, 'is_translator': False, 'is_translation_enabled': False, 'profile_background_color': 'F5F8FA', 'profile_background_image_url': None, 'profile_background_image_url_https': None, 'profile_background_tile': False, 'profile_image_url': 'http://pbs.twimg.com/profile_images/920283105835044864/FGI4UtBo_normal.jpg', 'profile_image_url_https': 'https://pbs.twimg.com/profile_images/920283105835044864/FGI4UtBo_normal.jpg', 'profile_banner_url': 'https://pbs.twimg.com/profile_banners/817700425457664001/1509039626', 'profile_link_color': '1DA1F2', 'profile_sidebar_border_color': 'C0DEED', 'profile_sidebar_fill_color': 'DDEEF6', 'profile_text_color': '333333', 'profile_use_background_image': True, 'has_extended_profile': False, 'default_profile': True, 'default_profile_image': False, 'following': False, 'follow_request_sent': False, 'notifications': False, 'translator_type': 'none'}, id=817700425457664001, id_str='817700425457664001', name='Lumkile ka xhoba', screen_name='MosheLumkile', location='South africa', description='Confident and visionary, politically and business minded', url=None, entities={'description': {'urls': []}}, protected=False, followers_count=283, friends_count=108, listed_count=4, created_at=datetime.datetime(2017, 1, 7, 11, 52, 28), favourites_count=12828, utc_offset=None, time_zone=None, geo_enabled=False, verified=False, statuses_count=19426, lang='en', contributors_enabled=False, is_translator=False, is_translation_enabled=False, profile_background_color='F5F8FA', profile_background_image_url=None, profile_background_image_url_https=None, profile_background_tile=False, profile_image_url='http://pbs.twimg.com/profile_images/920283105835044864/FGI4UtBo_normal.jpg', profile_image_url_https='https://pbs.twimg.com/profile_images/920283105835044864/FGI4UtBo_normal.jpg', profile_banner_url='https://pbs.twimg.com/profile_banners/817700425457664001/1509039626', profile_link_color='1DA1F2', profile_sidebar_border_color='C0DEED', profile_sidebar_fill_color='DDEEF6', profile_text_color='333333', profile_use_background_image=True, has_extended_profile=False, default_profile=True, default_profile_image=False, following=False, follow_request_sent=False, notifications=False, translator_type='none'), user=User(_api=<tweepy.api.API object at 0x7f19b4ea2400>, _json={'id': 817700425457664001, 'id_str': '817700425457664001', 'name': 'Lumkile ka xhoba', 'screen_name': 'MosheLumkile', 'location': 'South africa', 'description': 'Confident and visionary, politically and business minded', 'url': None, 'entities': {'description': {'urls': []}}, 'protected': False, 'followers_count': 283, 'friends_count': 108, 'listed_count': 4, 'created_at': 'Sat Jan 07 11:52:28 +0000 2017', 'favourites_count': 12828, 'utc_offset': None, 'time_zone': None, 'geo_enabled': False, 'verified': False, 'statuses_count': 19426, 'lang': 'en', 'contributors_enabled': False, 'is_translator': False, 'is_translation_enabled': False, 'profile_background_color': 'F5F8FA', 'profile_background_image_url': None, 'profile_background_image_url_https': None, 'profile_background_tile': False, 'profile_image_url': 'http://pbs.twimg.com/profile_images/920283105835044864/FGI4UtBo_normal.jpg', 'profile_image_url_https': 'https://pbs.twimg.com/profile_images/920283105835044864/FGI4UtBo_normal.jpg', 'profile_banner_url': 'https://pbs.twimg.com/profile_banners/817700425457664001/1509039626', 'profile_link_color': '1DA1F2', 'profile_sidebar_border_color': 'C0DEED', 'profile_sidebar_fill_color': 'DDEEF6', 'profile_text_color': '333333', 'profile_use_background_image': True, 'has_extended_profile': False, 'default_profile': True, 'default_profile_image': False, 'following': False, 'follow_request_sent': False, 'notifications': False, 'translator_type': 'none'}, id=817700425457664001, id_str='817700425457664001', name='Lumkile ka xhoba', screen_name='MosheLumkile', location='South africa', description='Confident and visionary, politically and business minded', url=None, entities={'description': {'urls': []}}, protected=False, followers_count=283, friends_count=108, listed_count=4, created_at=datetime.datetime(2017, 1, 7, 11, 52, 28), favourites_count=12828, utc_offset=None, time_zone=None, geo_enabled=False, verified=False, statuses_count=19426, lang='en', contributors_enabled=False, is_translator=False, is_translation_enabled=False, profile_background_color='F5F8FA', profile_background_image_url=None, profile_background_image_url_https=None, profile_background_tile=False, profile_image_url='http://pbs.twimg.com/profile_images/920283105835044864/FGI4UtBo_normal.jpg', profile_image_url_https='https://pbs.twimg.com/profile_images/920283105835044864/FGI4UtBo_normal.jpg', profile_banner_url='https://pbs.twimg.com/profile_banners/817700425457664001/1509039626', profile_link_color='1DA1F2', profile_sidebar_border_color='C0DEED', profile_sidebar_fill_color='DDEEF6', profile_text_color='333333', profile_use_background_image=True, has_extended_profile=False, default_profile=True, default_profile_image=False, following=False, follow_request_sent=False, notifications=False, translator_type='none'), geo=None, coordinates=None, place=None, contributors=None, retweeted_status=Status(_api=<tweepy.api.API object at 0x7f19b4ea2400>, _json={'created_at': 'Tue Dec 26 17:53:53 +0000 2017', 'id': 945714296226492416, 'id_str': '945714296226492416', 'text': \"Hi y'all.\\nI have ND in Biotechnology with 2 years experience. Please 🙏 RT for me and help me find a job. I'm willin… https://t.co/1GBx4evTMC\", 'truncated': True, 'entities': {'hashtags': [], 'symbols': [], 'user_mentions': [], 'urls': [{'url': 'https://t.co/1GBx4evTMC', 'expanded_url': 'https://twitter.com/i/web/status/945714296226492416', 'display_url': 'twitter.com/i/web/status/9…', 'indices': [117, 140]}]}, 'metadata': {'iso_language_code': 'en', 'result_type': 'recent'}, 'source': '<a href=\"http://twitter.com/download/android\" rel=\"nofollow\">Twitter for Android</a>', 'in_reply_to_status_id': None, 'in_reply_to_status_id_str': None, 'in_reply_to_user_id': None, 'in_reply_to_user_id_str': None, 'in_reply_to_screen_name': None, 'user': {'id': 1607599200, 'id_str': '1607599200', 'name': 'IG:vee_majozi', 'screen_name': 'VeeKaMajozi', 'location': 'Durban, South Africa', 'description': \"• Ngiyintombi yom'Zulu ♕ • GOD is Love😍 • Very Humble • 🎓Biotechnologist  • I Love Hard• My Smile is Beautiful😍• No neg vibes please!!•\", 'url': None, 'entities': {'description': {'urls': []}}, 'protected': False, 'followers_count': 1817, 'friends_count': 1422, 'listed_count': 2, 'created_at': 'Sat Jul 20 06:41:29 +0000 2013', 'favourites_count': 9247, 'utc_offset': None, 'time_zone': None, 'geo_enabled': True, 'verified': False, 'statuses_count': 12786, 'lang': 'en', 'contributors_enabled': False, 'is_translator': False, 'is_translation_enabled': False, 'profile_background_color': 'C0DEED', 'profile_background_image_url': 'http://abs.twimg.com/images/themes/theme1/bg.png', 'profile_background_image_url_https': 'https://abs.twimg.com/images/themes/theme1/bg.png', 'profile_background_tile': False, 'profile_image_url': 'http://pbs.twimg.com/profile_images/935542663893352448/CQ-VFIBS_normal.jpg', 'profile_image_url_https': 'https://pbs.twimg.com/profile_images/935542663893352448/CQ-VFIBS_normal.jpg', 'profile_link_color': '1DA1F2', 'profile_sidebar_border_color': 'C0DEED', 'profile_sidebar_fill_color': 'DDEEF6', 'profile_text_color': '333333', 'profile_use_background_image': True, 'has_extended_profile': True, 'default_profile': True, 'default_profile_image': False, 'following': False, 'follow_request_sent': False, 'notifications': False, 'translator_type': 'none'}, 'geo': None, 'coordinates': None, 'place': None, 'contributors': None, 'is_quote_status': False, 'retweet_count': 88, 'favorite_count': 25, 'favorited': False, 'retweeted': False, 'possibly_sensitive': False, 'lang': 'en'}, created_at=datetime.datetime(2017, 12, 26, 17, 53, 53), id=945714296226492416, id_str='945714296226492416', text=\"Hi y'all.\\nI have ND in Biotechnology with 2 years experience. Please 🙏 RT for me and help me find a job. I'm willin… https://t.co/1GBx4evTMC\", truncated=True, entities={'hashtags': [], 'symbols': [], 'user_mentions': [], 'urls': [{'url': 'https://t.co/1GBx4evTMC', 'expanded_url': 'https://twitter.com/i/web/status/945714296226492416', 'display_url': 'twitter.com/i/web/status/9…', 'indices': [117, 140]}]}, metadata={'iso_language_code': 'en', 'result_type': 'recent'}, source='Twitter for Android', source_url='http://twitter.com/download/android', in_reply_to_status_id=None, in_reply_to_status_id_str=None, in_reply_to_user_id=None, in_reply_to_user_id_str=None, in_reply_to_screen_name=None, author=User(_api=<tweepy.api.API object at 0x7f19b4ea2400>, _json={'id': 1607599200, 'id_str': '1607599200', 'name': 'IG:vee_majozi', 'screen_name': 'VeeKaMajozi', 'location': 'Durban, South Africa', 'description': \"• Ngiyintombi yom'Zulu ♕ • GOD is Love😍 • Very Humble • 🎓Biotechnologist  • I Love Hard• My Smile is Beautiful😍• No neg vibes please!!•\", 'url': None, 'entities': {'description': {'urls': []}}, 'protected': False, 'followers_count': 1817, 'friends_count': 1422, 'listed_count': 2, 'created_at': 'Sat Jul 20 06:41:29 +0000 2013', 'favourites_count': 9247, 'utc_offset': None, 'time_zone': None, 'geo_enabled': True, 'verified': False, 'statuses_count': 12786, 'lang': 'en', 'contributors_enabled': False, 'is_translator': False, 'is_translation_enabled': False, 'profile_background_color': 'C0DEED', 'profile_background_image_url': 'http://abs.twimg.com/images/themes/theme1/bg.png', 'profile_background_image_url_https': 'https://abs.twimg.com/images/themes/theme1/bg.png', 'profile_background_tile': False, 'profile_image_url': 'http://pbs.twimg.com/profile_images/935542663893352448/CQ-VFIBS_normal.jpg', 'profile_image_url_https': 'https://pbs.twimg.com/profile_images/935542663893352448/CQ-VFIBS_normal.jpg', 'profile_link_color': '1DA1F2', 'profile_sidebar_border_color': 'C0DEED', 'profile_sidebar_fill_color': 'DDEEF6', 'profile_text_color': '333333', 'profile_use_background_image': True, 'has_extended_profile': True, 'default_profile': True, 'default_profile_image': False, 'following': False, 'follow_request_sent': False, 'notifications': False, 'translator_type': 'none'}, id=1607599200, id_str='1607599200', name='IG:vee_majozi', screen_name='VeeKaMajozi', location='Durban, South Africa', description=\"• Ngiyintombi yom'Zulu ♕ • GOD is Love😍 • Very Humble • 🎓Biotechnologist  • I Love Hard• My Smile is Beautiful😍• No neg vibes please!!•\", url=None, entities={'description': {'urls': []}}, protected=False, followers_count=1817, friends_count=1422, listed_count=2, created_at=datetime.datetime(2013, 7, 20, 6, 41, 29), favourites_count=9247, utc_offset=None, time_zone=None, geo_enabled=True, verified=False, statuses_count=12786, lang='en', contributors_enabled=False, is_translator=False, is_translation_enabled=False, profile_background_color='C0DEED', profile_background_image_url='http://abs.twimg.com/images/themes/theme1/bg.png', profile_background_image_url_https='https://abs.twimg.com/images/themes/theme1/bg.png', profile_background_tile=False, profile_image_url='http://pbs.twimg.com/profile_images/935542663893352448/CQ-VFIBS_normal.jpg', profile_image_url_https='https://pbs.twimg.com/profile_images/935542663893352448/CQ-VFIBS_normal.jpg', profile_link_color='1DA1F2', profile_sidebar_border_color='C0DEED', profile_sidebar_fill_color='DDEEF6', profile_text_color='333333', profile_use_background_image=True, has_extended_profile=True, default_profile=True, default_profile_image=False, following=False, follow_request_sent=False, notifications=False, translator_type='none'), user=User(_api=<tweepy.api.API object at 0x7f19b4ea2400>, _json={'id': 1607599200, 'id_str': '1607599200', 'name': 'IG:vee_majozi', 'screen_name': 'VeeKaMajozi', 'location': 'Durban, South Africa', 'description': \"• Ngiyintombi yom'Zulu ♕ • GOD is Love😍 • Very Humble • 🎓Biotechnologist  • I Love Hard• My Smile is Beautiful😍• No neg vibes please!!•\", 'url': None, 'entities': {'description': {'urls': []}}, 'protected': False, 'followers_count': 1817, 'friends_count': 1422, 'listed_count': 2, 'created_at': 'Sat Jul 20 06:41:29 +0000 2013', 'favourites_count': 9247, 'utc_offset': None, 'time_zone': None, 'geo_enabled': True, 'verified': False, 'statuses_count': 12786, 'lang': 'en', 'contributors_enabled': False, 'is_translator': False, 'is_translation_enabled': False, 'profile_background_color': 'C0DEED', 'profile_background_image_url': 'http://abs.twimg.com/images/themes/theme1/bg.png', 'profile_background_image_url_https': 'https://abs.twimg.com/images/themes/theme1/bg.png', 'profile_background_tile': False, 'profile_image_url': 'http://pbs.twimg.com/profile_images/935542663893352448/CQ-VFIBS_normal.jpg', 'profile_image_url_https': 'https://pbs.twimg.com/profile_images/935542663893352448/CQ-VFIBS_normal.jpg', 'profile_link_color': '1DA1F2', 'profile_sidebar_border_color': 'C0DEED', 'profile_sidebar_fill_color': 'DDEEF6', 'profile_text_color': '333333', 'profile_use_background_image': True, 'has_extended_profile': True, 'default_profile': True, 'default_profile_image': False, 'following': False, 'follow_request_sent': False, 'notifications': False, 'translator_type': 'none'}, id=1607599200, id_str='1607599200', name='IG:vee_majozi', screen_name='VeeKaMajozi', location='Durban, South Africa', description=\"• Ngiyintombi yom'Zulu ♕ • GOD is Love😍 • Very Humble • 🎓Biotechnologist  • I Love Hard• My Smile is Beautiful😍• No neg vibes please!!•\", url=None, entities={'description': {'urls': []}}, protected=False, followers_count=1817, friends_count=1422, listed_count=2, created_at=datetime.datetime(2013, 7, 20, 6, 41, 29), favourites_count=9247, utc_offset=None, time_zone=None, geo_enabled=True, verified=False, statuses_count=12786, lang='en', contributors_enabled=False, is_translator=False, is_translation_enabled=False, profile_background_color='C0DEED', profile_background_image_url='http://abs.twimg.com/images/themes/theme1/bg.png', profile_background_image_url_https='https://abs.twimg.com/images/themes/theme1/bg.png', profile_background_tile=False, profile_image_url='http://pbs.twimg.com/profile_images/935542663893352448/CQ-VFIBS_normal.jpg', profile_image_url_https='https://pbs.twimg.com/profile_images/935542663893352448/CQ-VFIBS_normal.jpg', profile_link_color='1DA1F2', profile_sidebar_border_color='C0DEED', profile_sidebar_fill_color='DDEEF6', profile_text_color='333333', profile_use_background_image=True, has_extended_profile=True, default_profile=True, default_profile_image=False, following=False, follow_request_sent=False, notifications=False, translator_type='none'), geo=None, coordinates=None, place=None, contributors=None, is_quote_status=False, retweet_count=88, favorite_count=25, favorited=False, retweeted=False, possibly_sensitive=False, lang='en'), is_quote_status=False, retweet_count=88, favorite_count=0, favorited=False, retweeted=False, lang='en')"
      ]
     },
     "execution_count": 21,
     "metadata": {},
     "output_type": "execute_result"
    }
   ],
   "source": [
    "searched_tweets[0]"
   ]
  },
  {
   "cell_type": "markdown",
   "metadata": {},
   "source": [
    "La salida del último comando puede resultar dificilmente legible. Sin embargo podemos leer el contenido de un modo menos doloroso si usamos la función `pprint()`."
   ]
  },
  {
   "cell_type": "code",
   "execution_count": 22,
   "metadata": {},
   "outputs": [
    {
     "name": "stdout",
     "output_type": "stream",
     "text": [
      "{'contributors': None,\n",
      " 'coordinates': None,\n",
      " 'created_at': 'Tue Dec 26 18:59:27 +0000 2017',\n",
      " 'entities': {'hashtags': [],\n",
      "              'symbols': [],\n",
      "              'urls': [],\n",
      "              'user_mentions': [{'id': 1607599200,\n",
      "                                 'id_str': '1607599200',\n",
      "                                 'indices': [3, 15],\n",
      "                                 'name': 'IG:vee_majozi',\n",
      "                                 'screen_name': 'VeeKaMajozi'}]},\n",
      " 'favorite_count': 0,\n",
      " 'favorited': False,\n",
      " 'geo': None,\n",
      " 'id': 945730796517777408,\n",
      " 'id_str': '945730796517777408',\n",
      " 'in_reply_to_screen_name': None,\n",
      " 'in_reply_to_status_id': None,\n",
      " 'in_reply_to_status_id_str': None,\n",
      " 'in_reply_to_user_id': None,\n",
      " 'in_reply_to_user_id_str': None,\n",
      " 'is_quote_status': False,\n",
      " 'lang': 'en',\n",
      " 'metadata': {'iso_language_code': 'en', 'result_type': 'recent'},\n",
      " 'place': None,\n",
      " 'retweet_count': 88,\n",
      " 'retweeted': False,\n",
      " 'retweeted_status': {'contributors': None,\n",
      "                      'coordinates': None,\n",
      "                      'created_at': 'Tue Dec 26 17:53:53 +0000 2017',\n",
      "                      'entities': {'hashtags': [],\n",
      "                                   'symbols': [],\n",
      "                                   'urls': [{'display_url': 'twitter.com/i/web/status/9…',\n",
      "                                             'expanded_url': 'https://twitter.com/i/web/status/945714296226492416',\n",
      "                                             'indices': [117, 140],\n",
      "                                             'url': 'https://t.co/1GBx4evTMC'}],\n",
      "                                   'user_mentions': []},\n",
      "                      'favorite_count': 25,\n",
      "                      'favorited': False,\n",
      "                      'geo': None,\n",
      "                      'id': 945714296226492416,\n",
      "                      'id_str': '945714296226492416',\n",
      "                      'in_reply_to_screen_name': None,\n",
      "                      'in_reply_to_status_id': None,\n",
      "                      'in_reply_to_status_id_str': None,\n",
      "                      'in_reply_to_user_id': None,\n",
      "                      'in_reply_to_user_id_str': None,\n",
      "                      'is_quote_status': False,\n",
      "                      'lang': 'en',\n",
      "                      'metadata': {'iso_language_code': 'en',\n",
      "                                   'result_type': 'recent'},\n",
      "                      'place': None,\n",
      "                      'possibly_sensitive': False,\n",
      "                      'retweet_count': 88,\n",
      "                      'retweeted': False,\n",
      "                      'source': '<a href=\"http://twitter.com/download/android\" '\n",
      "                                'rel=\"nofollow\">Twitter for Android</a>',\n",
      "                      'text': \"Hi y'all.\\n\"\n",
      "                              'I have ND in Biotechnology with 2 years '\n",
      "                              'experience. Please 🙏 RT for me and help me find '\n",
      "                              \"a job. I'm willin… https://t.co/1GBx4evTMC\",\n",
      "                      'truncated': True,\n",
      "                      'user': {'contributors_enabled': False,\n",
      "                               'created_at': 'Sat Jul 20 06:41:29 +0000 2013',\n",
      "                               'default_profile': True,\n",
      "                               'default_profile_image': False,\n",
      "                               'description': \"• Ngiyintombi yom'Zulu ♕ • GOD \"\n",
      "                                              'is Love😍 • Very Humble • '\n",
      "                                              '🎓Biotechnologist  • I Love '\n",
      "                                              'Hard• My Smile is Beautiful😍• '\n",
      "                                              'No neg vibes please!!•',\n",
      "                               'entities': {'description': {'urls': []}},\n",
      "                               'favourites_count': 9247,\n",
      "                               'follow_request_sent': False,\n",
      "                               'followers_count': 1817,\n",
      "                               'following': False,\n",
      "                               'friends_count': 1422,\n",
      "                               'geo_enabled': True,\n",
      "                               'has_extended_profile': True,\n",
      "                               'id': 1607599200,\n",
      "                               'id_str': '1607599200',\n",
      "                               'is_translation_enabled': False,\n",
      "                               'is_translator': False,\n",
      "                               'lang': 'en',\n",
      "                               'listed_count': 2,\n",
      "                               'location': 'Durban, South Africa',\n",
      "                               'name': 'IG:vee_majozi',\n",
      "                               'notifications': False,\n",
      "                               'profile_background_color': 'C0DEED',\n",
      "                               'profile_background_image_url': 'http://abs.twimg.com/images/themes/theme1/bg.png',\n",
      "                               'profile_background_image_url_https': 'https://abs.twimg.com/images/themes/theme1/bg.png',\n",
      "                               'profile_background_tile': False,\n",
      "                               'profile_image_url': 'http://pbs.twimg.com/profile_images/935542663893352448/CQ-VFIBS_normal.jpg',\n",
      "                               'profile_image_url_https': 'https://pbs.twimg.com/profile_images/935542663893352448/CQ-VFIBS_normal.jpg',\n",
      "                               'profile_link_color': '1DA1F2',\n",
      "                               'profile_sidebar_border_color': 'C0DEED',\n",
      "                               'profile_sidebar_fill_color': 'DDEEF6',\n",
      "                               'profile_text_color': '333333',\n",
      "                               'profile_use_background_image': True,\n",
      "                               'protected': False,\n",
      "                               'screen_name': 'VeeKaMajozi',\n",
      "                               'statuses_count': 12786,\n",
      "                               'time_zone': None,\n",
      "                               'translator_type': 'none',\n",
      "                               'url': None,\n",
      "                               'utc_offset': None,\n",
      "                               'verified': False}},\n",
      " 'source': '<a href=\"https://mobile.twitter.com\" rel=\"nofollow\">Twitter '\n",
      "           'Lite</a>',\n",
      " 'text': \"RT @VeeKaMajozi: Hi y'all.\\n\"\n",
      "         'I have ND in Biotechnology with 2 years experience. Please 🙏 RT for '\n",
      "         \"me and help me find a job. I'm willing to re…\",\n",
      " 'truncated': False,\n",
      " 'user': {'contributors_enabled': False,\n",
      "          'created_at': 'Sat Jan 07 11:52:28 +0000 2017',\n",
      "          'default_profile': True,\n",
      "          'default_profile_image': False,\n",
      "          'description': 'Confident and visionary, politically and business '\n",
      "                         'minded',\n",
      "          'entities': {'description': {'urls': []}},\n",
      "          'favourites_count': 12828,\n",
      "          'follow_request_sent': False,\n",
      "          'followers_count': 283,\n",
      "          'following': False,\n",
      "          'friends_count': 108,\n",
      "          'geo_enabled': False,\n",
      "          'has_extended_profile': False,\n",
      "          'id': 817700425457664001,\n",
      "          'id_str': '817700425457664001',\n",
      "          'is_translation_enabled': False,\n",
      "          'is_translator': False,\n",
      "          'lang': 'en',\n",
      "          'listed_count': 4,\n",
      "          'location': 'South africa',\n",
      "          'name': 'Lumkile ka xhoba',\n",
      "          'notifications': False,\n",
      "          'profile_background_color': 'F5F8FA',\n",
      "          'profile_background_image_url': None,\n",
      "          'profile_background_image_url_https': None,\n",
      "          'profile_background_tile': False,\n",
      "          'profile_banner_url': 'https://pbs.twimg.com/profile_banners/817700425457664001/1509039626',\n",
      "          'profile_image_url': 'http://pbs.twimg.com/profile_images/920283105835044864/FGI4UtBo_normal.jpg',\n",
      "          'profile_image_url_https': 'https://pbs.twimg.com/profile_images/920283105835044864/FGI4UtBo_normal.jpg',\n",
      "          'profile_link_color': '1DA1F2',\n",
      "          'profile_sidebar_border_color': 'C0DEED',\n",
      "          'profile_sidebar_fill_color': 'DDEEF6',\n",
      "          'profile_text_color': '333333',\n",
      "          'profile_use_background_image': True,\n",
      "          'protected': False,\n",
      "          'screen_name': 'MosheLumkile',\n",
      "          'statuses_count': 19426,\n",
      "          'time_zone': None,\n",
      "          'translator_type': 'none',\n",
      "          'url': None,\n",
      "          'utc_offset': None,\n",
      "          'verified': False}}\n"
     ]
    }
   ],
   "source": [
    "import json\n",
    "import pprint\n",
    "pprint.pprint(searched_tweets[0]._json)"
   ]
  },
  {
   "cell_type": "markdown",
   "metadata": {},
   "source": [
    "Podemos acceder a un gran número de información tanto del tuit como del usuario que lo creó. \n"
   ]
  },
  {
   "cell_type": "code",
   "execution_count": 27,
   "metadata": {
    "scrolled": true
   },
   "outputs": [
    {
     "name": "stdout",
     "output_type": "stream",
     "text": [
      "Fecha:  2017-12-26 18:59:27\n",
      "Usuario: @MosheLumkile\n",
      "Nombre:  Lumkile ka xhoba\n",
      "Descripción:  Confident and visionary, politically and business minded\n",
      "Localización:  South africa\n",
      "Verificado:  False\n",
      "Seguidores:  283\n",
      "Texto:  RT @VeeKaMajozi: Hi y'all.\n",
      "I have ND in Biotechnology with 2 years experience. Please 🙏 RT for me and help me find a job. I'm willing to re…\n",
      "RT:  88\n",
      "Favs:  0\n"
     ]
    }
   ],
   "source": [
    "print('Fecha: ', searched_tweets[0].created_at)\n",
    "print('Usuario: @' + searched_tweets[0].user.screen_name)\n",
    "print('Nombre: ', searched_tweets[0].user.name)\n",
    "print('Descripción: ', searched_tweets[0].user.description)\n",
    "print('Localización: ', searched_tweets[0].user.location)\n",
    "print('Verificado: ', searched_tweets[0].user.verified)\n",
    "print('Seguidores: ', searched_tweets[0].user.followers_count)\n",
    "print('Texto: ', searched_tweets[0].text)\n",
    "print('RT: ', searched_tweets[0].retweet_count)\n",
    "print('Favs: ', searched_tweets[0].favorite_count)"
   ]
  },
  {
   "cell_type": "code",
   "execution_count": 30,
   "metadata": {},
   "outputs": [],
   "source": [
    "columns = ['Usuario','Nombre', 'Fecha', 'Tuit', 'RT', 'Fav', 'Verificado']\n",
    "df = pd.DataFrame(columns=columns)\n",
    "for tuit in searched_tweets:\n",
    "    Fecha = tuit.created_at\n",
    "    Usuario = tuit.user.screen_name\n",
    "    Nombre = tuit.user.name\n",
    "    Verificado= tuit.user.verified\n",
    "    Texto= tuit.text\n",
    "    RT= tuit.retweet_count\n",
    "    Favs= tuit.favorite_count\n",
    "    df.loc[len(df)]=[Usuario, Nombre, Fecha, Texto, RT, Favs, Verificado ] \n",
    "    "
   ]
  },
  {
   "cell_type": "code",
   "execution_count": 32,
   "metadata": {},
   "outputs": [
    {
     "data": {
      "text/html": [
       "<div>\n",
       "<style scoped>\n",
       "    .dataframe tbody tr th:only-of-type {\n",
       "        vertical-align: middle;\n",
       "    }\n",
       "\n",
       "    .dataframe tbody tr th {\n",
       "        vertical-align: top;\n",
       "    }\n",
       "\n",
       "    .dataframe thead th {\n",
       "        text-align: right;\n",
       "    }\n",
       "</style>\n",
       "<table border=\"1\" class=\"dataframe\">\n",
       "  <thead>\n",
       "    <tr style=\"text-align: right;\">\n",
       "      <th></th>\n",
       "      <th>Usuario</th>\n",
       "      <th>Nombre</th>\n",
       "      <th>Fecha</th>\n",
       "      <th>Tuit</th>\n",
       "      <th>RT</th>\n",
       "      <th>Fav</th>\n",
       "      <th>Verificado</th>\n",
       "    </tr>\n",
       "  </thead>\n",
       "  <tbody>\n",
       "    <tr>\n",
       "      <th>995</th>\n",
       "      <td>Mahendr82835960</td>\n",
       "      <td>Mahendra Kumar Raj</td>\n",
       "      <td>2017-12-24 11:44:03</td>\n",
       "      <td>RT @ShubhamSaxenaIN: Karnataka is the fastest ...</td>\n",
       "      <td>13</td>\n",
       "      <td>0</td>\n",
       "      <td>False</td>\n",
       "    </tr>\n",
       "    <tr>\n",
       "      <th>996</th>\n",
       "      <td>Biotherapeutic1</td>\n",
       "      <td>Biotherapeutics</td>\n",
       "      <td>2017-12-24 11:12:09</td>\n",
       "      <td>#biotherapeutics jobs lifescience CIVIL ENGINE...</td>\n",
       "      <td>0</td>\n",
       "      <td>0</td>\n",
       "      <td>False</td>\n",
       "    </tr>\n",
       "    <tr>\n",
       "      <th>997</th>\n",
       "      <td>Biotherapeutic1</td>\n",
       "      <td>Biotherapeutics</td>\n",
       "      <td>2017-12-24 11:12:08</td>\n",
       "      <td>#biotherapeutics jobs lifescience Sr SAP PPDS ...</td>\n",
       "      <td>0</td>\n",
       "      <td>0</td>\n",
       "      <td>False</td>\n",
       "    </tr>\n",
       "    <tr>\n",
       "      <th>998</th>\n",
       "      <td>HelloMylesHere</td>\n",
       "      <td>Myles Wirth</td>\n",
       "      <td>2017-12-24 11:11:21</td>\n",
       "      <td>And so each time, Mario sets off through the r...</td>\n",
       "      <td>0</td>\n",
       "      <td>5</td>\n",
       "      <td>False</td>\n",
       "    </tr>\n",
       "    <tr>\n",
       "      <th>999</th>\n",
       "      <td>NandkishorBhan2</td>\n",
       "      <td>Nandkishor Bhandekar</td>\n",
       "      <td>2017-12-24 11:02:49</td>\n",
       "      <td>RT @rashtrapatibhvn: Cross-fertilisation and d...</td>\n",
       "      <td>95</td>\n",
       "      <td>0</td>\n",
       "      <td>False</td>\n",
       "    </tr>\n",
       "  </tbody>\n",
       "</table>\n",
       "</div>"
      ],
      "text/plain": [
       "             Usuario                Nombre               Fecha  \\\n",
       "995  Mahendr82835960    Mahendra Kumar Raj 2017-12-24 11:44:03   \n",
       "996  Biotherapeutic1       Biotherapeutics 2017-12-24 11:12:09   \n",
       "997  Biotherapeutic1       Biotherapeutics 2017-12-24 11:12:08   \n",
       "998   HelloMylesHere           Myles Wirth 2017-12-24 11:11:21   \n",
       "999  NandkishorBhan2  Nandkishor Bhandekar 2017-12-24 11:02:49   \n",
       "\n",
       "                                                  Tuit  RT Fav Verificado  \n",
       "995  RT @ShubhamSaxenaIN: Karnataka is the fastest ...  13   0      False  \n",
       "996  #biotherapeutics jobs lifescience CIVIL ENGINE...   0   0      False  \n",
       "997  #biotherapeutics jobs lifescience Sr SAP PPDS ...   0   0      False  \n",
       "998  And so each time, Mario sets off through the r...   0   5      False  \n",
       "999  RT @rashtrapatibhvn: Cross-fertilisation and d...  95   0      False  "
      ]
     },
     "execution_count": 32,
     "metadata": {},
     "output_type": "execute_result"
    }
   ],
   "source": [
    "df.tail()"
   ]
  },
  {
   "cell_type": "code",
   "execution_count": 33,
   "metadata": {},
   "outputs": [],
   "source": [
    "df.to_pickle('biotechnology.pkl')"
   ]
  },
  {
   "cell_type": "markdown",
   "metadata": {},
   "source": [
    "Siguiendo el sistema anterior se realizaron las siguientes busquedas:\n",
    "   \n",
    "- vacunas (\"Genetically modified\" OR GMO OR transgenic) AND (vaccine OR vaccination) lang:en exclude:retweets\n",
    "- medicinas (\"Genetically modified\" OR GMO OR transgenic) AND (medicina OR drug) lang:en exclude:retweets\n",
    "- alimentos funcionales (\"Genetically modified\" OR GMO OR transgenic) AND (\"functional food\") lang:en exclude:retweets\n",
    "- arroz dorado (\"Genetically modified\" OR GMO OR transgenic) AND (\"golden rice\") lang:en exclude:retweets\n",
    "- cultivos (\"Genetically modified\" OR GMO OR transgenic) AND (crops) lang:en exclude:retweets\n",
    "- pesticidas (\"Genetically modified\" OR GMO OR transgenic) AND (pesticides) lang:en exclude:retweets\n",
    "- medio ambiente (\"Genetically modified\" OR GMO OR transgenic) AND (environment) lang:en exclude:retweets\n",
    "- bioremediación (\"Genetically modified\" OR GMO OR transgenic) AND (bioremediation) lang:en exclude:retweets\n",
    "- cancer (\"Genetically modified\" OR GMO OR transgenic) AND (cancer) lang:en exclude:retweets\n",
    "- alergias (\"Genetically modified\" OR GMO OR transgenic) AND (allergy OR allergies) lang:en exclude:retweets\n",
    "- Tranferencia de genes (\"Genetically modified\" OR GMO OR transgenic) AND (\"gene transfer\") lang:en exclude:retweets\n",
    "- Desigualdad (\"Genetically modified\" OR GMO OR transgenic) AND (inequality) lang:en exclude:retweets\n",
    "- Sociedad (\"Genetically modified\" OR GMO OR transgenic) AND (society) lang:en exclude:retweets\n",
    "- Biodiversidad (\"Genetically modified\" OR GMO OR transgenic) AND (biodiversity) lang:en exclude:retweets\n",
    "   \n",
    "Además, usando los datos en directo, se han filtrado los siguientes tuits:   \n",
    "\n",
    "    (\"Genetically modified\" OR GMO OR transgenic) lang:en exclude:retweets"
   ]
  },
  {
   "cell_type": "code",
   "execution_count": null,
   "metadata": {},
   "outputs": [],
   "source": []
  }
 ],
 "metadata": {
  "kernelspec": {
   "display_name": "Python 3",
   "language": "python",
   "name": "python3"
  },
  "language_info": {
   "codemirror_mode": {
    "name": "ipython",
    "version": 3
   },
   "file_extension": ".py",
   "mimetype": "text/x-python",
   "name": "python",
   "nbconvert_exporter": "python",
   "pygments_lexer": "ipython3",
   "version": "3.6.1"
  }
 },
 "nbformat": 4,
 "nbformat_minor": 2
}
