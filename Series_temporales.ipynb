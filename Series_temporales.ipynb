{
 "cells": [
  {
   "cell_type": "markdown",
   "metadata": {},
   "source": [
    "# Capitulo 3.- Analizando series temporales"
   ]
  },
  {
   "cell_type": "code",
   "execution_count": 2,
   "metadata": {},
   "outputs": [],
   "source": [
    "import numpy as np\n",
    "import pandas as pd\n",
    "from pandas import DataFrame\n",
    "from pandas import Series\n",
    "import calendar\n",
    "import matplotlib\n",
    "import matplotlib.pyplot as plt\n",
    "from pylab import*\n",
    "%matplotlib inline \n",
    "import seaborn as sns\n",
    "plt.rcParams['figure.figsize'] = (15, 5)\n",
    "import matplotlib as mpl\n",
    "#mpl.style.available"
   ]
  },
  {
   "cell_type": "markdown",
   "metadata": {},
   "source": [
    "### Visualizando nuestro dataframe"
   ]
  },
  {
   "cell_type": "code",
   "execution_count": 7,
   "metadata": {},
   "outputs": [
    {
     "name": "stdout",
     "output_type": "stream",
     "text": [
      "<class 'pandas.core.frame.DataFrame'>\n",
      "Int64Index: 12545 entries, 0 to 12544\n",
      "Data columns (total 11 columns):\n",
      "Usuario        12545 non-null object\n",
      "Nombre         12545 non-null object\n",
      "Fecha          12545 non-null object\n",
      "Tweet          12545 non-null object\n",
      "RT             12545 non-null int64\n",
      "like           12545 non-null int64\n",
      "path           12545 non-null object\n",
      "verificados    235 non-null object\n",
      "tópico         12545 non-null object\n",
      "sentimiento    12545 non-null float64\n",
      "categoría      12545 non-null object\n",
      "dtypes: float64(1), int64(2), object(8)\n",
      "memory usage: 1.1+ MB\n",
      "None\n"
     ]
    }
   ],
   "source": [
    "df = pd.read_csv('data/alltopics.csv', index_col=0)\n",
    "print(df.info())"
   ]
  },
  {
   "cell_type": "code",
   "execution_count": 8,
   "metadata": {},
   "outputs": [
    {
     "data": {
      "text/html": [
       "<div>\n",
       "<style scoped>\n",
       "    .dataframe tbody tr th:only-of-type {\n",
       "        vertical-align: middle;\n",
       "    }\n",
       "\n",
       "    .dataframe tbody tr th {\n",
       "        vertical-align: top;\n",
       "    }\n",
       "\n",
       "    .dataframe thead th {\n",
       "        text-align: right;\n",
       "    }\n",
       "</style>\n",
       "<table border=\"1\" class=\"dataframe\">\n",
       "  <thead>\n",
       "    <tr style=\"text-align: right;\">\n",
       "      <th></th>\n",
       "      <th>Usuario</th>\n",
       "      <th>Nombre</th>\n",
       "      <th>Fecha</th>\n",
       "      <th>Tweet</th>\n",
       "      <th>RT</th>\n",
       "      <th>like</th>\n",
       "      <th>path</th>\n",
       "      <th>verificados</th>\n",
       "      <th>tópico</th>\n",
       "      <th>sentimiento</th>\n",
       "      <th>categoría</th>\n",
       "    </tr>\n",
       "  </thead>\n",
       "  <tbody>\n",
       "    <tr>\n",
       "      <th>0</th>\n",
       "      <td>@jaymee_danielle</td>\n",
       "      <td>zen kitty</td>\n",
       "      <td>10 dic. 2017</td>\n",
       "      <td>issues i have w/ GMO:\\n• doesnt taste “natural...</td>\n",
       "      <td>67</td>\n",
       "      <td>179</td>\n",
       "      <td>/jaymee_danielle/status/939965734196842496</td>\n",
       "      <td>NaN</td>\n",
       "      <td>Allergy</td>\n",
       "      <td>0.0900</td>\n",
       "      <td>Neutral</td>\n",
       "    </tr>\n",
       "    <tr>\n",
       "      <th>1</th>\n",
       "      <td>@systecdb</td>\n",
       "      <td>Dave Baggett</td>\n",
       "      <td>10 dic. 2017</td>\n",
       "      <td>It dawns on me that before GMO foods became pr...</td>\n",
       "      <td>0</td>\n",
       "      <td>1</td>\n",
       "      <td>/systecdb/status/939776697724997632</td>\n",
       "      <td>NaN</td>\n",
       "      <td>Allergy</td>\n",
       "      <td>0.4767</td>\n",
       "      <td>Positivo</td>\n",
       "    </tr>\n",
       "    <tr>\n",
       "      <th>2</th>\n",
       "      <td>@saltedveg</td>\n",
       "      <td>ingin punya tuyul saja</td>\n",
       "      <td>10 dic. 2017</td>\n",
       "      <td>Coz it's 'cool'. Just like people who suddenly...</td>\n",
       "      <td>1</td>\n",
       "      <td>1</td>\n",
       "      <td>/saltedveg/status/939675324765298688</td>\n",
       "      <td>NaN</td>\n",
       "      <td>Allergy</td>\n",
       "      <td>0.9068</td>\n",
       "      <td>Positivo</td>\n",
       "    </tr>\n",
       "    <tr>\n",
       "      <th>3</th>\n",
       "      <td>@RMathebulo</td>\n",
       "      <td>Rantho Mathebulo</td>\n",
       "      <td>9 dic. 2017</td>\n",
       "      <td>Alcoholism gout acne genetically modified food...</td>\n",
       "      <td>0</td>\n",
       "      <td>0</td>\n",
       "      <td>/RMathebulo/status/939601946960453633</td>\n",
       "      <td>NaN</td>\n",
       "      <td>Allergy</td>\n",
       "      <td>-0.7412</td>\n",
       "      <td>Negativo</td>\n",
       "    </tr>\n",
       "    <tr>\n",
       "      <th>4</th>\n",
       "      <td>@carmelabny</td>\n",
       "      <td>JOSEPHINE BOLOGNA</td>\n",
       "      <td>8 dic. 2017</td>\n",
       "      <td>Foods to eat every day and a healthy product t...</td>\n",
       "      <td>7</td>\n",
       "      <td>4</td>\n",
       "      <td>/carmelabny/status/939102225800028160</td>\n",
       "      <td>NaN</td>\n",
       "      <td>Allergy</td>\n",
       "      <td>0.4738</td>\n",
       "      <td>Positivo</td>\n",
       "    </tr>\n",
       "  </tbody>\n",
       "</table>\n",
       "</div>"
      ],
      "text/plain": [
       "            Usuario                  Nombre         Fecha  \\\n",
       "0  @jaymee_danielle               zen kitty  10 dic. 2017   \n",
       "1         @systecdb            Dave Baggett  10 dic. 2017   \n",
       "2        @saltedveg  ingin punya tuyul saja  10 dic. 2017   \n",
       "3       @RMathebulo        Rantho Mathebulo   9 dic. 2017   \n",
       "4       @carmelabny       JOSEPHINE BOLOGNA   8 dic. 2017   \n",
       "\n",
       "                                               Tweet  RT  like  \\\n",
       "0  issues i have w/ GMO:\\n• doesnt taste “natural...  67   179   \n",
       "1  It dawns on me that before GMO foods became pr...   0     1   \n",
       "2  Coz it's 'cool'. Just like people who suddenly...   1     1   \n",
       "3  Alcoholism gout acne genetically modified food...   0     0   \n",
       "4  Foods to eat every day and a healthy product t...   7     4   \n",
       "\n",
       "                                         path verificados   tópico  \\\n",
       "0  /jaymee_danielle/status/939965734196842496         NaN  Allergy   \n",
       "1         /systecdb/status/939776697724997632         NaN  Allergy   \n",
       "2        /saltedveg/status/939675324765298688         NaN  Allergy   \n",
       "3       /RMathebulo/status/939601946960453633         NaN  Allergy   \n",
       "4       /carmelabny/status/939102225800028160         NaN  Allergy   \n",
       "\n",
       "   sentimiento categoría  \n",
       "0       0.0900   Neutral  \n",
       "1       0.4767  Positivo  \n",
       "2       0.9068  Positivo  \n",
       "3      -0.7412  Negativo  \n",
       "4       0.4738  Positivo  "
      ]
     },
     "execution_count": 8,
     "metadata": {},
     "output_type": "execute_result"
    }
   ],
   "source": [
    "df.head()"
   ]
  },
  {
   "cell_type": "code",
   "execution_count": 10,
   "metadata": {},
   "outputs": [
    {
     "data": {
      "text/plain": [
       "Usuario         object\n",
       "Nombre          object\n",
       "Fecha           object\n",
       "Tweet           object\n",
       "RT               int64\n",
       "like             int64\n",
       "path            object\n",
       "verificados     object\n",
       "tópico          object\n",
       "sentimiento    float64\n",
       "categoría       object\n",
       "dtype: object"
      ]
     },
     "execution_count": 10,
     "metadata": {},
     "output_type": "execute_result"
    }
   ],
   "source": [
    "df.dtypes"
   ]
  },
  {
   "cell_type": "markdown",
   "metadata": {},
   "source": [
    "### Convirtiendo la columna fecha como serie temporal"
   ]
  },
  {
   "cell_type": "code",
   "execution_count": 19,
   "metadata": {},
   "outputs": [],
   "source": [
    "meses = {}\n",
    "meses['ene.'] = '01'\n",
    "meses['feb.'] = '02'\n",
    "meses['mar.'] = '03'\n",
    "meses['abr.'] = '04'\n",
    "meses['may.'] = '05'\n",
    "meses['jun.'] = '06'\n",
    "meses['jul.'] = '07'\n",
    "meses['ago.'] = '08'\n",
    "meses['sept.'] = '09'\n",
    "meses['oct.'] = '10'\n",
    "meses['nov.'] = '11'\n",
    "meses['dic.'] = '12'"
   ]
  },
  {
   "cell_type": "code",
   "execution_count": 30,
   "metadata": {},
   "outputs": [
    {
     "data": {
      "text/plain": [
       "'dic.'"
      ]
     },
     "execution_count": 30,
     "metadata": {},
     "output_type": "execute_result"
    }
   ],
   "source": [
    "df['Fecha'][0].split(' ')[1]"
   ]
  },
  {
   "cell_type": "code",
   "execution_count": 21,
   "metadata": {},
   "outputs": [
    {
     "name": "stdout",
     "output_type": "stream",
     "text": [
      "12\n"
     ]
    }
   ],
   "source": [
    "if df['Fecha'][0].split(' ')[1] in meses:\n",
    "    print(meses[df['Fecha'][0].split(' ')[1]])"
   ]
  },
  {
   "cell_type": "code",
   "execution_count": 34,
   "metadata": {},
   "outputs": [
    {
     "data": {
      "text/html": [
       "<div>\n",
       "<style scoped>\n",
       "    .dataframe tbody tr th:only-of-type {\n",
       "        vertical-align: middle;\n",
       "    }\n",
       "\n",
       "    .dataframe tbody tr th {\n",
       "        vertical-align: top;\n",
       "    }\n",
       "\n",
       "    .dataframe thead th {\n",
       "        text-align: right;\n",
       "    }\n",
       "</style>\n",
       "<table border=\"1\" class=\"dataframe\">\n",
       "  <thead>\n",
       "    <tr style=\"text-align: right;\">\n",
       "      <th></th>\n",
       "      <th>Usuario</th>\n",
       "      <th>Nombre</th>\n",
       "      <th>Fecha</th>\n",
       "      <th>Tweet</th>\n",
       "      <th>RT</th>\n",
       "      <th>like</th>\n",
       "      <th>path</th>\n",
       "      <th>verificados</th>\n",
       "      <th>tópico</th>\n",
       "      <th>sentimiento</th>\n",
       "      <th>categoría</th>\n",
       "      <th>serie_temporal</th>\n",
       "    </tr>\n",
       "  </thead>\n",
       "  <tbody>\n",
       "    <tr>\n",
       "      <th>0</th>\n",
       "      <td>@jaymee_danielle</td>\n",
       "      <td>zen kitty</td>\n",
       "      <td>10 dic. 2017</td>\n",
       "      <td>issues i have w/ GMO:\\n• doesnt taste “natural...</td>\n",
       "      <td>67</td>\n",
       "      <td>179</td>\n",
       "      <td>/jaymee_danielle/status/939965734196842496</td>\n",
       "      <td>NaN</td>\n",
       "      <td>Allergy</td>\n",
       "      <td>0.0900</td>\n",
       "      <td>Neutral</td>\n",
       "      <td>2017-12-10</td>\n",
       "    </tr>\n",
       "    <tr>\n",
       "      <th>1</th>\n",
       "      <td>@systecdb</td>\n",
       "      <td>Dave Baggett</td>\n",
       "      <td>10 dic. 2017</td>\n",
       "      <td>It dawns on me that before GMO foods became pr...</td>\n",
       "      <td>0</td>\n",
       "      <td>1</td>\n",
       "      <td>/systecdb/status/939776697724997632</td>\n",
       "      <td>NaN</td>\n",
       "      <td>Allergy</td>\n",
       "      <td>0.4767</td>\n",
       "      <td>Positivo</td>\n",
       "      <td>2017-12-10</td>\n",
       "    </tr>\n",
       "    <tr>\n",
       "      <th>2</th>\n",
       "      <td>@saltedveg</td>\n",
       "      <td>ingin punya tuyul saja</td>\n",
       "      <td>10 dic. 2017</td>\n",
       "      <td>Coz it's 'cool'. Just like people who suddenly...</td>\n",
       "      <td>1</td>\n",
       "      <td>1</td>\n",
       "      <td>/saltedveg/status/939675324765298688</td>\n",
       "      <td>NaN</td>\n",
       "      <td>Allergy</td>\n",
       "      <td>0.9068</td>\n",
       "      <td>Positivo</td>\n",
       "      <td>2017-12-10</td>\n",
       "    </tr>\n",
       "    <tr>\n",
       "      <th>3</th>\n",
       "      <td>@RMathebulo</td>\n",
       "      <td>Rantho Mathebulo</td>\n",
       "      <td>9 dic. 2017</td>\n",
       "      <td>Alcoholism gout acne genetically modified food...</td>\n",
       "      <td>0</td>\n",
       "      <td>0</td>\n",
       "      <td>/RMathebulo/status/939601946960453633</td>\n",
       "      <td>NaN</td>\n",
       "      <td>Allergy</td>\n",
       "      <td>-0.7412</td>\n",
       "      <td>Negativo</td>\n",
       "      <td>2017-12-9</td>\n",
       "    </tr>\n",
       "    <tr>\n",
       "      <th>4</th>\n",
       "      <td>@carmelabny</td>\n",
       "      <td>JOSEPHINE BOLOGNA</td>\n",
       "      <td>8 dic. 2017</td>\n",
       "      <td>Foods to eat every day and a healthy product t...</td>\n",
       "      <td>7</td>\n",
       "      <td>4</td>\n",
       "      <td>/carmelabny/status/939102225800028160</td>\n",
       "      <td>NaN</td>\n",
       "      <td>Allergy</td>\n",
       "      <td>0.4738</td>\n",
       "      <td>Positivo</td>\n",
       "      <td>2017-12-8</td>\n",
       "    </tr>\n",
       "  </tbody>\n",
       "</table>\n",
       "</div>"
      ],
      "text/plain": [
       "            Usuario                  Nombre         Fecha  \\\n",
       "0  @jaymee_danielle               zen kitty  10 dic. 2017   \n",
       "1         @systecdb            Dave Baggett  10 dic. 2017   \n",
       "2        @saltedveg  ingin punya tuyul saja  10 dic. 2017   \n",
       "3       @RMathebulo        Rantho Mathebulo   9 dic. 2017   \n",
       "4       @carmelabny       JOSEPHINE BOLOGNA   8 dic. 2017   \n",
       "\n",
       "                                               Tweet  RT  like  \\\n",
       "0  issues i have w/ GMO:\\n• doesnt taste “natural...  67   179   \n",
       "1  It dawns on me that before GMO foods became pr...   0     1   \n",
       "2  Coz it's 'cool'. Just like people who suddenly...   1     1   \n",
       "3  Alcoholism gout acne genetically modified food...   0     0   \n",
       "4  Foods to eat every day and a healthy product t...   7     4   \n",
       "\n",
       "                                         path verificados   tópico  \\\n",
       "0  /jaymee_danielle/status/939965734196842496         NaN  Allergy   \n",
       "1         /systecdb/status/939776697724997632         NaN  Allergy   \n",
       "2        /saltedveg/status/939675324765298688         NaN  Allergy   \n",
       "3       /RMathebulo/status/939601946960453633         NaN  Allergy   \n",
       "4       /carmelabny/status/939102225800028160         NaN  Allergy   \n",
       "\n",
       "   sentimiento categoría serie_temporal  \n",
       "0       0.0900   Neutral     2017-12-10  \n",
       "1       0.4767  Positivo     2017-12-10  \n",
       "2       0.9068  Positivo     2017-12-10  \n",
       "3      -0.7412  Negativo      2017-12-9  \n",
       "4       0.4738  Positivo      2017-12-8  "
      ]
     },
     "execution_count": 34,
     "metadata": {},
     "output_type": "execute_result"
    }
   ],
   "source": [
    "nuevasfechas = []\n",
    "for fecha in df['Fecha']:\n",
    "    dia = fecha.split(' ')[0]\n",
    "    mes = fecha.split(' ')[1]\n",
    "    año = fecha.split(' ')[2]\n",
    "    nuevomes = meses[mes]\n",
    "    nuevafecha = año+'-'+nuevomes+'-'+dia\n",
    "    nuevasfechas.append(nuevafecha)\n",
    "df['serie_temporal'] = nuevasfechas\n",
    "df.head()\n",
    "\n",
    "    "
   ]
  },
  {
   "cell_type": "code",
   "execution_count": 35,
   "metadata": {},
   "outputs": [],
   "source": [
    "df['serie_temporal'] = pd.to_datetime(df['serie_temporal'])"
   ]
  },
  {
   "cell_type": "code",
   "execution_count": 36,
   "metadata": {},
   "outputs": [
    {
     "name": "stdout",
     "output_type": "stream",
     "text": [
      "<class 'pandas.core.frame.DataFrame'>\n",
      "Int64Index: 12545 entries, 0 to 12544\n",
      "Data columns (total 12 columns):\n",
      "Usuario           12545 non-null object\n",
      "Nombre            12545 non-null object\n",
      "Fecha             12545 non-null object\n",
      "Tweet             12545 non-null object\n",
      "RT                12545 non-null int64\n",
      "like              12545 non-null int64\n",
      "path              12545 non-null object\n",
      "verificados       235 non-null object\n",
      "tópico            12545 non-null object\n",
      "sentimiento       12545 non-null float64\n",
      "categoría         12545 non-null object\n",
      "serie_temporal    12545 non-null datetime64[ns]\n",
      "dtypes: datetime64[ns](1), float64(1), int64(2), object(8)\n",
      "memory usage: 1.6+ MB\n"
     ]
    }
   ],
   "source": [
    "df.info()"
   ]
  },
  {
   "cell_type": "code",
   "execution_count": 37,
   "metadata": {},
   "outputs": [
    {
     "data": {
      "text/html": [
       "<div>\n",
       "<style scoped>\n",
       "    .dataframe tbody tr th:only-of-type {\n",
       "        vertical-align: middle;\n",
       "    }\n",
       "\n",
       "    .dataframe tbody tr th {\n",
       "        vertical-align: top;\n",
       "    }\n",
       "\n",
       "    .dataframe thead th {\n",
       "        text-align: right;\n",
       "    }\n",
       "</style>\n",
       "<table border=\"1\" class=\"dataframe\">\n",
       "  <thead>\n",
       "    <tr style=\"text-align: right;\">\n",
       "      <th></th>\n",
       "      <th>Usuario</th>\n",
       "      <th>Nombre</th>\n",
       "      <th>Fecha</th>\n",
       "      <th>Tweet</th>\n",
       "      <th>RT</th>\n",
       "      <th>like</th>\n",
       "      <th>path</th>\n",
       "      <th>verificados</th>\n",
       "      <th>tópico</th>\n",
       "      <th>sentimiento</th>\n",
       "      <th>categoría</th>\n",
       "    </tr>\n",
       "    <tr>\n",
       "      <th>serie_temporal</th>\n",
       "      <th></th>\n",
       "      <th></th>\n",
       "      <th></th>\n",
       "      <th></th>\n",
       "      <th></th>\n",
       "      <th></th>\n",
       "      <th></th>\n",
       "      <th></th>\n",
       "      <th></th>\n",
       "      <th></th>\n",
       "      <th></th>\n",
       "    </tr>\n",
       "  </thead>\n",
       "  <tbody>\n",
       "    <tr>\n",
       "      <th>2017-12-10</th>\n",
       "      <td>@jaymee_danielle</td>\n",
       "      <td>zen kitty</td>\n",
       "      <td>10 dic. 2017</td>\n",
       "      <td>issues i have w/ GMO:\\n• doesnt taste “natural...</td>\n",
       "      <td>67</td>\n",
       "      <td>179</td>\n",
       "      <td>/jaymee_danielle/status/939965734196842496</td>\n",
       "      <td>NaN</td>\n",
       "      <td>Allergy</td>\n",
       "      <td>0.0900</td>\n",
       "      <td>Neutral</td>\n",
       "    </tr>\n",
       "    <tr>\n",
       "      <th>2017-12-10</th>\n",
       "      <td>@systecdb</td>\n",
       "      <td>Dave Baggett</td>\n",
       "      <td>10 dic. 2017</td>\n",
       "      <td>It dawns on me that before GMO foods became pr...</td>\n",
       "      <td>0</td>\n",
       "      <td>1</td>\n",
       "      <td>/systecdb/status/939776697724997632</td>\n",
       "      <td>NaN</td>\n",
       "      <td>Allergy</td>\n",
       "      <td>0.4767</td>\n",
       "      <td>Positivo</td>\n",
       "    </tr>\n",
       "    <tr>\n",
       "      <th>2017-12-10</th>\n",
       "      <td>@saltedveg</td>\n",
       "      <td>ingin punya tuyul saja</td>\n",
       "      <td>10 dic. 2017</td>\n",
       "      <td>Coz it's 'cool'. Just like people who suddenly...</td>\n",
       "      <td>1</td>\n",
       "      <td>1</td>\n",
       "      <td>/saltedveg/status/939675324765298688</td>\n",
       "      <td>NaN</td>\n",
       "      <td>Allergy</td>\n",
       "      <td>0.9068</td>\n",
       "      <td>Positivo</td>\n",
       "    </tr>\n",
       "    <tr>\n",
       "      <th>2017-12-09</th>\n",
       "      <td>@RMathebulo</td>\n",
       "      <td>Rantho Mathebulo</td>\n",
       "      <td>9 dic. 2017</td>\n",
       "      <td>Alcoholism gout acne genetically modified food...</td>\n",
       "      <td>0</td>\n",
       "      <td>0</td>\n",
       "      <td>/RMathebulo/status/939601946960453633</td>\n",
       "      <td>NaN</td>\n",
       "      <td>Allergy</td>\n",
       "      <td>-0.7412</td>\n",
       "      <td>Negativo</td>\n",
       "    </tr>\n",
       "    <tr>\n",
       "      <th>2017-12-08</th>\n",
       "      <td>@carmelabny</td>\n",
       "      <td>JOSEPHINE BOLOGNA</td>\n",
       "      <td>8 dic. 2017</td>\n",
       "      <td>Foods to eat every day and a healthy product t...</td>\n",
       "      <td>7</td>\n",
       "      <td>4</td>\n",
       "      <td>/carmelabny/status/939102225800028160</td>\n",
       "      <td>NaN</td>\n",
       "      <td>Allergy</td>\n",
       "      <td>0.4738</td>\n",
       "      <td>Positivo</td>\n",
       "    </tr>\n",
       "  </tbody>\n",
       "</table>\n",
       "</div>"
      ],
      "text/plain": [
       "                         Usuario                  Nombre         Fecha  \\\n",
       "serie_temporal                                                           \n",
       "2017-12-10      @jaymee_danielle               zen kitty  10 dic. 2017   \n",
       "2017-12-10             @systecdb            Dave Baggett  10 dic. 2017   \n",
       "2017-12-10            @saltedveg  ingin punya tuyul saja  10 dic. 2017   \n",
       "2017-12-09           @RMathebulo        Rantho Mathebulo   9 dic. 2017   \n",
       "2017-12-08           @carmelabny       JOSEPHINE BOLOGNA   8 dic. 2017   \n",
       "\n",
       "                                                            Tweet  RT  like  \\\n",
       "serie_temporal                                                                \n",
       "2017-12-10      issues i have w/ GMO:\\n• doesnt taste “natural...  67   179   \n",
       "2017-12-10      It dawns on me that before GMO foods became pr...   0     1   \n",
       "2017-12-10      Coz it's 'cool'. Just like people who suddenly...   1     1   \n",
       "2017-12-09      Alcoholism gout acne genetically modified food...   0     0   \n",
       "2017-12-08      Foods to eat every day and a healthy product t...   7     4   \n",
       "\n",
       "                                                      path verificados  \\\n",
       "serie_temporal                                                           \n",
       "2017-12-10      /jaymee_danielle/status/939965734196842496         NaN   \n",
       "2017-12-10             /systecdb/status/939776697724997632         NaN   \n",
       "2017-12-10            /saltedveg/status/939675324765298688         NaN   \n",
       "2017-12-09           /RMathebulo/status/939601946960453633         NaN   \n",
       "2017-12-08           /carmelabny/status/939102225800028160         NaN   \n",
       "\n",
       "                 tópico  sentimiento categoría  \n",
       "serie_temporal                                  \n",
       "2017-12-10      Allergy       0.0900   Neutral  \n",
       "2017-12-10      Allergy       0.4767  Positivo  \n",
       "2017-12-10      Allergy       0.9068  Positivo  \n",
       "2017-12-09      Allergy      -0.7412  Negativo  \n",
       "2017-12-08      Allergy       0.4738  Positivo  "
      ]
     },
     "execution_count": 37,
     "metadata": {},
     "output_type": "execute_result"
    }
   ],
   "source": [
    "df = df.set_index(['serie_temporal'])\n",
    "df.head()"
   ]
  },
  {
   "cell_type": "markdown",
   "metadata": {},
   "source": [
    "### Generate and Plot Number of Tweets over Different Time Periods"
   ]
  },
  {
   "cell_type": "code",
   "execution_count": 38,
   "metadata": {},
   "outputs": [],
   "source": [
    "def f(x):\n",
    "     return Series(dict(Number_of_tweets = x['Tweet'].count(), \n",
    "                        ))"
   ]
  },
  {
   "cell_type": "code",
   "execution_count": 39,
   "metadata": {},
   "outputs": [
    {
     "name": "stdout",
     "output_type": "stream",
     "text": [
      "1422\n"
     ]
    },
    {
     "data": {
      "text/html": [
       "<div>\n",
       "<style scoped>\n",
       "    .dataframe tbody tr th:only-of-type {\n",
       "        vertical-align: middle;\n",
       "    }\n",
       "\n",
       "    .dataframe tbody tr th {\n",
       "        vertical-align: top;\n",
       "    }\n",
       "\n",
       "    .dataframe thead th {\n",
       "        text-align: right;\n",
       "    }\n",
       "</style>\n",
       "<table border=\"1\" class=\"dataframe\">\n",
       "  <thead>\n",
       "    <tr style=\"text-align: right;\">\n",
       "      <th></th>\n",
       "      <th>Number_of_tweets</th>\n",
       "    </tr>\n",
       "  </thead>\n",
       "  <tbody>\n",
       "    <tr>\n",
       "      <th>2009-10-12</th>\n",
       "      <td>1</td>\n",
       "    </tr>\n",
       "    <tr>\n",
       "      <th>2009-10-20</th>\n",
       "      <td>1</td>\n",
       "    </tr>\n",
       "    <tr>\n",
       "      <th>2009-10-26</th>\n",
       "      <td>1</td>\n",
       "    </tr>\n",
       "    <tr>\n",
       "      <th>2009-11-14</th>\n",
       "      <td>1</td>\n",
       "    </tr>\n",
       "    <tr>\n",
       "      <th>2010-01-07</th>\n",
       "      <td>1</td>\n",
       "    </tr>\n",
       "  </tbody>\n",
       "</table>\n",
       "</div>"
      ],
      "text/plain": [
       "            Number_of_tweets\n",
       "2009-10-12                 1\n",
       "2009-10-20                 1\n",
       "2009-10-26                 1\n",
       "2009-11-14                 1\n",
       "2010-01-07                 1"
      ]
     },
     "execution_count": 39,
     "metadata": {},
     "output_type": "execute_result"
    }
   ],
   "source": [
    "daily_count = df.groupby(df.index.date).apply(f)\n",
    "print(len(daily_count))\n",
    "daily_count.head()"
   ]
  },
  {
   "cell_type": "code",
   "execution_count": 41,
   "metadata": {},
   "outputs": [
    {
     "data": {
      "text/html": [
       "<div>\n",
       "<style scoped>\n",
       "    .dataframe tbody tr th:only-of-type {\n",
       "        vertical-align: middle;\n",
       "    }\n",
       "\n",
       "    .dataframe tbody tr th {\n",
       "        vertical-align: top;\n",
       "    }\n",
       "\n",
       "    .dataframe thead th {\n",
       "        text-align: right;\n",
       "    }\n",
       "</style>\n",
       "<table border=\"1\" class=\"dataframe\">\n",
       "  <thead>\n",
       "    <tr style=\"text-align: right;\">\n",
       "      <th></th>\n",
       "      <th>Number_of_tweets</th>\n",
       "    </tr>\n",
       "    <tr>\n",
       "      <th>date</th>\n",
       "      <th></th>\n",
       "    </tr>\n",
       "  </thead>\n",
       "  <tbody>\n",
       "    <tr>\n",
       "      <th>2009-10-12</th>\n",
       "      <td>1</td>\n",
       "    </tr>\n",
       "    <tr>\n",
       "      <th>2009-10-20</th>\n",
       "      <td>1</td>\n",
       "    </tr>\n",
       "    <tr>\n",
       "      <th>2009-10-26</th>\n",
       "      <td>1</td>\n",
       "    </tr>\n",
       "    <tr>\n",
       "      <th>2009-11-14</th>\n",
       "      <td>1</td>\n",
       "    </tr>\n",
       "    <tr>\n",
       "      <th>2010-01-07</th>\n",
       "      <td>1</td>\n",
       "    </tr>\n",
       "  </tbody>\n",
       "</table>\n",
       "</div>"
      ],
      "text/plain": [
       "            Number_of_tweets\n",
       "date                        \n",
       "2009-10-12                 1\n",
       "2009-10-20                 1\n",
       "2009-10-26                 1\n",
       "2009-11-14                 1\n",
       "2010-01-07                 1"
      ]
     },
     "execution_count": 41,
     "metadata": {},
     "output_type": "execute_result"
    }
   ],
   "source": [
    "daily_count.index.name = 'date'\n",
    "daily_count.head(5)"
   ]
  },
  {
   "cell_type": "code",
   "execution_count": 42,
   "metadata": {},
   "outputs": [
    {
     "data": {
      "text/html": [
       "<div>\n",
       "<style scoped>\n",
       "    .dataframe tbody tr th:only-of-type {\n",
       "        vertical-align: middle;\n",
       "    }\n",
       "\n",
       "    .dataframe tbody tr th {\n",
       "        vertical-align: top;\n",
       "    }\n",
       "\n",
       "    .dataframe thead th {\n",
       "        text-align: right;\n",
       "    }\n",
       "</style>\n",
       "<table border=\"1\" class=\"dataframe\">\n",
       "  <thead>\n",
       "    <tr style=\"text-align: right;\">\n",
       "      <th></th>\n",
       "      <th>Number_of_tweets</th>\n",
       "    </tr>\n",
       "    <tr>\n",
       "      <th>date</th>\n",
       "      <th></th>\n",
       "    </tr>\n",
       "  </thead>\n",
       "  <tbody>\n",
       "    <tr>\n",
       "      <th>2017-12-07</th>\n",
       "      <td>12</td>\n",
       "    </tr>\n",
       "    <tr>\n",
       "      <th>2017-12-08</th>\n",
       "      <td>32</td>\n",
       "    </tr>\n",
       "    <tr>\n",
       "      <th>2017-12-09</th>\n",
       "      <td>19</td>\n",
       "    </tr>\n",
       "    <tr>\n",
       "      <th>2017-12-10</th>\n",
       "      <td>33</td>\n",
       "    </tr>\n",
       "    <tr>\n",
       "      <th>2017-12-11</th>\n",
       "      <td>54</td>\n",
       "    </tr>\n",
       "  </tbody>\n",
       "</table>\n",
       "</div>"
      ],
      "text/plain": [
       "            Number_of_tweets\n",
       "date                        \n",
       "2017-12-07                12\n",
       "2017-12-08                32\n",
       "2017-12-09                19\n",
       "2017-12-10                33\n",
       "2017-12-11                54"
      ]
     },
     "execution_count": 42,
     "metadata": {},
     "output_type": "execute_result"
    }
   ],
   "source": [
    "daily_count.tail(5)"
   ]
  },
  {
   "cell_type": "code",
   "execution_count": 43,
   "metadata": {},
   "outputs": [
    {
     "data": {
      "text/plain": [
       "datetime.date(2009, 10, 12)"
      ]
     },
     "execution_count": 43,
     "metadata": {},
     "output_type": "execute_result"
    }
   ],
   "source": [
    "daily_count.index.min()"
   ]
  },
  {
   "cell_type": "code",
   "execution_count": 44,
   "metadata": {},
   "outputs": [
    {
     "data": {
      "text/plain": [
       "datetime.date(2017, 12, 11)"
      ]
     },
     "execution_count": 44,
     "metadata": {},
     "output_type": "execute_result"
    }
   ],
   "source": [
    "daily_count.index.max()"
   ]
  },
  {
   "cell_type": "code",
   "execution_count": 49,
   "metadata": {},
   "outputs": [
    {
     "data": {
      "image/png": "[encoded data removed]",
      "text/plain": [
       "<matplotlib.figure.Figure at 0x7ff9c0e6cb00>"
      ]
     },
     "metadata": {},
     "output_type": "display_data"
    }
   ],
   "source": [
    "daily_plot = daily_count['Number_of_tweets'].plot(kind='line', lw=1, alpha=0.75, legend=True, x_compat=True)\n",
    "\n",
    "daily_plot.set_xlabel('Día', weight='bold', labelpad=15)    #SET X-AXIS LABEL; ADD PADDING TO TOP OF LABEL\n",
    "daily_plot.set_ylabel('Número de Tweets', weight='bold', labelpad=15) #SET Y-AXIS LABEL; ADD PADDING TO RIGHT OF LABEL\n",
    "\n",
    "xticks(fontsize = 9, rotation = -30, ha =\"left\")  #SET FONT PROPERTIES OF X-AXIS TICK LABELS\n",
    "yticks(fontsize = 9)                              #SET FONT PROPERTIES OF Y-AXIS TICK LABELS\n",
    "\n",
    "#http://matplotlib.org/users/legend_guide.html\n",
    "#http://nbviewer.ipython.org/gist/olgabot/5357268  ### LIST OF OPTIONS\n",
    "#legend(fontsize='x-small',loc=2,labelspacing=0.1, frameon=False)#.draggable()\n",
    "daily_plot.legend_ = None\n",
    "daily_plot.tick_params(axis='x', pad=5) #SET PADDING ABOVE X-AXIS LABELS\n",
    "#Set x axis label on top of plot, set label text --> https://datasciencelab.wordpress.com/2013/12/21/beautiful-plots-with-pandas-and-matplotlib/\n",
    "#daily_plot.xaxis.set_label_position('top')\n",
    "\n",
    "savefig('img/daily counts.png', bbox_inches='tight', dpi=300, format='png')   #SAVE PLOT IN PNG FORMAT"
   ]
  },
  {
   "cell_type": "markdown",
   "metadata": {},
   "source": [
    "### Generate and Plot Day-of-the-Week Tweets"
   ]
  },
  {
   "cell_type": "code",
   "execution_count": 50,
   "metadata": {},
   "outputs": [
    {
     "name": "stdout",
     "output_type": "stream",
     "text": [
      "7\n"
     ]
    },
    {
     "data": {
      "text/html": [
       "<div>\n",
       "<style scoped>\n",
       "    .dataframe tbody tr th:only-of-type {\n",
       "        vertical-align: middle;\n",
       "    }\n",
       "\n",
       "    .dataframe tbody tr th {\n",
       "        vertical-align: top;\n",
       "    }\n",
       "\n",
       "    .dataframe thead th {\n",
       "        text-align: right;\n",
       "    }\n",
       "</style>\n",
       "<table border=\"1\" class=\"dataframe\">\n",
       "  <thead>\n",
       "    <tr style=\"text-align: right;\">\n",
       "      <th></th>\n",
       "      <th>Number_of_tweets</th>\n",
       "    </tr>\n",
       "    <tr>\n",
       "      <th>serie_temporal</th>\n",
       "      <th></th>\n",
       "    </tr>\n",
       "  </thead>\n",
       "  <tbody>\n",
       "    <tr>\n",
       "      <th>0</th>\n",
       "      <td>1826</td>\n",
       "    </tr>\n",
       "    <tr>\n",
       "      <th>1</th>\n",
       "      <td>1938</td>\n",
       "    </tr>\n",
       "    <tr>\n",
       "      <th>2</th>\n",
       "      <td>1972</td>\n",
       "    </tr>\n",
       "    <tr>\n",
       "      <th>3</th>\n",
       "      <td>1990</td>\n",
       "    </tr>\n",
       "    <tr>\n",
       "      <th>4</th>\n",
       "      <td>1803</td>\n",
       "    </tr>\n",
       "    <tr>\n",
       "      <th>5</th>\n",
       "      <td>1500</td>\n",
       "    </tr>\n",
       "    <tr>\n",
       "      <th>6</th>\n",
       "      <td>1516</td>\n",
       "    </tr>\n",
       "  </tbody>\n",
       "</table>\n",
       "</div>"
      ],
      "text/plain": [
       "                Number_of_tweets\n",
       "serie_temporal                  \n",
       "0                           1826\n",
       "1                           1938\n",
       "2                           1972\n",
       "3                           1990\n",
       "4                           1803\n",
       "5                           1500\n",
       "6                           1516"
      ]
     },
     "execution_count": 50,
     "metadata": {},
     "output_type": "execute_result"
    }
   ],
   "source": [
    "weekday_count = df.groupby(df.index.weekday).apply(f)\n",
    "print(len(weekday_count))\n",
    "weekday_count"
   ]
  },
  {
   "cell_type": "code",
   "execution_count": 52,
   "metadata": {},
   "outputs": [
    {
     "data": {
      "text/html": [
       "<div>\n",
       "<style scoped>\n",
       "    .dataframe tbody tr th:only-of-type {\n",
       "        vertical-align: middle;\n",
       "    }\n",
       "\n",
       "    .dataframe tbody tr th {\n",
       "        vertical-align: top;\n",
       "    }\n",
       "\n",
       "    .dataframe thead th {\n",
       "        text-align: right;\n",
       "    }\n",
       "</style>\n",
       "<table border=\"1\" class=\"dataframe\">\n",
       "  <thead>\n",
       "    <tr style=\"text-align: right;\">\n",
       "      <th></th>\n",
       "      <th>Number_of_tweets</th>\n",
       "      <th>day</th>\n",
       "    </tr>\n",
       "    <tr>\n",
       "      <th>serie_temporal</th>\n",
       "      <th></th>\n",
       "      <th></th>\n",
       "    </tr>\n",
       "  </thead>\n",
       "  <tbody>\n",
       "    <tr>\n",
       "      <th>0</th>\n",
       "      <td>1826</td>\n",
       "      <td>Lunes</td>\n",
       "    </tr>\n",
       "    <tr>\n",
       "      <th>1</th>\n",
       "      <td>1938</td>\n",
       "      <td>Martes</td>\n",
       "    </tr>\n",
       "    <tr>\n",
       "      <th>2</th>\n",
       "      <td>1972</td>\n",
       "      <td>Miércoles</td>\n",
       "    </tr>\n",
       "    <tr>\n",
       "      <th>3</th>\n",
       "      <td>1990</td>\n",
       "      <td>Jueves</td>\n",
       "    </tr>\n",
       "    <tr>\n",
       "      <th>4</th>\n",
       "      <td>1803</td>\n",
       "      <td>Viernes</td>\n",
       "    </tr>\n",
       "    <tr>\n",
       "      <th>5</th>\n",
       "      <td>1500</td>\n",
       "      <td>Sabado</td>\n",
       "    </tr>\n",
       "    <tr>\n",
       "      <th>6</th>\n",
       "      <td>1516</td>\n",
       "      <td>Domingo</td>\n",
       "    </tr>\n",
       "  </tbody>\n",
       "</table>\n",
       "</div>"
      ],
      "text/plain": [
       "                Number_of_tweets        day\n",
       "serie_temporal                             \n",
       "0                           1826      Lunes\n",
       "1                           1938     Martes\n",
       "2                           1972  Miércoles\n",
       "3                           1990     Jueves\n",
       "4                           1803    Viernes\n",
       "5                           1500     Sabado\n",
       "6                           1516    Domingo"
      ]
     },
     "execution_count": 52,
     "metadata": {},
     "output_type": "execute_result"
    }
   ],
   "source": [
    "days = ['Lunes', 'Martes', 'Miércoles', 'Jueves', 'Viernes', 'Sabado', 'Domingo']\n",
    "weekday_count['day'] = days\n",
    "weekday_count"
   ]
  },
  {
   "cell_type": "code",
   "execution_count": 53,
   "metadata": {},
   "outputs": [
    {
     "data": {
      "image/png": "[encoded data removed]",
      "text/plain": [
       "<matplotlib.figure.Figure at 0x7ff9c0fc22b0>"
      ]
     },
     "metadata": {},
     "output_type": "display_data"
    }
   ],
   "source": [
    "day_of_week_plot = weekday_count['Number_of_tweets'].plot(kind='bar')\n",
    "xticks(np.arange(7), weekday_count['day'], rotation = 0, fontsize = 9) #, ha =\"left\") \n",
    "\n",
    "###IF WE DON'T WANT TO CREATE ANOTHER COLUMN IN DATAFRAME WE CAN SET CUSTOM LABELS\n",
    "#days = ['Monday', 'Tuesday', 'Wednesday', 'Thursday', 'Friday', 'Saturday', 'Sunday']\n",
    "#xticks(np.arange(7), days, rotation = 0,fontsize = 9) #, ha =\"left\") \n",
    "\n",
    "savefig('img/day-of-week counts.png', bbox_inches='tight', dpi=300, format='png')"
   ]
  },
  {
   "cell_type": "markdown",
   "metadata": {},
   "source": [
    "### Generate Monthly Tweet Count"
   ]
  },
  {
   "cell_type": "code",
   "execution_count": 54,
   "metadata": {},
   "outputs": [
    {
     "data": {
      "text/html": [
       "<div>\n",
       "<style scoped>\n",
       "    .dataframe tbody tr th:only-of-type {\n",
       "        vertical-align: middle;\n",
       "    }\n",
       "\n",
       "    .dataframe tbody tr th {\n",
       "        vertical-align: top;\n",
       "    }\n",
       "\n",
       "    .dataframe thead th {\n",
       "        text-align: right;\n",
       "    }\n",
       "</style>\n",
       "<table border=\"1\" class=\"dataframe\">\n",
       "  <thead>\n",
       "    <tr style=\"text-align: right;\">\n",
       "      <th></th>\n",
       "      <th>Number_of_tweets</th>\n",
       "    </tr>\n",
       "    <tr>\n",
       "      <th>serie_temporal</th>\n",
       "      <th></th>\n",
       "    </tr>\n",
       "  </thead>\n",
       "  <tbody>\n",
       "    <tr>\n",
       "      <th>1</th>\n",
       "      <td>587</td>\n",
       "    </tr>\n",
       "    <tr>\n",
       "      <th>2</th>\n",
       "      <td>455</td>\n",
       "    </tr>\n",
       "    <tr>\n",
       "      <th>3</th>\n",
       "      <td>526</td>\n",
       "    </tr>\n",
       "    <tr>\n",
       "      <th>4</th>\n",
       "      <td>594</td>\n",
       "    </tr>\n",
       "    <tr>\n",
       "      <th>5</th>\n",
       "      <td>945</td>\n",
       "    </tr>\n",
       "    <tr>\n",
       "      <th>6</th>\n",
       "      <td>1000</td>\n",
       "    </tr>\n",
       "    <tr>\n",
       "      <th>7</th>\n",
       "      <td>1145</td>\n",
       "    </tr>\n",
       "    <tr>\n",
       "      <th>8</th>\n",
       "      <td>934</td>\n",
       "    </tr>\n",
       "    <tr>\n",
       "      <th>9</th>\n",
       "      <td>900</td>\n",
       "    </tr>\n",
       "    <tr>\n",
       "      <th>10</th>\n",
       "      <td>1843</td>\n",
       "    </tr>\n",
       "    <tr>\n",
       "      <th>11</th>\n",
       "      <td>2875</td>\n",
       "    </tr>\n",
       "    <tr>\n",
       "      <th>12</th>\n",
       "      <td>741</td>\n",
       "    </tr>\n",
       "  </tbody>\n",
       "</table>\n",
       "</div>"
      ],
      "text/plain": [
       "                Number_of_tweets\n",
       "serie_temporal                  \n",
       "1                            587\n",
       "2                            455\n",
       "3                            526\n",
       "4                            594\n",
       "5                            945\n",
       "6                           1000\n",
       "7                           1145\n",
       "8                            934\n",
       "9                            900\n",
       "10                          1843\n",
       "11                          2875\n",
       "12                           741"
      ]
     },
     "execution_count": 54,
     "metadata": {},
     "output_type": "execute_result"
    }
   ],
   "source": [
    "monthly_count = df.groupby(df.index.month).apply(f)\n",
    "monthly_count"
   ]
  },
  {
   "cell_type": "code",
   "execution_count": 56,
   "metadata": {},
   "outputs": [
    {
     "data": {
      "image/png": "[encoded data removed]",
      "text/plain": [
       "<matplotlib.figure.Figure at 0x7ff9c15e5eb8>"
      ]
     },
     "metadata": {},
     "output_type": "display_data"
    }
   ],
   "source": [
    "monthly_plot = monthly_count['Number_of_tweets'].plot(kind='bar')\n",
    "months = list(calendar.month_name[1:])                                    #GENERATE LIST OF MONTHS\n",
    "xticks(np.arange(12), months, rotation = 0,fontsize = 9)                  #USE THE CUSTOM TICKS\n",
    "\n",
    "monthly_plot.set_xlabel('Mes del año', weight='bold', labelpad=15)  #SET X-AXIS LABEL, ADD PADDING TO TOP OF X-AXIS LABEL\n",
    "monthly_plot.set_ylabel('Número de Tweets', weight='bold', labelpad=15) #SET Y-AXIS LABEL, ADD PADDING TO RIGHT OF Y-AXIS LABEL\n",
    "\n",
    "xticks(fontsize = 9, rotation = 0, ha= \"center\")                          #SET FONT SIZE FOR X-AXIS TICK LABELS\n",
    "yticks(fontsize = 9)                                                      #SET FONT SIZE FOR Y-AXIS TICK LABELS\n",
    "daily_plot.tick_params(axis='x', pad=5)                                   #SET PADDING ABOVE X-AXIS LABELS\n",
    "\n",
    "daily_plot.legend_ = None                                                 #TURN OFF LEGEND\n",
    "\n",
    "savefig('img/monthly counts - bar graph.png', bbox_inches='tight', dpi=300, format='png')"
   ]
  },
  {
   "cell_type": "code",
   "execution_count": 57,
   "metadata": {},
   "outputs": [
    {
     "data": {
      "text/plain": [
       "['seaborn-notebook',\n",
       " '_classic_test',\n",
       " 'fivethirtyeight',\n",
       " 'seaborn-paper',\n",
       " 'seaborn-muted',\n",
       " 'seaborn-dark-palette',\n",
       " 'seaborn-ticks',\n",
       " 'seaborn-white',\n",
       " 'seaborn-dark',\n",
       " 'Solarize_Light2',\n",
       " 'seaborn-colorblind',\n",
       " 'seaborn-talk',\n",
       " 'bmh',\n",
       " 'grayscale',\n",
       " 'seaborn-darkgrid',\n",
       " 'seaborn-poster',\n",
       " 'seaborn-deep',\n",
       " 'seaborn',\n",
       " 'fast',\n",
       " 'seaborn-whitegrid',\n",
       " 'classic',\n",
       " 'seaborn-bright',\n",
       " 'ggplot',\n",
       " 'seaborn-pastel',\n",
       " 'dark_background']"
      ]
     },
     "execution_count": 57,
     "metadata": {},
     "output_type": "execute_result"
    }
   ],
   "source": [
    "mpl.style.available"
   ]
  },
  {
   "cell_type": "code",
   "execution_count": 58,
   "metadata": {},
   "outputs": [],
   "source": [
    "mpl.style.use('ggplot')"
   ]
  },
  {
   "cell_type": "code",
   "execution_count": 59,
   "metadata": {},
   "outputs": [
    {
     "data": {
      "image/png": "[encoded data removed]",
      "text/plain": [
       "<matplotlib.figure.Figure at 0x7ff9bf266ac8>"
      ]
     },
     "metadata": {},
     "output_type": "display_data"
    }
   ],
   "source": [
    "daily_plot = daily_count['Number_of_tweets'].plot(kind='line', lw=1, alpha=0.75, legend=True, x_compat=True)\n",
    "daily_plot.set_xlabel('Month', weight='bold', labelpad=15)    #SET X-AXIS LABEL; ADD PADDING TO TOP OF LABEL\n",
    "daily_plot.set_ylabel('# Tweets (Messages)', weight='bold', labelpad=15) #SET Y-AXIS LABEL; ADD PADDING TO RIGHT OF LABE\n",
    "xticks(fontsize = 9, rotation = -30, ha =\"left\")  #SET FONT PROPERTIES OF X-AXIS TICK LABELS\n",
    "yticks(fontsize = 9)                              #SET FONT PROPERTIES OF Y-AXIS TICK LABELS\n",
    "daily_plot.legend_ = None\n",
    "daily_plot.tick_params(axis='x', pad=5)"
   ]
  },
  {
   "cell_type": "code",
   "execution_count": 60,
   "metadata": {},
   "outputs": [
    {
     "data": {
      "text/plain": [
       "([<matplotlib.axis.XTick at 0x7ff9c0fd27b8>,\n",
       "  <matplotlib.axis.XTick at 0x7ff9c0430cf8>,\n",
       "  <matplotlib.axis.XTick at 0x7ff9bfe25eb8>,\n",
       "  <matplotlib.axis.XTick at 0x7ff9c03df630>,\n",
       "  <matplotlib.axis.XTick at 0x7ff9c03dfc88>,\n",
       "  <matplotlib.axis.XTick at 0x7ff9c03e8320>,\n",
       "  <matplotlib.axis.XTick at 0x7ff9c03e8978>],\n",
       " <a list of 7 Text xticklabel objects>)"
      ]
     },
     "execution_count": 60,
     "metadata": {},
     "output_type": "execute_result"
    },
    {
     "data": {
      "image/png": "[encoded data removed]",
      "text/plain": [
       "<matplotlib.figure.Figure at 0x7ff9c176a588>"
      ]
     },
     "metadata": {},
     "output_type": "display_data"
    }
   ],
   "source": [
    "day_of_week_plot = weekday_count['Number_of_tweets'].plot(kind='bar')\n",
    "xticks(np.arange(7), weekday_count['day'], rotation = 0, fontsize = 9) #, ha =\"left\") "
   ]
  },
  {
   "cell_type": "code",
   "execution_count": 61,
   "metadata": {},
   "outputs": [
    {
     "data": {
      "image/png": "[encoded data removed]",
      "text/plain": [
       "<matplotlib.figure.Figure at 0x7ff9bf9f4b38>"
      ]
     },
     "metadata": {},
     "output_type": "display_data"
    }
   ],
   "source": [
    "monthly_plot = monthly_count['Number_of_tweets'].plot(kind='bar')\n",
    "months = list(calendar.month_name[1:])                                    #GENERATE LIST OF MONTHS\n",
    "xticks(np.arange(12), months, rotation = 0,fontsize = 9)                  #USE THE CUSTOM TICKS\n",
    "\n",
    "monthly_plot.set_xlabel('Mes del año', weight='bold', labelpad=15)  #SET X-AXIS LABEL, ADD PADDING TO TOP OF X-AXIS LABEL\n",
    "monthly_plot.set_ylabel('Número de Tweets', weight='bold', labelpad=15) #SET Y-AXIS LABEL, ADD PADDING TO RIGHT OF Y-AXIS LABEL\n",
    "\n",
    "xticks(fontsize = 9, rotation = 0, ha= \"center\")                          #SET FONT SIZE FOR X-AXIS TICK LABELS\n",
    "yticks(fontsize = 9)                                                      #SET FONT SIZE FOR Y-AXIS TICK LABELS\n",
    "daily_plot.tick_params(axis='x', pad=5)                                   #SET PADDING ABOVE X-AXIS LABELS\n",
    "\n",
    "daily_plot.legend_ = None                                                 #TURN OFF LEGEND"
   ]
  },
  {
   "cell_type": "code",
   "execution_count": null,
   "metadata": {},
   "outputs": [],
   "source": []
  }
 ],
 "metadata": {
  "kernelspec": {
   "display_name": "Python 3",
   "language": "python",
   "name": "python3"
  },
  "language_info": {
   "codemirror_mode": {
    "name": "ipython",
    "version": 3
   },
   "file_extension": ".py",
   "mimetype": "text/x-python",
   "name": "python",
   "nbconvert_exporter": "python",
   "pygments_lexer": "ipython3",
   "version": "3.6.1"
  }
 },
 "nbformat": 4,
 "nbformat_minor": 2
}
