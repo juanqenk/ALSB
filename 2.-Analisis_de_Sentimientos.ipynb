{
 "cells": [
  {
   "cell_type": "markdown",
   "metadata": {},
   "source": [
    "\n",
    "<center> <h1>Analisis de sentimientos de tuits con Python</h1> </center>\n",
    "   \n",
    "    \n",
    "    \n",
    "![](img/2.png)\n",
    "\n",
    "<h3>Juan Cuenca</h3>\n",
    "[Twitter](http://twitter.com/juan_qenk) | [Github](https://github.com/juanqenk) | [mail](mailto:juanqenk@gmail.com)"
   ]
  },
  {
   "cell_type": "code",
   "execution_count": 1,
   "metadata": {},
   "outputs": [],
   "source": [
    "import pandas as pd\n",
    "import numpy as np\n",
    "import re\n",
    "from vaderSentiment.vaderSentiment import SentimentIntensityAnalyzer\n",
    "analyzer = SentimentIntensityAnalyzer()\n",
    "from IPython.display import Latex\n",
    "import platform\n",
    "import sys"
   ]
  },
  {
   "cell_type": "code",
   "execution_count": 2,
   "metadata": {
    "scrolled": true
   },
   "outputs": [
    {
     "name": "stdout",
     "output_type": "stream",
     "text": [
      "Sistema operativo:      Linux-4.9.71-1-MANJARO-x86_64-with-arch-Manjaro-Linux\n",
      "Versión de Python:      3.6.1 |Continuum Analytics, Inc.| (default, May 11 2017, 13:09:58) \n",
      "[GCC 4.4.7 20120313 (Red Hat 4.4.7-1)]\n",
      "Versión de Pandas:      0.21.0\n",
      "Versión de Numpy:       1.13.3\n",
      "Versión de Regular Expressions:      2.2.1\n"
     ]
    }
   ],
   "source": [
    "print(\"Sistema operativo:     \", platform.platform())\n",
    "print(\"Versión de Python:     \", sys.version)\n",
    "print(\"Versión de Pandas:     \", pd.__version__)\n",
    "print(\"Versión de Numpy:      \", np.version.short_version)\n",
    "print(\"Versión de Regular Expressions:     \", re.__version__)\n",
    "\n"
   ]
  },
  {
   "cell_type": "code",
   "execution_count": 3,
   "metadata": {},
   "outputs": [
    {
     "name": "stdout",
     "output_type": "stream",
     "text": [
      "data/Data_Allergy.csv\n",
      "data/Data_biodiversity.csv\n",
      "data/Data_bioremediation.csv\n",
      "data/Data_cancer.csv\n",
      "data/Data_crops.csv\n",
      "data/Data_Environment.csv\n",
      "data/Data_FunctionalFood.csv\n",
      "data/Data_genetransfer.csv\n",
      "data/Data_GoldenRice.csv\n",
      "data/Data_inequality.csv\n",
      "data/Data_medicine.csv\n",
      "data/Data_pesticides.csv\n",
      "data/Data_social.csv\n",
      "data/Data_vaccines.csv\n"
     ]
    }
   ],
   "source": [
    "miscsv = !ls data/*.csv\n",
    "for csv in miscsv:\n",
    "    print(csv)"
   ]
  },
  {
   "cell_type": "code",
   "execution_count": 4,
   "metadata": {},
   "outputs": [],
   "source": [
    "list_ = []\n",
    "for csv in miscsv:\n",
    "    df = pd.read_csv(csv,index_col=0, header=0)\n",
    "    topic = csv.split('/Data_')[1].split('.')[0]\n",
    "    df['tópico']= topic\n",
    "    list_.append(df)\n",
    "df = pd.concat(list_, ignore_index=True)"
   ]
  },
  {
   "cell_type": "code",
   "execution_count": 5,
   "metadata": {},
   "outputs": [
    {
     "name": "stdout",
     "output_type": "stream",
     "text": [
      "<class 'pandas.core.frame.DataFrame'>\n",
      "RangeIndex: 12545 entries, 0 to 12544\n",
      "Data columns (total 9 columns):\n",
      "Usuario        12545 non-null object\n",
      "Nombre         12545 non-null object\n",
      "Fecha          12545 non-null object\n",
      "Tweet          12545 non-null object\n",
      "RT             12545 non-null int64\n",
      "like           12545 non-null int64\n",
      "path           12545 non-null object\n",
      "verificados    235 non-null object\n",
      "tópico         12545 non-null object\n",
      "dtypes: int64(2), object(7)\n",
      "memory usage: 882.1+ KB\n",
      "None\n"
     ]
    }
   ],
   "source": [
    "print(df.info())"
   ]
  },
  {
   "cell_type": "code",
   "execution_count": 6,
   "metadata": {},
   "outputs": [
    {
     "data": {
      "text/html": [
       "<div>\n",
       "<style scoped>\n",
       "    .dataframe tbody tr th:only-of-type {\n",
       "        vertical-align: middle;\n",
       "    }\n",
       "\n",
       "    .dataframe tbody tr th {\n",
       "        vertical-align: top;\n",
       "    }\n",
       "\n",
       "    .dataframe thead th {\n",
       "        text-align: right;\n",
       "    }\n",
       "</style>\n",
       "<table border=\"1\" class=\"dataframe\">\n",
       "  <thead>\n",
       "    <tr style=\"text-align: right;\">\n",
       "      <th></th>\n",
       "      <th>Usuario</th>\n",
       "      <th>Nombre</th>\n",
       "      <th>Fecha</th>\n",
       "      <th>Tweet</th>\n",
       "      <th>RT</th>\n",
       "      <th>like</th>\n",
       "      <th>path</th>\n",
       "      <th>verificados</th>\n",
       "      <th>tópico</th>\n",
       "    </tr>\n",
       "  </thead>\n",
       "  <tbody>\n",
       "    <tr>\n",
       "      <th>0</th>\n",
       "      <td>@jaymee_danielle</td>\n",
       "      <td>zen kitty</td>\n",
       "      <td>10 dic. 2017</td>\n",
       "      <td>issues i have w/ GMO:\\n• doesnt taste “natural...</td>\n",
       "      <td>67</td>\n",
       "      <td>179</td>\n",
       "      <td>/jaymee_danielle/status/939965734196842496</td>\n",
       "      <td>NaN</td>\n",
       "      <td>Allergy</td>\n",
       "    </tr>\n",
       "    <tr>\n",
       "      <th>1</th>\n",
       "      <td>@systecdb</td>\n",
       "      <td>Dave Baggett</td>\n",
       "      <td>10 dic. 2017</td>\n",
       "      <td>It dawns on me that before GMO foods became pr...</td>\n",
       "      <td>0</td>\n",
       "      <td>1</td>\n",
       "      <td>/systecdb/status/939776697724997632</td>\n",
       "      <td>NaN</td>\n",
       "      <td>Allergy</td>\n",
       "    </tr>\n",
       "    <tr>\n",
       "      <th>2</th>\n",
       "      <td>@saltedveg</td>\n",
       "      <td>ingin punya tuyul saja</td>\n",
       "      <td>10 dic. 2017</td>\n",
       "      <td>Coz it's 'cool'. Just like people who suddenly...</td>\n",
       "      <td>1</td>\n",
       "      <td>1</td>\n",
       "      <td>/saltedveg/status/939675324765298688</td>\n",
       "      <td>NaN</td>\n",
       "      <td>Allergy</td>\n",
       "    </tr>\n",
       "    <tr>\n",
       "      <th>3</th>\n",
       "      <td>@RMathebulo</td>\n",
       "      <td>Rantho Mathebulo</td>\n",
       "      <td>9 dic. 2017</td>\n",
       "      <td>Alcoholism gout acne genetically modified food...</td>\n",
       "      <td>0</td>\n",
       "      <td>0</td>\n",
       "      <td>/RMathebulo/status/939601946960453633</td>\n",
       "      <td>NaN</td>\n",
       "      <td>Allergy</td>\n",
       "    </tr>\n",
       "    <tr>\n",
       "      <th>4</th>\n",
       "      <td>@carmelabny</td>\n",
       "      <td>JOSEPHINE BOLOGNA</td>\n",
       "      <td>8 dic. 2017</td>\n",
       "      <td>Foods to eat every day and a healthy product t...</td>\n",
       "      <td>7</td>\n",
       "      <td>4</td>\n",
       "      <td>/carmelabny/status/939102225800028160</td>\n",
       "      <td>NaN</td>\n",
       "      <td>Allergy</td>\n",
       "    </tr>\n",
       "  </tbody>\n",
       "</table>\n",
       "</div>"
      ],
      "text/plain": [
       "            Usuario                  Nombre         Fecha  \\\n",
       "0  @jaymee_danielle               zen kitty  10 dic. 2017   \n",
       "1         @systecdb            Dave Baggett  10 dic. 2017   \n",
       "2        @saltedveg  ingin punya tuyul saja  10 dic. 2017   \n",
       "3       @RMathebulo        Rantho Mathebulo   9 dic. 2017   \n",
       "4       @carmelabny       JOSEPHINE BOLOGNA   8 dic. 2017   \n",
       "\n",
       "                                               Tweet  RT  like  \\\n",
       "0  issues i have w/ GMO:\\n• doesnt taste “natural...  67   179   \n",
       "1  It dawns on me that before GMO foods became pr...   0     1   \n",
       "2  Coz it's 'cool'. Just like people who suddenly...   1     1   \n",
       "3  Alcoholism gout acne genetically modified food...   0     0   \n",
       "4  Foods to eat every day and a healthy product t...   7     4   \n",
       "\n",
       "                                         path verificados   tópico  \n",
       "0  /jaymee_danielle/status/939965734196842496         NaN  Allergy  \n",
       "1         /systecdb/status/939776697724997632         NaN  Allergy  \n",
       "2        /saltedveg/status/939675324765298688         NaN  Allergy  \n",
       "3       /RMathebulo/status/939601946960453633         NaN  Allergy  \n",
       "4       /carmelabny/status/939102225800028160         NaN  Allergy  "
      ]
     },
     "execution_count": 6,
     "metadata": {},
     "output_type": "execute_result"
    }
   ],
   "source": [
    "df.head()"
   ]
  },
  {
   "cell_type": "code",
   "execution_count": 7,
   "metadata": {},
   "outputs": [
    {
     "data": {
      "text/plain": [
       "Index(['Usuario', 'Nombre', 'Fecha', 'Tweet', 'RT', 'like', 'path',\n",
       "       'verificados', 'tópico'],\n",
       "      dtype='object')"
      ]
     },
     "execution_count": 7,
     "metadata": {},
     "output_type": "execute_result"
    }
   ],
   "source": [
    "df.columns"
   ]
  },
  {
   "cell_type": "code",
   "execution_count": 8,
   "metadata": {
    "scrolled": true
   },
   "outputs": [
    {
     "data": {
      "text/plain": [
       "Usuario        12545\n",
       "Nombre         12545\n",
       "Fecha          12545\n",
       "Tweet          12545\n",
       "RT             12545\n",
       "like           12545\n",
       "path           12545\n",
       "verificados      235\n",
       "tópico         12545\n",
       "dtype: int64"
      ]
     },
     "execution_count": 8,
     "metadata": {},
     "output_type": "execute_result"
    }
   ],
   "source": [
    "df.count()"
   ]
  },
  {
   "cell_type": "code",
   "execution_count": 9,
   "metadata": {
    "scrolled": true
   },
   "outputs": [
    {
     "name": "stdout",
     "output_type": "stream",
     "text": [
      "                Usuario  Nombre  Fecha  Tweet    RT  like  path  verificados\n",
      "tópico                                                                      \n",
      "Allergy            1201    1201   1201   1201  1201  1201  1201           13\n",
      "Environment         868     868    868    868   868   868   868           37\n",
      "FunctionalFood       16      16     16     16    16    16    16            0\n",
      "GoldenRice         1199    1199   1199   1199  1199  1199  1199           29\n",
      "biodiversity       1446    1446   1446   1446  1446  1446  1446           29\n",
      "bioremediation       21      21     21     21    21    21    21            0\n",
      "cancer              783     783    783    783   783   783   783           13\n",
      "crops              1123    1123   1123   1123  1123  1123  1123           20\n",
      "genetransfer        393     393    393    393   393   393   393           14\n",
      "inequality          303     303    303    303   303   303   303            6\n",
      "medicine           1609    1609   1609   1609  1609  1609  1609           19\n",
      "pesticides          981     981    981    981   981   981   981            7\n",
      "social              877     877    877    877   877   877   877           15\n",
      "vaccines           1725    1725   1725   1725  1725  1725  1725           33\n"
     ]
    }
   ],
   "source": [
    "print(df.groupby('tópico').count())"
   ]
  },
  {
   "cell_type": "code",
   "execution_count": 10,
   "metadata": {
    "scrolled": false
   },
   "outputs": [
    {
     "data": {
      "text/html": [
       "<div>\n",
       "<style scoped>\n",
       "    .dataframe tbody tr th:only-of-type {\n",
       "        vertical-align: middle;\n",
       "    }\n",
       "\n",
       "    .dataframe tbody tr th {\n",
       "        vertical-align: top;\n",
       "    }\n",
       "\n",
       "    .dataframe thead th {\n",
       "        text-align: right;\n",
       "    }\n",
       "</style>\n",
       "<table border=\"1\" class=\"dataframe\">\n",
       "  <thead>\n",
       "    <tr style=\"text-align: right;\">\n",
       "      <th></th>\n",
       "      <th>Tweet</th>\n",
       "      <th>verificados</th>\n",
       "    </tr>\n",
       "    <tr>\n",
       "      <th>tópico</th>\n",
       "      <th></th>\n",
       "      <th></th>\n",
       "    </tr>\n",
       "  </thead>\n",
       "  <tbody>\n",
       "    <tr>\n",
       "      <th>Allergy</th>\n",
       "      <td>1201</td>\n",
       "      <td>13</td>\n",
       "    </tr>\n",
       "    <tr>\n",
       "      <th>Environment</th>\n",
       "      <td>868</td>\n",
       "      <td>37</td>\n",
       "    </tr>\n",
       "    <tr>\n",
       "      <th>FunctionalFood</th>\n",
       "      <td>16</td>\n",
       "      <td>0</td>\n",
       "    </tr>\n",
       "    <tr>\n",
       "      <th>GoldenRice</th>\n",
       "      <td>1199</td>\n",
       "      <td>29</td>\n",
       "    </tr>\n",
       "    <tr>\n",
       "      <th>biodiversity</th>\n",
       "      <td>1446</td>\n",
       "      <td>29</td>\n",
       "    </tr>\n",
       "    <tr>\n",
       "      <th>bioremediation</th>\n",
       "      <td>21</td>\n",
       "      <td>0</td>\n",
       "    </tr>\n",
       "    <tr>\n",
       "      <th>cancer</th>\n",
       "      <td>783</td>\n",
       "      <td>13</td>\n",
       "    </tr>\n",
       "    <tr>\n",
       "      <th>crops</th>\n",
       "      <td>1123</td>\n",
       "      <td>20</td>\n",
       "    </tr>\n",
       "    <tr>\n",
       "      <th>genetransfer</th>\n",
       "      <td>393</td>\n",
       "      <td>14</td>\n",
       "    </tr>\n",
       "    <tr>\n",
       "      <th>inequality</th>\n",
       "      <td>303</td>\n",
       "      <td>6</td>\n",
       "    </tr>\n",
       "    <tr>\n",
       "      <th>medicine</th>\n",
       "      <td>1609</td>\n",
       "      <td>19</td>\n",
       "    </tr>\n",
       "    <tr>\n",
       "      <th>pesticides</th>\n",
       "      <td>981</td>\n",
       "      <td>7</td>\n",
       "    </tr>\n",
       "    <tr>\n",
       "      <th>social</th>\n",
       "      <td>877</td>\n",
       "      <td>15</td>\n",
       "    </tr>\n",
       "    <tr>\n",
       "      <th>vaccines</th>\n",
       "      <td>1725</td>\n",
       "      <td>33</td>\n",
       "    </tr>\n",
       "  </tbody>\n",
       "</table>\n",
       "</div>"
      ],
      "text/plain": [
       "                Tweet  verificados\n",
       "tópico                            \n",
       "Allergy          1201           13\n",
       "Environment       868           37\n",
       "FunctionalFood     16            0\n",
       "GoldenRice       1199           29\n",
       "biodiversity     1446           29\n",
       "bioremediation     21            0\n",
       "cancer            783           13\n",
       "crops            1123           20\n",
       "genetransfer      393           14\n",
       "inequality        303            6\n",
       "medicine         1609           19\n",
       "pesticides        981            7\n",
       "social            877           15\n",
       "vaccines         1725           33"
      ]
     },
     "execution_count": 10,
     "metadata": {},
     "output_type": "execute_result"
    }
   ],
   "source": [
    "df.groupby('tópico').count()[['Tweet', 'verificados']]"
   ]
  },
  {
   "cell_type": "code",
   "execution_count": 11,
   "metadata": {},
   "outputs": [
    {
     "data": {
      "text/plain": [
       "'@POTUS Please stop the usage of Roundup on our crops and GMO’s in this country. People are falling left and right to cancer, autism, allergies, and ADHD and it is related to the food we’re offered. Other countries protect their citizens from these harmful foods.'"
      ]
     },
     "execution_count": 11,
     "metadata": {},
     "output_type": "execute_result"
    }
   ],
   "source": [
    "df['Tweet'][17]"
   ]
  },
  {
   "cell_type": "code",
   "execution_count": 12,
   "metadata": {
    "scrolled": true
   },
   "outputs": [
    {
     "data": {
      "text/plain": [
       "' Please stop the usage of Roundup on our crops and GMO’s in this country. People are falling left and right to cancer, autism, allergies, and ADHD and it is related to the food we’re offered. Other countries protect their citizens from these harmful foods.'"
      ]
     },
     "execution_count": 12,
     "metadata": {},
     "output_type": "execute_result"
    }
   ],
   "source": [
    "re.sub(r'@[A-Za-z0-9]+','',df['Tweet'][17])"
   ]
  },
  {
   "cell_type": "code",
   "execution_count": 13,
   "metadata": {
    "scrolled": true
   },
   "outputs": [
    {
     "data": {
      "text/plain": [
       "'HOW GMOS CAN MAKE ALLERGIES WORSE https://www.gmonion.com/how-gmos-can-make-allergies-worse/\\xa0… #health #allergy #allergic #gmo'"
      ]
     },
     "execution_count": 13,
     "metadata": {},
     "output_type": "execute_result"
    }
   ],
   "source": [
    "df['Tweet'][7]"
   ]
  },
  {
   "cell_type": "code",
   "execution_count": 28,
   "metadata": {},
   "outputs": [
    {
     "data": {
      "text/plain": [
       "'HOW GMOS CAN MAKE ALLERGIES WORSE \\xa0… #health #allergy #allergic #gmo'"
      ]
     },
     "execution_count": 28,
     "metadata": {},
     "output_type": "execute_result"
    }
   ],
   "source": [
    "re.sub('https?://[A-Za-z0-9./-]+','',df['Tweet'][7])"
   ]
  },
  {
   "cell_type": "code",
   "execution_count": 29,
   "metadata": {},
   "outputs": [
    {
     "data": {
      "text/plain": [
       "'HOW GMOS CAN MAKE ALLERGIES WORSE \\xa0… health allergy allergic gmo'"
      ]
     },
     "execution_count": 29,
     "metadata": {},
     "output_type": "execute_result"
    }
   ],
   "source": [
    "re.sub('https?://[A-Za-z0-9./-]+|#','',df['Tweet'][7])"
   ]
  },
  {
   "cell_type": "code",
   "execution_count": 30,
   "metadata": {},
   "outputs": [],
   "source": [
    "def clean_tweet(tweet):\n",
    "    '''\n",
    "    Función de utilidad para limpiar el texto de un tweet eliminando \n",
    "    enlaces y caracteres especiales usando regex.\n",
    "    '''\n",
    "    return ' '.join(re.sub(\"(@[A-Za-z0-9_]+)|https?://[A-Za-z0-9./-]+|(\\w+:\\/\\/\\S+)|#\", \" \", tweet).split())"
   ]
  },
  {
   "cell_type": "code",
   "execution_count": 31,
   "metadata": {},
   "outputs": [
    {
     "data": {
      "text/plain": [
       "'Anti vaccine (MMR) and anti GMO  show complete lack of understanding and misplaced distrust @5WrightStuff #wrightstuff'"
      ]
     },
     "execution_count": 31,
     "metadata": {},
     "output_type": "execute_result"
    }
   ],
   "source": [
    "df['Tweet'][12518]\n"
   ]
  },
  {
   "cell_type": "code",
   "execution_count": 32,
   "metadata": {},
   "outputs": [
    {
     "data": {
      "text/plain": [
       "'Anti vaccine (MMR) and anti GMO show complete lack of understanding and misplaced distrust wrightstuff'"
      ]
     },
     "execution_count": 32,
     "metadata": {},
     "output_type": "execute_result"
    }
   ],
   "source": [
    "clean_tweet(df['Tweet'][12518])"
   ]
  },
  {
   "cell_type": "code",
   "execution_count": 33,
   "metadata": {
    "scrolled": false
   },
   "outputs": [
    {
     "data": {
      "text/plain": [
       "'Alcoholism gout acne genetically modified food AIDS high blood pressure hypertension allergies poisoned fruit& vegs...The list is endless!!!'"
      ]
     },
     "execution_count": 33,
     "metadata": {},
     "output_type": "execute_result"
    }
   ],
   "source": [
    "df['Tweet'][3]"
   ]
  },
  {
   "cell_type": "code",
   "execution_count": 34,
   "metadata": {
    "scrolled": false
   },
   "outputs": [
    {
     "data": {
      "text/plain": [
       "'Alcoholism gout acne genetically modified food AIDS high blood pressure hypertension allergies poisoned fruit& vegs...The list is endless!!!'"
      ]
     },
     "execution_count": 34,
     "metadata": {},
     "output_type": "execute_result"
    }
   ],
   "source": [
    "clean_tweet(df['Tweet'][3])"
   ]
  },
  {
   "cell_type": "code",
   "execution_count": null,
   "metadata": {},
   "outputs": [],
   "source": []
  },
  {
   "cell_type": "code",
   "execution_count": 35,
   "metadata": {},
   "outputs": [],
   "source": [
    "frases = [\"Modified organisms are smart, cool, and necessary.\",      # Una frase positiva\n",
    "            \"Transgenics are bad and harmfull\", #Una frase negativa\n",
    "            \"Modified organisms are not smart, neither cool.\",   # Una frase que no es positiva\n",
    "            \"Modified organisms are smart, cool, and necessary!\",       # Una frase con exclamaciones\n",
    "            \"Are modified organism cool?\", #frase con interrogación\n",
    "            \"Modified organisms are very smart, cool, and necessary.\",  # Frase con enfasis (muy)\n",
    "            \"Modified organisms are SMART, cool, and NECESSARY.\",  # Enfasis por mayusculas\n",
    "            \"Modified organisms are VERY SMART, COOL, and necessary!!!\",# Enfasis con mayusculas y varios signos de exclamación\n",
    "            \"Transgenics are kind of good.\",                 # Frase positiva sin enfasis\n",
    "            \"Transgenics are good, but can produce bad and serious health problems\", # Frase positiva con contrapunto negativo\n",
    "            \"At least it isn't a horrible thing.\",         # Una frase que no es negativa\n",
    "            \"GMO make me :) or :D !\",              # emoticonos\n",
    "            \"Transgenics SUX!\",                                 # frase negativa en argot\n",
    "            \"Transgenics kinda sux! But can improve our health, lol\"  # Frase mixta en argot\n",
    "             ]"
   ]
  },
  {
   "cell_type": "code",
   "execution_count": 36,
   "metadata": {},
   "outputs": [
    {
     "name": "stdout",
     "output_type": "stream",
     "text": [
      "Modified organisms are smart, cool, and necessary.--------------- 0.6124\n",
      "Transgenics are bad and harmfull--------------------------------- -0.5423\n",
      "Modified organisms are not smart, neither cool.------------------ -0.1396\n",
      "Modified organisms are smart, cool, and necessary!--------------- 0.6476\n",
      "Are modified organism cool?-------------------------------------- 0.3182\n",
      "Modified organisms are very smart, cool, and necessary.---------- 0.6779\n",
      "Modified organisms are SMART, cool, and NECESSARY.--------------- 0.694\n",
      "Modified organisms are VERY SMART, COOL, and necessary!!!-------- 0.8845\n",
      "Transgenics are kind of good.------------------------------------ 0.3832\n",
      "Transgenics are good, but can produce bad and serious health problems -0.8316\n",
      "At least it isn't a horrible thing.------------------------------ 0.431\n",
      "GMO make me :) or :D !------------------------------------------- 0.8087\n",
      "Transgenics SUX!------------------------------------------------- -0.5461\n",
      "Transgenics kinda sux! But can improve our health, lol----------- 0.5838\n"
     ]
    }
   ],
   "source": [
    "for frase in frases:\n",
    "    vs = analyzer.polarity_scores(frase)\n",
    "    print(\"{:-<65} {}\".format(frase, vs['compound']))\n"
   ]
  },
  {
   "cell_type": "code",
   "execution_count": 37,
   "metadata": {},
   "outputs": [
    {
     "name": "stdout",
     "output_type": "stream",
     "text": [
      "1825 tuits positivos,  3427 tuits negativos y 7293 tuits neutrales\n"
     ]
    }
   ],
   "source": [
    "sentiments = []\n",
    "for tweet in df['Tweet']:\n",
    "    sentiments.append(analyzer.polarity_scores(clean_tweet(tweet))['compound'])\n"
   ]
  },
  {
   "cell_type": "code",
   "execution_count": 38,
   "metadata": {},
   "outputs": [
    {
     "data": {
      "text/html": [
       "<div>\n",
       "<style scoped>\n",
       "    .dataframe tbody tr th:only-of-type {\n",
       "        vertical-align: middle;\n",
       "    }\n",
       "\n",
       "    .dataframe tbody tr th {\n",
       "        vertical-align: top;\n",
       "    }\n",
       "\n",
       "    .dataframe thead th {\n",
       "        text-align: right;\n",
       "    }\n",
       "</style>\n",
       "<table border=\"1\" class=\"dataframe\">\n",
       "  <thead>\n",
       "    <tr style=\"text-align: right;\">\n",
       "      <th></th>\n",
       "      <th>Usuario</th>\n",
       "      <th>Nombre</th>\n",
       "      <th>Fecha</th>\n",
       "      <th>Tweet</th>\n",
       "      <th>RT</th>\n",
       "      <th>like</th>\n",
       "      <th>path</th>\n",
       "      <th>verificados</th>\n",
       "      <th>tópico</th>\n",
       "      <th>sentimiento</th>\n",
       "    </tr>\n",
       "  </thead>\n",
       "  <tbody>\n",
       "    <tr>\n",
       "      <th>0</th>\n",
       "      <td>@jaymee_danielle</td>\n",
       "      <td>zen kitty</td>\n",
       "      <td>10 dic. 2017</td>\n",
       "      <td>issues i have w/ GMO:\\n• doesnt taste “natural...</td>\n",
       "      <td>67</td>\n",
       "      <td>179</td>\n",
       "      <td>/jaymee_danielle/status/939965734196842496</td>\n",
       "      <td>NaN</td>\n",
       "      <td>Allergy</td>\n",
       "      <td>0.0900</td>\n",
       "    </tr>\n",
       "    <tr>\n",
       "      <th>1</th>\n",
       "      <td>@systecdb</td>\n",
       "      <td>Dave Baggett</td>\n",
       "      <td>10 dic. 2017</td>\n",
       "      <td>It dawns on me that before GMO foods became pr...</td>\n",
       "      <td>0</td>\n",
       "      <td>1</td>\n",
       "      <td>/systecdb/status/939776697724997632</td>\n",
       "      <td>NaN</td>\n",
       "      <td>Allergy</td>\n",
       "      <td>0.4767</td>\n",
       "    </tr>\n",
       "    <tr>\n",
       "      <th>2</th>\n",
       "      <td>@saltedveg</td>\n",
       "      <td>ingin punya tuyul saja</td>\n",
       "      <td>10 dic. 2017</td>\n",
       "      <td>Coz it's 'cool'. Just like people who suddenly...</td>\n",
       "      <td>1</td>\n",
       "      <td>1</td>\n",
       "      <td>/saltedveg/status/939675324765298688</td>\n",
       "      <td>NaN</td>\n",
       "      <td>Allergy</td>\n",
       "      <td>0.9068</td>\n",
       "    </tr>\n",
       "    <tr>\n",
       "      <th>3</th>\n",
       "      <td>@RMathebulo</td>\n",
       "      <td>Rantho Mathebulo</td>\n",
       "      <td>9 dic. 2017</td>\n",
       "      <td>Alcoholism gout acne genetically modified food...</td>\n",
       "      <td>0</td>\n",
       "      <td>0</td>\n",
       "      <td>/RMathebulo/status/939601946960453633</td>\n",
       "      <td>NaN</td>\n",
       "      <td>Allergy</td>\n",
       "      <td>-0.7412</td>\n",
       "    </tr>\n",
       "    <tr>\n",
       "      <th>4</th>\n",
       "      <td>@carmelabny</td>\n",
       "      <td>JOSEPHINE BOLOGNA</td>\n",
       "      <td>8 dic. 2017</td>\n",
       "      <td>Foods to eat every day and a healthy product t...</td>\n",
       "      <td>7</td>\n",
       "      <td>4</td>\n",
       "      <td>/carmelabny/status/939102225800028160</td>\n",
       "      <td>NaN</td>\n",
       "      <td>Allergy</td>\n",
       "      <td>0.4738</td>\n",
       "    </tr>\n",
       "  </tbody>\n",
       "</table>\n",
       "</div>"
      ],
      "text/plain": [
       "            Usuario                  Nombre         Fecha  \\\n",
       "0  @jaymee_danielle               zen kitty  10 dic. 2017   \n",
       "1         @systecdb            Dave Baggett  10 dic. 2017   \n",
       "2        @saltedveg  ingin punya tuyul saja  10 dic. 2017   \n",
       "3       @RMathebulo        Rantho Mathebulo   9 dic. 2017   \n",
       "4       @carmelabny       JOSEPHINE BOLOGNA   8 dic. 2017   \n",
       "\n",
       "                                               Tweet  RT  like  \\\n",
       "0  issues i have w/ GMO:\\n• doesnt taste “natural...  67   179   \n",
       "1  It dawns on me that before GMO foods became pr...   0     1   \n",
       "2  Coz it's 'cool'. Just like people who suddenly...   1     1   \n",
       "3  Alcoholism gout acne genetically modified food...   0     0   \n",
       "4  Foods to eat every day and a healthy product t...   7     4   \n",
       "\n",
       "                                         path verificados   tópico  \\\n",
       "0  /jaymee_danielle/status/939965734196842496         NaN  Allergy   \n",
       "1         /systecdb/status/939776697724997632         NaN  Allergy   \n",
       "2        /saltedveg/status/939675324765298688         NaN  Allergy   \n",
       "3       /RMathebulo/status/939601946960453633         NaN  Allergy   \n",
       "4       /carmelabny/status/939102225800028160         NaN  Allergy   \n",
       "\n",
       "   sentimiento  \n",
       "0       0.0900  \n",
       "1       0.4767  \n",
       "2       0.9068  \n",
       "3      -0.7412  \n",
       "4       0.4738  "
      ]
     },
     "execution_count": 38,
     "metadata": {},
     "output_type": "execute_result"
    }
   ],
   "source": [
    "df['sentimiento']=sentiments\n",
    "df.head()"
   ]
  },
  {
   "cell_type": "code",
   "execution_count": 39,
   "metadata": {},
   "outputs": [
    {
     "data": {
      "text/html": [
       "<div>\n",
       "<style scoped>\n",
       "    .dataframe tbody tr th:only-of-type {\n",
       "        vertical-align: middle;\n",
       "    }\n",
       "\n",
       "    .dataframe tbody tr th {\n",
       "        vertical-align: top;\n",
       "    }\n",
       "\n",
       "    .dataframe thead tr th {\n",
       "        text-align: left;\n",
       "    }\n",
       "\n",
       "    .dataframe thead tr:last-of-type th {\n",
       "        text-align: right;\n",
       "    }\n",
       "</style>\n",
       "<table border=\"1\" class=\"dataframe\">\n",
       "  <thead>\n",
       "    <tr>\n",
       "      <th></th>\n",
       "      <th colspan=\"8\" halign=\"left\">RT</th>\n",
       "      <th colspan=\"5\" halign=\"left\">like</th>\n",
       "      <th colspan=\"8\" halign=\"left\">sentimiento</th>\n",
       "    </tr>\n",
       "    <tr>\n",
       "      <th></th>\n",
       "      <th>count</th>\n",
       "      <th>mean</th>\n",
       "      <th>std</th>\n",
       "      <th>min</th>\n",
       "      <th>25%</th>\n",
       "      <th>50%</th>\n",
       "      <th>75%</th>\n",
       "      <th>max</th>\n",
       "      <th>count</th>\n",
       "      <th>mean</th>\n",
       "      <th>...</th>\n",
       "      <th>75%</th>\n",
       "      <th>max</th>\n",
       "      <th>count</th>\n",
       "      <th>mean</th>\n",
       "      <th>std</th>\n",
       "      <th>min</th>\n",
       "      <th>25%</th>\n",
       "      <th>50%</th>\n",
       "      <th>75%</th>\n",
       "      <th>max</th>\n",
       "    </tr>\n",
       "    <tr>\n",
       "      <th>tópico</th>\n",
       "      <th></th>\n",
       "      <th></th>\n",
       "      <th></th>\n",
       "      <th></th>\n",
       "      <th></th>\n",
       "      <th></th>\n",
       "      <th></th>\n",
       "      <th></th>\n",
       "      <th></th>\n",
       "      <th></th>\n",
       "      <th></th>\n",
       "      <th></th>\n",
       "      <th></th>\n",
       "      <th></th>\n",
       "      <th></th>\n",
       "      <th></th>\n",
       "      <th></th>\n",
       "      <th></th>\n",
       "      <th></th>\n",
       "      <th></th>\n",
       "      <th></th>\n",
       "    </tr>\n",
       "  </thead>\n",
       "  <tbody>\n",
       "    <tr>\n",
       "      <th>Allergy</th>\n",
       "      <td>1201.0</td>\n",
       "      <td>1.818485</td>\n",
       "      <td>11.198007</td>\n",
       "      <td>0.0</td>\n",
       "      <td>0.0</td>\n",
       "      <td>0.0</td>\n",
       "      <td>1.0</td>\n",
       "      <td>233.0</td>\n",
       "      <td>1201.0</td>\n",
       "      <td>2.108243</td>\n",
       "      <td>...</td>\n",
       "      <td>1.0</td>\n",
       "      <td>354.0</td>\n",
       "      <td>1201.0</td>\n",
       "      <td>-0.035966</td>\n",
       "      <td>0.447666</td>\n",
       "      <td>-0.9777</td>\n",
       "      <td>-0.40190</td>\n",
       "      <td>0.0000</td>\n",
       "      <td>0.296000</td>\n",
       "      <td>0.9681</td>\n",
       "    </tr>\n",
       "    <tr>\n",
       "      <th>Environment</th>\n",
       "      <td>868.0</td>\n",
       "      <td>2.017281</td>\n",
       "      <td>7.025964</td>\n",
       "      <td>0.0</td>\n",
       "      <td>0.0</td>\n",
       "      <td>0.0</td>\n",
       "      <td>1.0</td>\n",
       "      <td>105.0</td>\n",
       "      <td>868.0</td>\n",
       "      <td>2.648618</td>\n",
       "      <td>...</td>\n",
       "      <td>2.0</td>\n",
       "      <td>176.0</td>\n",
       "      <td>868.0</td>\n",
       "      <td>-0.041500</td>\n",
       "      <td>0.488644</td>\n",
       "      <td>-0.9735</td>\n",
       "      <td>-0.47670</td>\n",
       "      <td>0.0000</td>\n",
       "      <td>0.401900</td>\n",
       "      <td>0.9312</td>\n",
       "    </tr>\n",
       "    <tr>\n",
       "      <th>FunctionalFood</th>\n",
       "      <td>16.0</td>\n",
       "      <td>0.000000</td>\n",
       "      <td>0.000000</td>\n",
       "      <td>0.0</td>\n",
       "      <td>0.0</td>\n",
       "      <td>0.0</td>\n",
       "      <td>0.0</td>\n",
       "      <td>0.0</td>\n",
       "      <td>16.0</td>\n",
       "      <td>0.062500</td>\n",
       "      <td>...</td>\n",
       "      <td>0.0</td>\n",
       "      <td>1.0</td>\n",
       "      <td>16.0</td>\n",
       "      <td>0.277763</td>\n",
       "      <td>0.331801</td>\n",
       "      <td>0.0000</td>\n",
       "      <td>0.00000</td>\n",
       "      <td>0.1366</td>\n",
       "      <td>0.514625</td>\n",
       "      <td>0.9118</td>\n",
       "    </tr>\n",
       "    <tr>\n",
       "      <th>GoldenRice</th>\n",
       "      <td>1199.0</td>\n",
       "      <td>2.167640</td>\n",
       "      <td>6.851715</td>\n",
       "      <td>0.0</td>\n",
       "      <td>0.0</td>\n",
       "      <td>0.0</td>\n",
       "      <td>1.0</td>\n",
       "      <td>87.0</td>\n",
       "      <td>1199.0</td>\n",
       "      <td>1.942452</td>\n",
       "      <td>...</td>\n",
       "      <td>1.0</td>\n",
       "      <td>123.0</td>\n",
       "      <td>1199.0</td>\n",
       "      <td>-0.052014</td>\n",
       "      <td>0.433521</td>\n",
       "      <td>-0.9313</td>\n",
       "      <td>-0.40190</td>\n",
       "      <td>0.0000</td>\n",
       "      <td>0.318200</td>\n",
       "      <td>0.9150</td>\n",
       "    </tr>\n",
       "    <tr>\n",
       "      <th>biodiversity</th>\n",
       "      <td>1446.0</td>\n",
       "      <td>2.263485</td>\n",
       "      <td>5.704646</td>\n",
       "      <td>0.0</td>\n",
       "      <td>0.0</td>\n",
       "      <td>0.0</td>\n",
       "      <td>2.0</td>\n",
       "      <td>90.0</td>\n",
       "      <td>1446.0</td>\n",
       "      <td>1.570539</td>\n",
       "      <td>...</td>\n",
       "      <td>1.0</td>\n",
       "      <td>101.0</td>\n",
       "      <td>1446.0</td>\n",
       "      <td>-0.079155</td>\n",
       "      <td>0.435142</td>\n",
       "      <td>-0.9432</td>\n",
       "      <td>-0.44660</td>\n",
       "      <td>0.0000</td>\n",
       "      <td>0.226300</td>\n",
       "      <td>0.9300</td>\n",
       "    </tr>\n",
       "    <tr>\n",
       "      <th>bioremediation</th>\n",
       "      <td>21.0</td>\n",
       "      <td>1.095238</td>\n",
       "      <td>3.477136</td>\n",
       "      <td>0.0</td>\n",
       "      <td>0.0</td>\n",
       "      <td>0.0</td>\n",
       "      <td>1.0</td>\n",
       "      <td>16.0</td>\n",
       "      <td>21.0</td>\n",
       "      <td>0.523810</td>\n",
       "      <td>...</td>\n",
       "      <td>0.0</td>\n",
       "      <td>7.0</td>\n",
       "      <td>21.0</td>\n",
       "      <td>0.066419</td>\n",
       "      <td>0.307647</td>\n",
       "      <td>-0.4939</td>\n",
       "      <td>0.00000</td>\n",
       "      <td>0.0000</td>\n",
       "      <td>0.000000</td>\n",
       "      <td>0.8381</td>\n",
       "    </tr>\n",
       "    <tr>\n",
       "      <th>cancer</th>\n",
       "      <td>783.0</td>\n",
       "      <td>1.766284</td>\n",
       "      <td>11.230338</td>\n",
       "      <td>0.0</td>\n",
       "      <td>0.0</td>\n",
       "      <td>0.0</td>\n",
       "      <td>1.0</td>\n",
       "      <td>239.0</td>\n",
       "      <td>783.0</td>\n",
       "      <td>1.913155</td>\n",
       "      <td>...</td>\n",
       "      <td>1.0</td>\n",
       "      <td>127.0</td>\n",
       "      <td>783.0</td>\n",
       "      <td>-0.580474</td>\n",
       "      <td>0.376262</td>\n",
       "      <td>-0.9826</td>\n",
       "      <td>-0.82250</td>\n",
       "      <td>-0.6597</td>\n",
       "      <td>-0.500900</td>\n",
       "      <td>0.9589</td>\n",
       "    </tr>\n",
       "    <tr>\n",
       "      <th>crops</th>\n",
       "      <td>1123.0</td>\n",
       "      <td>3.701692</td>\n",
       "      <td>27.801131</td>\n",
       "      <td>0.0</td>\n",
       "      <td>0.0</td>\n",
       "      <td>0.0</td>\n",
       "      <td>1.0</td>\n",
       "      <td>751.0</td>\n",
       "      <td>1123.0</td>\n",
       "      <td>4.538736</td>\n",
       "      <td>...</td>\n",
       "      <td>2.0</td>\n",
       "      <td>547.0</td>\n",
       "      <td>1123.0</td>\n",
       "      <td>-0.055213</td>\n",
       "      <td>0.446820</td>\n",
       "      <td>-0.9460</td>\n",
       "      <td>-0.44040</td>\n",
       "      <td>0.0000</td>\n",
       "      <td>0.273200</td>\n",
       "      <td>0.9633</td>\n",
       "    </tr>\n",
       "    <tr>\n",
       "      <th>genetransfer</th>\n",
       "      <td>393.0</td>\n",
       "      <td>1.422392</td>\n",
       "      <td>6.983925</td>\n",
       "      <td>0.0</td>\n",
       "      <td>0.0</td>\n",
       "      <td>0.0</td>\n",
       "      <td>1.0</td>\n",
       "      <td>125.0</td>\n",
       "      <td>393.0</td>\n",
       "      <td>1.017812</td>\n",
       "      <td>...</td>\n",
       "      <td>1.0</td>\n",
       "      <td>75.0</td>\n",
       "      <td>393.0</td>\n",
       "      <td>0.060675</td>\n",
       "      <td>0.348825</td>\n",
       "      <td>-0.9035</td>\n",
       "      <td>0.00000</td>\n",
       "      <td>0.0000</td>\n",
       "      <td>0.318200</td>\n",
       "      <td>0.8557</td>\n",
       "    </tr>\n",
       "    <tr>\n",
       "      <th>inequality</th>\n",
       "      <td>303.0</td>\n",
       "      <td>2.191419</td>\n",
       "      <td>14.173814</td>\n",
       "      <td>0.0</td>\n",
       "      <td>0.0</td>\n",
       "      <td>0.0</td>\n",
       "      <td>1.0</td>\n",
       "      <td>196.0</td>\n",
       "      <td>303.0</td>\n",
       "      <td>2.627063</td>\n",
       "      <td>...</td>\n",
       "      <td>1.0</td>\n",
       "      <td>321.0</td>\n",
       "      <td>303.0</td>\n",
       "      <td>-0.151552</td>\n",
       "      <td>0.490736</td>\n",
       "      <td>-0.9746</td>\n",
       "      <td>-0.59265</td>\n",
       "      <td>-0.0772</td>\n",
       "      <td>0.165500</td>\n",
       "      <td>0.8779</td>\n",
       "    </tr>\n",
       "    <tr>\n",
       "      <th>medicine</th>\n",
       "      <td>1609.0</td>\n",
       "      <td>1.280920</td>\n",
       "      <td>13.292748</td>\n",
       "      <td>0.0</td>\n",
       "      <td>0.0</td>\n",
       "      <td>0.0</td>\n",
       "      <td>1.0</td>\n",
       "      <td>506.0</td>\n",
       "      <td>1609.0</td>\n",
       "      <td>2.026725</td>\n",
       "      <td>...</td>\n",
       "      <td>1.0</td>\n",
       "      <td>925.0</td>\n",
       "      <td>1609.0</td>\n",
       "      <td>-0.021930</td>\n",
       "      <td>0.457136</td>\n",
       "      <td>-0.9571</td>\n",
       "      <td>-0.40190</td>\n",
       "      <td>0.0000</td>\n",
       "      <td>0.361200</td>\n",
       "      <td>0.9287</td>\n",
       "    </tr>\n",
       "    <tr>\n",
       "      <th>pesticides</th>\n",
       "      <td>981.0</td>\n",
       "      <td>1.645260</td>\n",
       "      <td>6.194678</td>\n",
       "      <td>0.0</td>\n",
       "      <td>0.0</td>\n",
       "      <td>0.0</td>\n",
       "      <td>1.0</td>\n",
       "      <td>91.0</td>\n",
       "      <td>981.0</td>\n",
       "      <td>2.207951</td>\n",
       "      <td>...</td>\n",
       "      <td>1.0</td>\n",
       "      <td>131.0</td>\n",
       "      <td>981.0</td>\n",
       "      <td>-0.062975</td>\n",
       "      <td>0.462321</td>\n",
       "      <td>-0.9658</td>\n",
       "      <td>-0.44040</td>\n",
       "      <td>0.0000</td>\n",
       "      <td>0.296000</td>\n",
       "      <td>0.9444</td>\n",
       "    </tr>\n",
       "    <tr>\n",
       "      <th>social</th>\n",
       "      <td>877.0</td>\n",
       "      <td>1.696693</td>\n",
       "      <td>20.573216</td>\n",
       "      <td>0.0</td>\n",
       "      <td>0.0</td>\n",
       "      <td>0.0</td>\n",
       "      <td>1.0</td>\n",
       "      <td>599.0</td>\n",
       "      <td>877.0</td>\n",
       "      <td>1.805017</td>\n",
       "      <td>...</td>\n",
       "      <td>1.0</td>\n",
       "      <td>154.0</td>\n",
       "      <td>877.0</td>\n",
       "      <td>0.027904</td>\n",
       "      <td>0.461242</td>\n",
       "      <td>-0.9652</td>\n",
       "      <td>-0.30890</td>\n",
       "      <td>0.0000</td>\n",
       "      <td>0.416800</td>\n",
       "      <td>0.9682</td>\n",
       "    </tr>\n",
       "    <tr>\n",
       "      <th>vaccines</th>\n",
       "      <td>1725.0</td>\n",
       "      <td>1.408696</td>\n",
       "      <td>6.135405</td>\n",
       "      <td>0.0</td>\n",
       "      <td>0.0</td>\n",
       "      <td>0.0</td>\n",
       "      <td>1.0</td>\n",
       "      <td>118.0</td>\n",
       "      <td>1725.0</td>\n",
       "      <td>2.265507</td>\n",
       "      <td>...</td>\n",
       "      <td>1.0</td>\n",
       "      <td>265.0</td>\n",
       "      <td>1725.0</td>\n",
       "      <td>-0.118465</td>\n",
       "      <td>0.458433</td>\n",
       "      <td>-0.9759</td>\n",
       "      <td>-0.52670</td>\n",
       "      <td>0.0000</td>\n",
       "      <td>0.202300</td>\n",
       "      <td>0.9800</td>\n",
       "    </tr>\n",
       "  </tbody>\n",
       "</table>\n",
       "<p>14 rows × 24 columns</p>\n",
       "</div>"
      ],
      "text/plain": [
       "                    RT                                                  \\\n",
       "                 count      mean        std  min  25%  50%  75%    max   \n",
       "tópico                                                                   \n",
       "Allergy         1201.0  1.818485  11.198007  0.0  0.0  0.0  1.0  233.0   \n",
       "Environment      868.0  2.017281   7.025964  0.0  0.0  0.0  1.0  105.0   \n",
       "FunctionalFood    16.0  0.000000   0.000000  0.0  0.0  0.0  0.0    0.0   \n",
       "GoldenRice      1199.0  2.167640   6.851715  0.0  0.0  0.0  1.0   87.0   \n",
       "biodiversity    1446.0  2.263485   5.704646  0.0  0.0  0.0  2.0   90.0   \n",
       "bioremediation    21.0  1.095238   3.477136  0.0  0.0  0.0  1.0   16.0   \n",
       "cancer           783.0  1.766284  11.230338  0.0  0.0  0.0  1.0  239.0   \n",
       "crops           1123.0  3.701692  27.801131  0.0  0.0  0.0  1.0  751.0   \n",
       "genetransfer     393.0  1.422392   6.983925  0.0  0.0  0.0  1.0  125.0   \n",
       "inequality       303.0  2.191419  14.173814  0.0  0.0  0.0  1.0  196.0   \n",
       "medicine        1609.0  1.280920  13.292748  0.0  0.0  0.0  1.0  506.0   \n",
       "pesticides       981.0  1.645260   6.194678  0.0  0.0  0.0  1.0   91.0   \n",
       "social           877.0  1.696693  20.573216  0.0  0.0  0.0  1.0  599.0   \n",
       "vaccines        1725.0  1.408696   6.135405  0.0  0.0  0.0  1.0  118.0   \n",
       "\n",
       "                  like             ...               sentimiento            \\\n",
       "                 count      mean   ...    75%    max       count      mean   \n",
       "tópico                             ...                                       \n",
       "Allergy         1201.0  2.108243   ...    1.0  354.0      1201.0 -0.035966   \n",
       "Environment      868.0  2.648618   ...    2.0  176.0       868.0 -0.041500   \n",
       "FunctionalFood    16.0  0.062500   ...    0.0    1.0        16.0  0.277763   \n",
       "GoldenRice      1199.0  1.942452   ...    1.0  123.0      1199.0 -0.052014   \n",
       "biodiversity    1446.0  1.570539   ...    1.0  101.0      1446.0 -0.079155   \n",
       "bioremediation    21.0  0.523810   ...    0.0    7.0        21.0  0.066419   \n",
       "cancer           783.0  1.913155   ...    1.0  127.0       783.0 -0.580474   \n",
       "crops           1123.0  4.538736   ...    2.0  547.0      1123.0 -0.055213   \n",
       "genetransfer     393.0  1.017812   ...    1.0   75.0       393.0  0.060675   \n",
       "inequality       303.0  2.627063   ...    1.0  321.0       303.0 -0.151552   \n",
       "medicine        1609.0  2.026725   ...    1.0  925.0      1609.0 -0.021930   \n",
       "pesticides       981.0  2.207951   ...    1.0  131.0       981.0 -0.062975   \n",
       "social           877.0  1.805017   ...    1.0  154.0       877.0  0.027904   \n",
       "vaccines        1725.0  2.265507   ...    1.0  265.0      1725.0 -0.118465   \n",
       "\n",
       "                                                                     \n",
       "                     std     min      25%     50%       75%     max  \n",
       "tópico                                                               \n",
       "Allergy         0.447666 -0.9777 -0.40190  0.0000  0.296000  0.9681  \n",
       "Environment     0.488644 -0.9735 -0.47670  0.0000  0.401900  0.9312  \n",
       "FunctionalFood  0.331801  0.0000  0.00000  0.1366  0.514625  0.9118  \n",
       "GoldenRice      0.433521 -0.9313 -0.40190  0.0000  0.318200  0.9150  \n",
       "biodiversity    0.435142 -0.9432 -0.44660  0.0000  0.226300  0.9300  \n",
       "bioremediation  0.307647 -0.4939  0.00000  0.0000  0.000000  0.8381  \n",
       "cancer          0.376262 -0.9826 -0.82250 -0.6597 -0.500900  0.9589  \n",
       "crops           0.446820 -0.9460 -0.44040  0.0000  0.273200  0.9633  \n",
       "genetransfer    0.348825 -0.9035  0.00000  0.0000  0.318200  0.8557  \n",
       "inequality      0.490736 -0.9746 -0.59265 -0.0772  0.165500  0.8779  \n",
       "medicine        0.457136 -0.9571 -0.40190  0.0000  0.361200  0.9287  \n",
       "pesticides      0.462321 -0.9658 -0.44040  0.0000  0.296000  0.9444  \n",
       "social          0.461242 -0.9652 -0.30890  0.0000  0.416800  0.9682  \n",
       "vaccines        0.458433 -0.9759 -0.52670  0.0000  0.202300  0.9800  \n",
       "\n",
       "[14 rows x 24 columns]"
      ]
     },
     "execution_count": 39,
     "metadata": {},
     "output_type": "execute_result"
    }
   ],
   "source": [
    "df.groupby('tópico').describe()"
   ]
  },
  {
   "cell_type": "code",
   "execution_count": 40,
   "metadata": {},
   "outputs": [],
   "source": [
    "np.round(df.groupby('tópico').describe(), 2)['RT'][['count','mean', 'std', 'min', 'max']].to_latex('img/tablaRT.tex')\n",
    "np.round(df.groupby('tópico').describe(), 2)['like'][['count','mean', 'std', 'min', 'max']].to_latex('img/tablalike.tex')\n",
    "np.round(df.groupby('tópico').describe(), 2)['sentimiento'][['count','mean', 'std', 'min', 'max']].to_latex('img/tablasentiment.tex')"
   ]
  },
  {
   "cell_type": "code",
   "execution_count": 92,
   "metadata": {},
   "outputs": [
    {
     "data": {
      "text/latex": [
       "\\begin{array}{l}\n",
       "\\\\\n",
       "\\textbf{Tabla 2.} \\: Estadística \\: descriptiva \\: de \\: los \\: favoritos \\: para \\\\\n",
       "\\: los \\: diferentes \\: tópicos. \\\\\n",
       "\\end{array}\n",
       "\\begin{array}{lrrrrr}\n",
       "\\hline\n",
       "{} &   count &  mean &    std &  min &    max \\\\\n",
       "tópico         &         &       &        &      &        \\\\\n",
       "\\hline\n",
       "Allergy        &  1201.0 &  2.11 &  13.15 &  0.0 &  354.0 \\\\\n",
       "Environment    &   868.0 &  2.65 &   9.52 &  0.0 &  176.0 \\\\\n",
       "FunctionalFood &    16.0 &  0.06 &   0.25 &  0.0 &    1.0 \\\\\n",
       "GoldenRice     &  1199.0 &  1.94 &   6.46 &  0.0 &  123.0 \\\\\n",
       "biodiversity   &  1446.0 &  1.57 &   4.55 &  0.0 &  101.0 \\\\\n",
       "bioremediation &    21.0 &  0.52 &   1.63 &  0.0 &    7.0 \\\\\n",
       "cancer         &   783.0 &  1.91 &   8.06 &  0.0 &  127.0 \\\\\n",
       "crops          &  1123.0 &  4.54 &  26.26 &  0.0 &  547.0 \\\\\n",
       "genetransfer   &   393.0 &  1.02 &   5.31 &  0.0 &   75.0 \\\\\n",
       "inequality     &   303.0 &  2.63 &  21.61 &  0.0 &  321.0 \\\\\n",
       "medicine       &  1609.0 &  2.03 &  23.81 &  0.0 &  925.0 \\\\\n",
       "pesticides     &   981.0 &  2.21 &   8.27 &  0.0 &  131.0 \\\\\n",
       "social         &   877.0 &  1.81 &   7.64 &  0.0 &  154.0 \\\\\n",
       "vaccines       &  1725.0 &  2.27 &  10.71 &  0.0 &  265.0 \\\\\n",
       "\\hline\n",
       "\\end{array}\n"
      ],
      "text/plain": [
       "<IPython.core.display.Latex object>"
      ]
     },
     "execution_count": 92,
     "metadata": {},
     "output_type": "execute_result"
    }
   ],
   "source": [
    "Latex('img/tablalike.tex')"
   ]
  },
  {
   "cell_type": "code",
   "execution_count": 93,
   "metadata": {},
   "outputs": [
    {
     "data": {
      "text/latex": [
       "\\begin{array}{l}\n",
       "\\\\\n",
       "\\textbf{Tabla 2.} \\: Estadística \\: descriptiva \\: de \\: los \\: retweets \\: para \\\\\n",
       "\\: los \\: diferentes \\: tópicos. \\\\\n",
       "\\end{array}\n",
       "\\begin{array}{lrrrrr}\n",
       "\\hline\n",
       "{} &   count &  mean &    std &  min &    max \\\\\n",
       "tópico         &         &       &        &      &        \\\\\n",
       "\\hline\n",
       "Allergy        &  1201.0 &  1.82 &  11.20 &  0.0 &  233.0 \\\\\n",
       "Environment    &   868.0 &  2.02 &   7.03 &  0.0 &  105.0 \\\\\n",
       "FunctionalFood &    16.0 &  0.00 &   0.00 &  0.0 &    0.0 \\\\\n",
       "GoldenRice     &  1199.0 &  2.17 &   6.85 &  0.0 &   87.0 \\\\\n",
       "biodiversity   &  1446.0 &  2.26 &   5.70 &  0.0 &   90.0 \\\\\n",
       "bioremediation &    21.0 &  1.10 &   3.48 &  0.0 &   16.0 \\\\\n",
       "cancer         &   783.0 &  1.77 &  11.23 &  0.0 &  239.0 \\\\\n",
       "crops          &  1123.0 &  3.70 &  27.80 &  0.0 &  751.0 \\\\\n",
       "genetransfer   &   393.0 &  1.42 &   6.98 &  0.0 &  125.0 \\\\\n",
       "inequality     &   303.0 &  2.19 &  14.17 &  0.0 &  196.0 \\\\\n",
       "medicine       &  1609.0 &  1.28 &  13.29 &  0.0 &  506.0 \\\\\n",
       "pesticides     &   981.0 &  1.65 &   6.19 &  0.0 &   91.0 \\\\\n",
       "social         &   877.0 &  1.70 &  20.57 &  0.0 &  599.0 \\\\\n",
       "vaccines       &  1725.0 &  1.41 &   6.14 &  0.0 &  118.0 \\\\\n",
       "\\hline\n",
       "\\end{array}\n"
      ],
      "text/plain": [
       "<IPython.core.display.Latex object>"
      ]
     },
     "execution_count": 93,
     "metadata": {},
     "output_type": "execute_result"
    }
   ],
   "source": [
    "Latex('img/tablaRT.tex')"
   ]
  },
  {
   "cell_type": "code",
   "execution_count": 94,
   "metadata": {},
   "outputs": [
    {
     "data": {
      "text/latex": [
       "\\begin{array}{l}\n",
       "\\\\\n",
       "\\textbf{Tabla 3.} \\: Estadística \\: descriptiva \\: de \\: los \\: valores \\: del \\: análisis\\\\\n",
       "de \\: sentimientos. \\\\\n",
       "\\end{array}\n",
       "\\begin{array}{rlllll}\n",
       "\\hline\n",
       "{} &   count &  mean &   std &   min &   max \\\\\n",
       "tópico         &         &       &       &       &       \\\\\n",
       "\\hline\n",
       "Allergy        &  1201.0 & -0.04 &  0.45 & -0.98 &  0.97 \\\\\n",
       "Environment    &   868.0 & -0.04 &  0.49 & -0.97 &  0.93 \\\\\n",
       "FunctionalFood &    16.0 &  0.28 &  0.33 &  0.00 &  0.91 \\\\\n",
       "GoldenRice     &  1199.0 & -0.05 &  0.43 & -0.93 &  0.92 \\\\\n",
       "biodiversity   &  1446.0 & -0.08 &  0.44 & -0.94 &  0.93 \\\\\n",
       "bioremediation &    21.0 &  0.07 &  0.31 & -0.49 &  0.84 \\\\\n",
       "cancer         &   783.0 & -0.58 &  0.38 & -0.98 &  0.96 \\\\\n",
       "crops          &  1123.0 & -0.06 &  0.45 & -0.95 &  0.96 \\\\\n",
       "genetransfer   &   393.0 &  0.06 &  0.35 & -0.90 &  0.86 \\\\\n",
       "inequality     &   303.0 & -0.15 &  0.49 & -0.97 &  0.88 \\\\\n",
       "medicine       &  1609.0 & -0.02 &  0.46 & -0.96 &  0.93 \\\\\n",
       "pesticides     &   981.0 & -0.06 &  0.46 & -0.97 &  0.94 \\\\\n",
       "social         &   877.0 &  0.03 &  0.46 & -0.97 &  0.97 \\\\\n",
       "vaccines       &  1725.0 & -0.12 &  0.46 & -0.98 &  0.98 \\\\\n",
       "\\hline\n",
       "\\end{array}\n",
       "\n"
      ],
      "text/plain": [
       "<IPython.core.display.Latex object>"
      ]
     },
     "execution_count": 94,
     "metadata": {},
     "output_type": "execute_result"
    }
   ],
   "source": [
    "Latex('img/tablasentiment.tex')"
   ]
  },
  {
   "cell_type": "code",
   "execution_count": 100,
   "metadata": {},
   "outputs": [
    {
     "name": "stdout",
     "output_type": "stream",
     "text": [
      "1825 tuits positivos,  3427 tuits negativos y 7293 tuits neutrales\n"
     ]
    }
   ],
   "source": [
    "i = 0\n",
    "z = 0\n",
    "for sentiment in sentiments:\n",
    "    if sentiment > 0.45:\n",
    "        i = i + 1\n",
    "    elif sentiment < -0.45:\n",
    "        z = z + 1\n",
    "print(i, 'tuits positivos, ', z, 'tuits negativos y', len(sentiments)-(z+i), 'tuits neutrales') "
   ]
  },
  {
   "cell_type": "code",
   "execution_count": 102,
   "metadata": {},
   "outputs": [
    {
     "data": {
      "text/html": [
       "<div>\n",
       "<style scoped>\n",
       "    .dataframe tbody tr th:only-of-type {\n",
       "        vertical-align: middle;\n",
       "    }\n",
       "\n",
       "    .dataframe tbody tr th {\n",
       "        vertical-align: top;\n",
       "    }\n",
       "\n",
       "    .dataframe thead th {\n",
       "        text-align: right;\n",
       "    }\n",
       "</style>\n",
       "<table border=\"1\" class=\"dataframe\">\n",
       "  <thead>\n",
       "    <tr style=\"text-align: right;\">\n",
       "      <th></th>\n",
       "      <th>Usuario</th>\n",
       "      <th>Nombre</th>\n",
       "      <th>Fecha</th>\n",
       "      <th>Tweet</th>\n",
       "      <th>RT</th>\n",
       "      <th>like</th>\n",
       "      <th>path</th>\n",
       "      <th>verificados</th>\n",
       "      <th>tópico</th>\n",
       "      <th>sentimiento</th>\n",
       "      <th>categoría</th>\n",
       "    </tr>\n",
       "  </thead>\n",
       "  <tbody>\n",
       "    <tr>\n",
       "      <th>0</th>\n",
       "      <td>@jaymee_danielle</td>\n",
       "      <td>zen kitty</td>\n",
       "      <td>10 dic. 2017</td>\n",
       "      <td>issues i have w/ GMO:\\n• doesnt taste “natural...</td>\n",
       "      <td>67</td>\n",
       "      <td>179</td>\n",
       "      <td>/jaymee_danielle/status/939965734196842496</td>\n",
       "      <td>NaN</td>\n",
       "      <td>Allergy</td>\n",
       "      <td>0.0900</td>\n",
       "      <td>Neutral</td>\n",
       "    </tr>\n",
       "    <tr>\n",
       "      <th>1</th>\n",
       "      <td>@systecdb</td>\n",
       "      <td>Dave Baggett</td>\n",
       "      <td>10 dic. 2017</td>\n",
       "      <td>It dawns on me that before GMO foods became pr...</td>\n",
       "      <td>0</td>\n",
       "      <td>1</td>\n",
       "      <td>/systecdb/status/939776697724997632</td>\n",
       "      <td>NaN</td>\n",
       "      <td>Allergy</td>\n",
       "      <td>0.4767</td>\n",
       "      <td>Positivo</td>\n",
       "    </tr>\n",
       "    <tr>\n",
       "      <th>2</th>\n",
       "      <td>@saltedveg</td>\n",
       "      <td>ingin punya tuyul saja</td>\n",
       "      <td>10 dic. 2017</td>\n",
       "      <td>Coz it's 'cool'. Just like people who suddenly...</td>\n",
       "      <td>1</td>\n",
       "      <td>1</td>\n",
       "      <td>/saltedveg/status/939675324765298688</td>\n",
       "      <td>NaN</td>\n",
       "      <td>Allergy</td>\n",
       "      <td>0.9068</td>\n",
       "      <td>Positivo</td>\n",
       "    </tr>\n",
       "    <tr>\n",
       "      <th>3</th>\n",
       "      <td>@RMathebulo</td>\n",
       "      <td>Rantho Mathebulo</td>\n",
       "      <td>9 dic. 2017</td>\n",
       "      <td>Alcoholism gout acne genetically modified food...</td>\n",
       "      <td>0</td>\n",
       "      <td>0</td>\n",
       "      <td>/RMathebulo/status/939601946960453633</td>\n",
       "      <td>NaN</td>\n",
       "      <td>Allergy</td>\n",
       "      <td>-0.7412</td>\n",
       "      <td>Negativo</td>\n",
       "    </tr>\n",
       "    <tr>\n",
       "      <th>4</th>\n",
       "      <td>@carmelabny</td>\n",
       "      <td>JOSEPHINE BOLOGNA</td>\n",
       "      <td>8 dic. 2017</td>\n",
       "      <td>Foods to eat every day and a healthy product t...</td>\n",
       "      <td>7</td>\n",
       "      <td>4</td>\n",
       "      <td>/carmelabny/status/939102225800028160</td>\n",
       "      <td>NaN</td>\n",
       "      <td>Allergy</td>\n",
       "      <td>0.4738</td>\n",
       "      <td>Positivo</td>\n",
       "    </tr>\n",
       "  </tbody>\n",
       "</table>\n",
       "</div>"
      ],
      "text/plain": [
       "            Usuario                  Nombre         Fecha  \\\n",
       "0  @jaymee_danielle               zen kitty  10 dic. 2017   \n",
       "1         @systecdb            Dave Baggett  10 dic. 2017   \n",
       "2        @saltedveg  ingin punya tuyul saja  10 dic. 2017   \n",
       "3       @RMathebulo        Rantho Mathebulo   9 dic. 2017   \n",
       "4       @carmelabny       JOSEPHINE BOLOGNA   8 dic. 2017   \n",
       "\n",
       "                                               Tweet  RT  like  \\\n",
       "0  issues i have w/ GMO:\\n• doesnt taste “natural...  67   179   \n",
       "1  It dawns on me that before GMO foods became pr...   0     1   \n",
       "2  Coz it's 'cool'. Just like people who suddenly...   1     1   \n",
       "3  Alcoholism gout acne genetically modified food...   0     0   \n",
       "4  Foods to eat every day and a healthy product t...   7     4   \n",
       "\n",
       "                                         path verificados   tópico  \\\n",
       "0  /jaymee_danielle/status/939965734196842496         NaN  Allergy   \n",
       "1         /systecdb/status/939776697724997632         NaN  Allergy   \n",
       "2        /saltedveg/status/939675324765298688         NaN  Allergy   \n",
       "3       /RMathebulo/status/939601946960453633         NaN  Allergy   \n",
       "4       /carmelabny/status/939102225800028160         NaN  Allergy   \n",
       "\n",
       "   sentimiento categoría  \n",
       "0       0.0900   Neutral  \n",
       "1       0.4767  Positivo  \n",
       "2       0.9068  Positivo  \n",
       "3      -0.7412  Negativo  \n",
       "4       0.4738  Positivo  "
      ]
     },
     "execution_count": 102,
     "metadata": {},
     "output_type": "execute_result"
    }
   ],
   "source": [
    "categoria = []\n",
    "for sentiment in sentiments:\n",
    "    if sentiment > 0.45:\n",
    "        categoria.append('Positivo')\n",
    "    elif sentiment < -0.45:\n",
    "        categoria.append('Negativo')\n",
    "    else:\n",
    "        categoria.append('Neutral')\n",
    "df['categoría']=categoria\n",
    "df.head()"
   ]
  },
  {
   "cell_type": "code",
   "execution_count": 103,
   "metadata": {},
   "outputs": [],
   "source": [
    "df.to_csv('data/alltopics.csv')"
   ]
  },
  {
   "cell_type": "code",
   "execution_count": null,
   "metadata": {},
   "outputs": [],
   "source": []
  }
 ],
 "metadata": {
  "kernelspec": {
   "display_name": "Python 3",
   "language": "python",
   "name": "python3"
  },
  "language_info": {
   "codemirror_mode": {
    "name": "ipython",
    "version": 3
   },
   "file_extension": ".py",
   "mimetype": "text/x-python",
   "name": "python",
   "nbconvert_exporter": "python",
   "pygments_lexer": "ipython3",
   "version": "3.6.1"
  }
 },
 "nbformat": 4,
 "nbformat_minor": 2
}
