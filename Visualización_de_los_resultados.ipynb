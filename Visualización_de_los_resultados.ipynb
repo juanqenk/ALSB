{
 "cells": [
  {
   "cell_type": "code",
   "execution_count": 122,
   "metadata": {},
   "outputs": [],
   "source": [
    "import pandas as pd\n",
    "from pandas import Series\n",
    "import sys\n",
    "import numpy as np\n",
    "import platform\n",
    "import matplotlib.pyplot as plt\n",
    "plt.style.use('seaborn-notebook')\n",
    "plt.rcParams['figure.figsize'] = (15, 5)\n",
    "%matplotlib inline\n",
    "import seaborn as sns"
   ]
  },
  {
   "cell_type": "code",
   "execution_count": 113,
   "metadata": {
    "scrolled": true
   },
   "outputs": [
    {
     "name": "stdout",
     "output_type": "stream",
     "text": [
      "Sistema operativo:      Linux-4.9.71-1-MANJARO-x86_64-with-arch-Manjaro-Linux\n",
      "Versión de Python:      3.6.1 |Continuum Analytics, Inc.| (default, May 11 2017, 13:09:58) \n",
      "[GCC 4.4.7 20120313 (Red Hat 4.4.7-1)]\n",
      "Versión de Pandas:      0.21.0\n",
      "Versión de Numpy:       1.13.3\n"
     ]
    }
   ],
   "source": [
    "print(\"Sistema operativo:     \", platform.platform())\n",
    "print(\"Versión de Python:     \", sys.version)\n",
    "print(\"Versión de Pandas:     \", pd.__version__)\n",
    "print(\"Versión de Numpy:      \", np.version.short_version)"
   ]
  },
  {
   "cell_type": "markdown",
   "metadata": {},
   "source": [
    "### Pandas   \n",
    "Pandas es una librería de python que permite trabajar con la información tabular de forma eficiente.\n",
    "\n",
    "Funciona muy bien cuando analizamos:\n",
    "\n",
    "* Datos heterogéneos que pueden distribuirse en tablas.\n",
    "* Series temporales\n",
    "* Matrices\n",
    "* ...   \n",
    "\n",
    "Lo usaremos para cargar los tuits que hemos obtenido para su analisis. Estos se encuentran en formato .csv (del inglés comma-separated values), un tipo de documento en formato abierto sencillo para representar datos en forma de tabla, en las que las columnas se separan por comas.   \n",
    "\n",
    "Un `dataframe` en pandas se puede ver como una tabla con filas indexadas y columnas. Es algo similar a lo que tenemos en una hoja de cálculo. Esta será la estructura de datos que representará nuestra tabla de tuits.\n",
    "\n",
    "Una vez cargados los datos, podemos definir los índices para las filas o las etiquetas para las columnas. Cada fila es una observación y cada columna una categoria. Si no se define nada al cargar el DataFrame, se creara un indice numérico para las observaciones y se tomará la primera fila como los nombres de las categorias. \n",
    "\n",
    "En nuestro caso podemos cargar los datos a un objeto llamado `df` con la siguiente instrucción:"
   ]
  },
  {
   "cell_type": "code",
   "execution_count": 2,
   "metadata": {},
   "outputs": [
    {
     "data": {
      "text/html": [
       "<div>\n",
       "<style scoped>\n",
       "    .dataframe tbody tr th:only-of-type {\n",
       "        vertical-align: middle;\n",
       "    }\n",
       "\n",
       "    .dataframe tbody tr th {\n",
       "        vertical-align: top;\n",
       "    }\n",
       "\n",
       "    .dataframe thead th {\n",
       "        text-align: right;\n",
       "    }\n",
       "</style>\n",
       "<table border=\"1\" class=\"dataframe\">\n",
       "  <thead>\n",
       "    <tr style=\"text-align: right;\">\n",
       "      <th></th>\n",
       "      <th>Usuario</th>\n",
       "      <th>Nombre</th>\n",
       "      <th>Fecha</th>\n",
       "      <th>Tweet</th>\n",
       "      <th>RT</th>\n",
       "      <th>like</th>\n",
       "      <th>path</th>\n",
       "      <th>verificados</th>\n",
       "      <th>tópico</th>\n",
       "      <th>sentimiento</th>\n",
       "      <th>categoría</th>\n",
       "    </tr>\n",
       "  </thead>\n",
       "  <tbody>\n",
       "    <tr>\n",
       "      <th>0</th>\n",
       "      <td>@jaymee_danielle</td>\n",
       "      <td>zen kitty</td>\n",
       "      <td>10 dic. 2017</td>\n",
       "      <td>issues i have w/ GMO:\\n• doesnt taste “natural...</td>\n",
       "      <td>67</td>\n",
       "      <td>179</td>\n",
       "      <td>/jaymee_danielle/status/939965734196842496</td>\n",
       "      <td>NaN</td>\n",
       "      <td>Allergy</td>\n",
       "      <td>0.0900</td>\n",
       "      <td>Neutral</td>\n",
       "    </tr>\n",
       "    <tr>\n",
       "      <th>1</th>\n",
       "      <td>@systecdb</td>\n",
       "      <td>Dave Baggett</td>\n",
       "      <td>10 dic. 2017</td>\n",
       "      <td>It dawns on me that before GMO foods became pr...</td>\n",
       "      <td>0</td>\n",
       "      <td>1</td>\n",
       "      <td>/systecdb/status/939776697724997632</td>\n",
       "      <td>NaN</td>\n",
       "      <td>Allergy</td>\n",
       "      <td>0.4767</td>\n",
       "      <td>Positivo</td>\n",
       "    </tr>\n",
       "    <tr>\n",
       "      <th>2</th>\n",
       "      <td>@saltedveg</td>\n",
       "      <td>ingin punya tuyul saja</td>\n",
       "      <td>10 dic. 2017</td>\n",
       "      <td>Coz it's 'cool'. Just like people who suddenly...</td>\n",
       "      <td>1</td>\n",
       "      <td>1</td>\n",
       "      <td>/saltedveg/status/939675324765298688</td>\n",
       "      <td>NaN</td>\n",
       "      <td>Allergy</td>\n",
       "      <td>0.9068</td>\n",
       "      <td>Positivo</td>\n",
       "    </tr>\n",
       "    <tr>\n",
       "      <th>3</th>\n",
       "      <td>@RMathebulo</td>\n",
       "      <td>Rantho Mathebulo</td>\n",
       "      <td>9 dic. 2017</td>\n",
       "      <td>Alcoholism gout acne genetically modified food...</td>\n",
       "      <td>0</td>\n",
       "      <td>0</td>\n",
       "      <td>/RMathebulo/status/939601946960453633</td>\n",
       "      <td>NaN</td>\n",
       "      <td>Allergy</td>\n",
       "      <td>-0.7412</td>\n",
       "      <td>Negativo</td>\n",
       "    </tr>\n",
       "    <tr>\n",
       "      <th>4</th>\n",
       "      <td>@carmelabny</td>\n",
       "      <td>JOSEPHINE BOLOGNA</td>\n",
       "      <td>8 dic. 2017</td>\n",
       "      <td>Foods to eat every day and a healthy product t...</td>\n",
       "      <td>7</td>\n",
       "      <td>4</td>\n",
       "      <td>/carmelabny/status/939102225800028160</td>\n",
       "      <td>NaN</td>\n",
       "      <td>Allergy</td>\n",
       "      <td>0.4738</td>\n",
       "      <td>Positivo</td>\n",
       "    </tr>\n",
       "  </tbody>\n",
       "</table>\n",
       "</div>"
      ],
      "text/plain": [
       "            Usuario                  Nombre         Fecha  \\\n",
       "0  @jaymee_danielle               zen kitty  10 dic. 2017   \n",
       "1         @systecdb            Dave Baggett  10 dic. 2017   \n",
       "2        @saltedveg  ingin punya tuyul saja  10 dic. 2017   \n",
       "3       @RMathebulo        Rantho Mathebulo   9 dic. 2017   \n",
       "4       @carmelabny       JOSEPHINE BOLOGNA   8 dic. 2017   \n",
       "\n",
       "                                               Tweet  RT  like  \\\n",
       "0  issues i have w/ GMO:\\n• doesnt taste “natural...  67   179   \n",
       "1  It dawns on me that before GMO foods became pr...   0     1   \n",
       "2  Coz it's 'cool'. Just like people who suddenly...   1     1   \n",
       "3  Alcoholism gout acne genetically modified food...   0     0   \n",
       "4  Foods to eat every day and a healthy product t...   7     4   \n",
       "\n",
       "                                         path verificados   tópico  \\\n",
       "0  /jaymee_danielle/status/939965734196842496         NaN  Allergy   \n",
       "1         /systecdb/status/939776697724997632         NaN  Allergy   \n",
       "2        /saltedveg/status/939675324765298688         NaN  Allergy   \n",
       "3       /RMathebulo/status/939601946960453633         NaN  Allergy   \n",
       "4       /carmelabny/status/939102225800028160         NaN  Allergy   \n",
       "\n",
       "   sentimiento categoría  \n",
       "0       0.0900   Neutral  \n",
       "1       0.4767  Positivo  \n",
       "2       0.9068  Positivo  \n",
       "3      -0.7412  Negativo  \n",
       "4       0.4738  Positivo  "
      ]
     },
     "execution_count": 2,
     "metadata": {},
     "output_type": "execute_result"
    }
   ],
   "source": [
    "df = pd.read_csv('data/alltopics.csv', index_col=0)\n",
    "df.head()"
   ]
  },
  {
   "cell_type": "markdown",
   "metadata": {},
   "source": [
    "La función `head()` nos permite dar un vistazo a las primeras filas del dataframe.   \n",
    "Los nombres de las columnas parecen adecuados. Es importante modificar las columnas o el índice si no resultan entendibles. Ante todo debe primar la facilidad de uso.    \n",
    "\n",
    "Es de destacar que cualquier modificación que hagamos al dataframe no alterará el archivo con nuestros datos. Solo altera la representación que el programa tiene de este archivo. Siempre existe la posibilidad de guardar el dataframe modificado con el mismo o otro nombre escribiendo `df.to_csv('Nombre del archivo.csv')`     \n",
    "\n",
    "Uno de los primeros pasos tras cargar un dataframe es echar un vistazo a índice y columnas (del índice veremos una representación abreviada, ya que es un número muy elevado) "
   ]
  },
  {
   "cell_type": "code",
   "execution_count": 5,
   "metadata": {},
   "outputs": [
    {
     "name": "stdout",
     "output_type": "stream",
     "text": [
      "INDICE: \n",
      "\n",
      "[    0     1     2 ..., 12542 12543 12544]\n",
      "\n",
      "COLUMNAS\n",
      "\n",
      "['Usuario' 'Nombre' 'Fecha' 'Tweet' 'RT' 'like' 'path' 'verificados'\n",
      " 'tópico' 'sentimiento' 'categoría']\n"
     ]
    }
   ],
   "source": [
    "print('INDICE: ')\n",
    "print('')\n",
    "print(df.index.values)\n",
    "print('')\n",
    "print('COLUMNAS')\n",
    "print('')\n",
    "print(df.columns.values)"
   ]
  },
  {
   "cell_type": "markdown",
   "metadata": {},
   "source": [
    "### Selección de datos\n",
    "\n",
    "Una vez hemos dado un vistazo a nuestros datos, debemos aprender como seleccionar una parte de ellos para nuestro análisis. Es una tarea sencilla que puede realizarse de dos maneras. \n",
    "\n",
    "Al cargar nuestra tabla de datos se ha creado un objeto dentro del lenguaje de programación que la representa. En nuestro caso ese objeto lo hemos nombrado como `df`. De este modo, tanto `df.nombreDeLaColumna` como `df[nombreDeLaColumna]` nos selecionaran solo los datos de la columna con ese mismo nombre. "
   ]
  },
  {
   "cell_type": "code",
   "execution_count": 6,
   "metadata": {},
   "outputs": [
    {
     "data": {
      "text/plain": [
       "0        @jaymee_danielle\n",
       "1               @systecdb\n",
       "2              @saltedveg\n",
       "3             @RMathebulo\n",
       "4             @carmelabny\n",
       "5            @TradMatador\n",
       "6         @jeffjeffjeff_o\n",
       "7         @DylanCornelius\n",
       "8            @DocCamiRyan\n",
       "9           @OccDemParody\n",
       "10              @TheaGood\n",
       "11       @FarmFairyCrafts\n",
       "12            @GMOAnswers\n",
       "13            @carmelabny\n",
       "14             @clariti38\n",
       "15           @Turnballerr\n",
       "16              @duabusan\n",
       "17           @HeidiCoomer\n",
       "18            @TeriGentes\n",
       "19         @DiscountComic\n",
       "20           @GF_Fastfood\n",
       "21          @DBAWisconsin\n",
       "22           @beachvetlbc\n",
       "23        @TweetieNiichan\n",
       "24          @lassiter1550\n",
       "25       @Gr8nessNaHoodie\n",
       "26           @mandyspizza\n",
       "27             @8extremes\n",
       "28               @Nudge52\n",
       "29               @Recloos\n",
       "               ...       \n",
       "12515          @Marndin12\n",
       "12516        @Mattit_TOFY\n",
       "12517       @AfrikaAzania\n",
       "12518             @skirbi\n",
       "12519             @MRains\n",
       "12520            @VaxCalc\n",
       "12521           @tonykeck\n",
       "12522           @lilblnde\n",
       "12523            @VyYheOr\n",
       "12524         @DavidWolfe\n",
       "12525          @KTVBBrian\n",
       "12526           @joshmich\n",
       "12527              @DrKND\n",
       "12528    @JeffreyANewman1\n",
       "12529        @luckyhedron\n",
       "12530    @StephaniHarris2\n",
       "12531    @_geoengineering\n",
       "12532       @ShelterSense\n",
       "12533      @Kala_ahankara\n",
       "12534      @SUPERSSociety\n",
       "12535           @debnantz\n",
       "12536    @AdviseShowMedia\n",
       "12537            @STFUnwo\n",
       "12538         @mmccdenier\n",
       "12539               @7urz\n",
       "12540    @JeffHollandaise\n",
       "12541            @VaxCalc\n",
       "12542    @princes31899030\n",
       "12543          @jennyfrky\n",
       "12544       @millliepoppy\n",
       "Name: Usuario, Length: 12545, dtype: object"
      ]
     },
     "execution_count": 6,
     "metadata": {},
     "output_type": "execute_result"
    }
   ],
   "source": [
    "df.Usuario"
   ]
  },
  {
   "cell_type": "markdown",
   "metadata": {},
   "source": [
    "Es una lista de nombres extensa ya que estamos trabajando con muchos datos pero podemos tomar solo una parte de ellos. Por ejemplo, la expresión `df.Nombre[0:10]` debería devolvernos tan solo los datos que aparecen en la columna nombre entre el primero (con índice 0) y el décimo (con índice 9). "
   ]
  },
  {
   "cell_type": "code",
   "execution_count": 7,
   "metadata": {},
   "outputs": [
    {
     "data": {
      "text/plain": [
       "0                 zen kitty\n",
       "1              Dave Baggett\n",
       "2    ingin punya tuyul saja\n",
       "3          Rantho Mathebulo\n",
       "4         JOSEPHINE BOLOGNA\n",
       "5                   Matador\n",
       "6          Jefferey Ostlind\n",
       "7           Dylan Cornelius\n",
       "8                 Cami Ryan\n",
       "9                       ODP\n",
       "Name: Nombre, dtype: object"
      ]
     },
     "execution_count": 7,
     "metadata": {},
     "output_type": "execute_result"
    }
   ],
   "source": [
    "df.Nombre[0:10]\n"
   ]
  },
  {
   "cell_type": "markdown",
   "metadata": {},
   "source": [
    "Podemos seleccionar filas en lugar de columnas, `df.xs(id)` o combinaciones de filas `df.ix[id1:id2]` o incluso filas/columnas según un requisito dado `df[df['like'] > 30]['Tweet']` (seleciona el dataframe en el que se cumple que la columna like > 30 mostrando solo la columna tuit)"
   ]
  },
  {
   "cell_type": "markdown",
   "metadata": {},
   "source": [
    "### Funciones\n",
    "\n",
    "Ahora que sabemos seleccionar partes de nuestro dataframe, podemos aplicar funciones al conjunto de datos que se genera. Una función muy común es `len()`, que nos devuleve la longitud o la suma del conjunto de elementos. "
   ]
  },
  {
   "cell_type": "code",
   "execution_count": 8,
   "metadata": {},
   "outputs": [
    {
     "name": "stdout",
     "output_type": "stream",
     "text": [
      "12545 filas\n",
      "11 columnas\n"
     ]
    }
   ],
   "source": [
    "print(len(df), 'filas')\n",
    "print(len(df.columns), 'columnas')"
   ]
  },
  {
   "cell_type": "markdown",
   "metadata": {},
   "source": [
    "Veamos algunas que nos resultaran interesantes. Podemos ordenar con `sort()` o encontrar los valores máximos `max()` o mínimos `min()`, agrupar siguiendo algún criterio `groupby()` o calcular la media `mean()`"
   ]
  },
  {
   "cell_type": "code",
   "execution_count": 11,
   "metadata": {},
   "outputs": [
    {
     "name": "stdout",
     "output_type": "stream",
     "text": [
      "TUIT CON MÁXIMO NÚMERO DE LIKES\n",
      "\n",
      "7632    FDA approves \"living drug\" that involves using...\n",
      "Name: Tweet, dtype: object\n",
      "\n",
      "TUIT CON MÁXIMO NÚMERO DE RT\n",
      "\n",
      "4113    Sweet potatoes are transgenic crops.\\nCultivar...\n",
      "Name: Tweet, dtype: object\n",
      "\n",
      "MEDIA DE LIKES\n",
      "\n"
     ]
    },
    {
     "data": {
      "text/plain": [
       "2"
      ]
     },
     "execution_count": 11,
     "metadata": {},
     "output_type": "execute_result"
    }
   ],
   "source": [
    "print('TUIT CON MÁXIMO NÚMERO DE LIKES')\n",
    "print('')\n",
    "print(df['Tweet'][df.like == df.like.max()])\n",
    "print('')\n",
    "print('TUIT CON MÁXIMO NÚMERO DE RT')\n",
    "print('')\n",
    "print(df['Tweet'][df.RT == df.RT.max()])\n",
    "print('')\n",
    "print('MEDIA DE LIKES')\n",
    "print('')\n",
    "int(df.like.mean())"
   ]
  },
  {
   "cell_type": "markdown",
   "metadata": {},
   "source": [
    "Una función muy interesante que podemos usar con nuestro dataframe es `df.Usuario.unique()`. Con ella podemos obtener una lista con nombres de usuario únicos, sin repetir. "
   ]
  },
  {
   "cell_type": "code",
   "execution_count": 20,
   "metadata": {},
   "outputs": [
    {
     "data": {
      "text/plain": [
       "7272"
      ]
     },
     "execution_count": 20,
     "metadata": {},
     "output_type": "execute_result"
    }
   ],
   "source": [
    "len(df.Usuario.unique())"
   ]
  },
  {
   "cell_type": "code",
   "execution_count": 21,
   "metadata": {},
   "outputs": [
    {
     "data": {
      "text/plain": [
       "11492"
      ]
     },
     "execution_count": 21,
     "metadata": {},
     "output_type": "execute_result"
    }
   ],
   "source": [
    "len(df.Tweet.unique())"
   ]
  },
  {
   "cell_type": "code",
   "execution_count": 22,
   "metadata": {},
   "outputs": [
    {
     "name": "stdout",
     "output_type": "stream",
     "text": [
      "7272 usuarios diferentes han tuiteado 11492 tuits diferentes de un total de 12545\n"
     ]
    }
   ],
   "source": [
    "print(len(df.Usuario.unique()), 'usuarios diferentes han tuiteado', len(df.Tweet.unique()), 'tuits diferentes de un total de', len(df.Usuario))"
   ]
  },
  {
   "cell_type": "markdown",
   "metadata": {},
   "source": [
    "Podemos crear funciones que nos vayan a ser útiles para el análisis. La siguiente función es capaz de recorrer una columna y contar las veces en que aparece repetido cada elemento. Nos devolverá un diccionario de los n elementos mas habituales. "
   ]
  },
  {
   "cell_type": "code",
   "execution_count": 23,
   "metadata": {},
   "outputs": [],
   "source": [
    "def duplicados(columna, n):\n",
    "    lista_columna = list(columna)\n",
    "    diccionario_duplicados = {}\n",
    "    \n",
    "    for name in lista_columna:\n",
    "        if name not in diccionario_duplicados:\n",
    "            diccionario_duplicados[name]=1\n",
    "        else:\n",
    "            diccionario_duplicados[name]+=1\n",
    "    diccionario_duplicados = {k:v for (k,v) in diccionario_duplicados.items() if v > n}\n",
    "    \n",
    "    return diccionario_duplicados"
   ]
  },
  {
   "cell_type": "code",
   "execution_count": 25,
   "metadata": {
    "scrolled": true
   },
   "outputs": [
    {
     "data": {
      "text/plain": [
       "{'@8extremes': 104,\n",
       " '@AmandaChidlow': 43,\n",
       " '@EcoInternet3': 38,\n",
       " '@EnviroEdgeNews': 47,\n",
       " '@FarmFairyCrafts': 300,\n",
       " '@GMOjournal': 36,\n",
       " '@GMWatch': 129,\n",
       " '@GenEngNetwork': 37,\n",
       " '@Luftdebatten': 32,\n",
       " '@MADGEAustralia': 36,\n",
       " '@NoGMOsVerified': 579,\n",
       " '@NonGMOProject': 38,\n",
       " '@Olivefarmer': 111,\n",
       " '@PositivelyJoan': 153,\n",
       " '@ShineJob': 31,\n",
       " '@achengula': 31,\n",
       " '@agbiotech': 58,\n",
       " '@beachvetlbc': 112,\n",
       " '@gmo_crops': 143,\n",
       " '@mem_somerville': 33,\n",
       " '@pjforguk': 31,\n",
       " '@twitevit': 62}"
      ]
     },
     "execution_count": 25,
     "metadata": {},
     "output_type": "execute_result"
    }
   ],
   "source": [
    "usuarios_habituales = duplicados(df.Usuario, 30)\n",
    "usuarios_habituales"
   ]
  },
  {
   "cell_type": "code",
   "execution_count": 73,
   "metadata": {},
   "outputs": [],
   "source": [
    "def f(x):\n",
    "     return Series(dict(Number_of_tweets = x['Tweet'].count(), \n",
    "                        Nombre=x['Nombre'].min()\n",
    "                        ))"
   ]
  },
  {
   "cell_type": "code",
   "execution_count": null,
   "metadata": {},
   "outputs": [],
   "source": [
    "account_count = df.groupby('Usuario').apply(f) "
   ]
  },
  {
   "cell_type": "code",
   "execution_count": 77,
   "metadata": {
    "scrolled": true
   },
   "outputs": [
    {
     "data": {
      "text/html": [
       "<div>\n",
       "<style scoped>\n",
       "    .dataframe tbody tr th:only-of-type {\n",
       "        vertical-align: middle;\n",
       "    }\n",
       "\n",
       "    .dataframe tbody tr th {\n",
       "        vertical-align: top;\n",
       "    }\n",
       "\n",
       "    .dataframe thead th {\n",
       "        text-align: right;\n",
       "    }\n",
       "</style>\n",
       "<table border=\"1\" class=\"dataframe\">\n",
       "  <thead>\n",
       "    <tr style=\"text-align: right;\">\n",
       "      <th></th>\n",
       "      <th>Nombre</th>\n",
       "      <th>Number_of_tweets</th>\n",
       "    </tr>\n",
       "    <tr>\n",
       "      <th>Usuario</th>\n",
       "      <th></th>\n",
       "      <th></th>\n",
       "    </tr>\n",
       "  </thead>\n",
       "  <tbody>\n",
       "    <tr>\n",
       "      <th>@NoGMOsVerified</th>\n",
       "      <td>NoGMOsVerified</td>\n",
       "      <td>579</td>\n",
       "    </tr>\n",
       "    <tr>\n",
       "      <th>@FarmFairyCrafts</th>\n",
       "      <td>Farm Fairy Crafts</td>\n",
       "      <td>300</td>\n",
       "    </tr>\n",
       "    <tr>\n",
       "      <th>@PositivelyJoan</th>\n",
       "      <td>Positively Joan</td>\n",
       "      <td>153</td>\n",
       "    </tr>\n",
       "    <tr>\n",
       "      <th>@gmo_crops</th>\n",
       "      <td>GMO Crop News</td>\n",
       "      <td>143</td>\n",
       "    </tr>\n",
       "    <tr>\n",
       "      <th>@GMWatch</th>\n",
       "      <td>GMWatch</td>\n",
       "      <td>129</td>\n",
       "    </tr>\n",
       "    <tr>\n",
       "      <th>@beachvetlbc</th>\n",
       "      <td>Notorious KGB Aggie</td>\n",
       "      <td>112</td>\n",
       "    </tr>\n",
       "    <tr>\n",
       "      <th>@Olivefarmer</th>\n",
       "      <td>Philli H</td>\n",
       "      <td>111</td>\n",
       "    </tr>\n",
       "    <tr>\n",
       "      <th>@8extremes</th>\n",
       "      <td>8extremes</td>\n",
       "      <td>104</td>\n",
       "    </tr>\n",
       "    <tr>\n",
       "      <th>@twitevit</th>\n",
       "      <td>Tom Andersen</td>\n",
       "      <td>62</td>\n",
       "    </tr>\n",
       "    <tr>\n",
       "      <th>@agbiotech</th>\n",
       "      <td>CBI</td>\n",
       "      <td>58</td>\n",
       "    </tr>\n",
       "  </tbody>\n",
       "</table>\n",
       "</div>"
      ],
      "text/plain": [
       "                               Nombre  Number_of_tweets\n",
       "Usuario                                                \n",
       "@NoGMOsVerified        NoGMOsVerified               579\n",
       "@FarmFairyCrafts    Farm Fairy Crafts               300\n",
       "@PositivelyJoan       Positively Joan               153\n",
       "@gmo_crops              GMO Crop News               143\n",
       "@GMWatch                      GMWatch               129\n",
       "@beachvetlbc      Notorious KGB Aggie               112\n",
       "@Olivefarmer                 Philli H               111\n",
       "@8extremes                  8extremes               104\n",
       "@twitevit                Tom Andersen                62\n",
       "@agbiotech                        CBI                58"
      ]
     },
     "execution_count": 77,
     "metadata": {},
     "output_type": "execute_result"
    }
   ],
   "source": [
    "account_count = account_count.sort_values(['Number_of_tweets'], ascending=False)[:10]\n",
    "account_count"
   ]
  },
  {
   "cell_type": "code",
   "execution_count": 100,
   "metadata": {},
   "outputs": [
    {
     "name": "stdout",
     "output_type": "stream",
     "text": [
      "['seaborn-notebook', '_classic_test', 'fivethirtyeight', 'seaborn-paper', 'seaborn-muted', 'seaborn-dark-palette', 'seaborn-ticks', 'seaborn-white', 'seaborn-dark', 'Solarize_Light2', 'seaborn-colorblind', 'seaborn-talk', 'bmh', 'grayscale', 'seaborn-darkgrid', 'seaborn-poster', 'seaborn-deep', 'seaborn', 'fast', 'seaborn-whitegrid', 'classic', 'seaborn-bright', 'ggplot', 'seaborn-pastel', 'dark_background']\n"
     ]
    }
   ],
   "source": [
    "print(plt.style.available)"
   ]
  },
  {
   "cell_type": "code",
   "execution_count": 103,
   "metadata": {},
   "outputs": [],
   "source": []
  },
  {
   "cell_type": "code",
   "execution_count": 123,
   "metadata": {},
   "outputs": [
    {
     "data": {
      "text/plain": [
       "Text(0,0.5,'Numero de Tweets')"
      ]
     },
     "execution_count": 123,
     "metadata": {},
     "output_type": "execute_result"
    },
    {
     "data": {
      "image/png": "[encoded data removed]",
      "text/plain": [
       "<matplotlib.figure.Figure at 0x7ff38fbd36d8>"
      ]
     },
     "metadata": {},
     "output_type": "display_data"
    }
   ],
   "source": [
    "account_plot = account_count['Number_of_tweets'].plot(kind='bar')\n",
    "account_plot.set_xlabel('Cuenta de Twitter', weight='bold')   \n",
    "account_plot.set_ylabel('Numero de Tweets', weight='bold')\n"
   ]
  },
  {
   "cell_type": "code",
   "execution_count": null,
   "metadata": {},
   "outputs": [],
   "source": []
  },
  {
   "cell_type": "code",
   "execution_count": 27,
   "metadata": {
    "scrolled": true
   },
   "outputs": [
    {
     "data": {
      "text/plain": [
       "{\"Failure to Rule Out Allergenicity Renders Monsanto's #GMO Hammond Study Inconclusive: http://GMOnion.com\\xa0\\n#Allergies\\n#DustMites\": 24,\n",
       " 'If Food is Medicine, & for FDA Approval Medicines Go Through Clinical Trials, Why is #GMO Food Treated Differently w/o Requiring Trials?': 16,\n",
       " 'New England Journal Of Medicine says Label #GMO Clearly\\nOn Package Easy2C\\nExpert Advise\\n@clairecmc MO @RoyBlunt MOhttp://tinyurl.com/hf3vxu5': 17,\n",
       " 'Possible consequences... in transgenic plants: http://www.tandfonline.com/doi/abs/10.4161/gmcr.21406\\xa0…\\nTranslation: GMOs cause #Allergies and more.': 21}"
      ]
     },
     "execution_count": 27,
     "metadata": {},
     "output_type": "execute_result"
    }
   ],
   "source": [
    "tuits_habituales = duplicados(df.Tweet, 15)\n",
    "tuits_habituales"
   ]
  },
  {
   "cell_type": "code",
   "execution_count": 137,
   "metadata": {},
   "outputs": [
    {
     "name": "stdout",
     "output_type": "stream",
     "text": [
      "9.09 % de tuits positivos\n",
      "4.2 % de tuits negativos\n",
      "86.71 % de tuits neutrales\n"
     ]
    }
   ],
   "source": [
    "POS = 0\n",
    "NEG = 0\n",
    "NEU = 0\n",
    "for categoria in df['categoría'][df['Usuario']=='@gmo_crops']:\n",
    "    if categoria == 'Positivo':\n",
    "        POS = POS + 1\n",
    "    elif categoria == 'Negativo':\n",
    "        NEG = NEG +1\n",
    "    else:\n",
    "        NEU = NEU + 1\n",
    "print(np.round(POS/len(df['categoría'][df['Usuario']=='@gmo_crops'])*100, 2), '% de tuits positivos')\n",
    "print(np.round(NEG/len(df['categoría'][df['Usuario']=='@gmo_crops'])*100, 2), '% de tuits negativos')\n",
    "print(np.round(NEU/len(df['categoría'][df['Usuario']=='@gmo_crops'])*100, 2), '% de tuits neutrales')\n"
   ]
  },
  {
   "cell_type": "code",
   "execution_count": 143,
   "metadata": {},
   "outputs": [],
   "source": [
    "def usuario_percent(usuario):\n",
    "    POS = 0\n",
    "    NEG = 0\n",
    "    NEU = 0\n",
    "    for categoria in df['categoría'][df['Usuario']==usuario]:\n",
    "        if categoria == 'Positivo':\n",
    "            POS = POS + 1\n",
    "        elif categoria == 'Negativo':\n",
    "            NEG = NEG +1\n",
    "        else:\n",
    "            NEU = NEU + 1\n",
    "    ppos = np.round(POS/len(df['categoría'][df['Usuario']==usuario])*100, 2)\n",
    "    pneg = np.round(NEG/len(df['categoría'][df['Usuario']==usuario])*100, 2)\n",
    "    pneu = np.round(NEU/len(df['categoría'][df['Usuario']==usuario])*100, 2)\n",
    "    pdic = {}\n",
    "    pdic['pos'] = ppos\n",
    "    pdic['neg'] = pneg\n",
    "    pdic['neu'] = pneu\n",
    "    return pdic\n",
    "    \n"
   ]
  },
  {
   "cell_type": "code",
   "execution_count": 144,
   "metadata": {
    "scrolled": true
   },
   "outputs": [
    {
     "data": {
      "text/plain": [
       "{'neg': 30.57, 'neu': 63.210000000000001, 'pos': 6.2199999999999998}"
      ]
     },
     "execution_count": 144,
     "metadata": {},
     "output_type": "execute_result"
    }
   ],
   "source": [
    "usuario_percent('@NoGMOsVerified')"
   ]
  },
  {
   "cell_type": "code",
   "execution_count": 149,
   "metadata": {},
   "outputs": [
    {
     "name": "stdout",
     "output_type": "stream",
     "text": [
      "@NoGMOsVerified {'pos': 6.2199999999999998, 'neg': 30.57, 'neu': 63.210000000000001}\n",
      "@FarmFairyCrafts {'pos': 14.0, 'neg': 36.0, 'neu': 50.0}\n",
      "@PositivelyJoan {'pos': 8.5, 'neg': 52.939999999999998, 'neu': 38.560000000000002}\n",
      "@gmo_crops {'pos': 9.0899999999999999, 'neg': 4.2000000000000002, 'neu': 86.709999999999994}\n",
      "@GMWatch {'pos': 9.3000000000000007, 'neg': 30.23, 'neu': 60.469999999999999}\n",
      "@beachvetlbc {'pos': 17.859999999999999, 'neg': 17.859999999999999, 'neu': 64.290000000000006}\n",
      "@Olivefarmer {'pos': 8.1099999999999994, 'neg': 11.710000000000001, 'neu': 80.180000000000007}\n",
      "@8extremes {'pos': 12.5, 'neg': 46.149999999999999, 'neu': 41.350000000000001}\n",
      "@twitevit {'pos': 6.4500000000000002, 'neg': 43.549999999999997, 'neu': 50.0}\n",
      "@agbiotech {'pos': 39.659999999999997, 'neg': 24.140000000000001, 'neu': 36.210000000000001}\n"
     ]
    }
   ],
   "source": [
    "for account in account_count.index:\n",
    "    print(account, usuario_percent(account))"
   ]
  },
  {
   "cell_type": "code",
   "execution_count": 28,
   "metadata": {},
   "outputs": [],
   "source": [
    "def añade_año(dataframe):\n",
    "    years = []\n",
    "    \n",
    "    for f in dataframe.Fecha:\n",
    "        try:\n",
    "            year = f.split('. ')[1]\n",
    "            years.append(year)\n",
    "        except:\n",
    "            print('No se pudo obtener el año de todos los elementos. ')\n",
    "            break\n",
    "    dataframe.insert(3, 'Año', years)  "
   ]
  },
  {
   "cell_type": "code",
   "execution_count": 29,
   "metadata": {},
   "outputs": [],
   "source": [
    "añade_año(df)"
   ]
  },
  {
   "cell_type": "code",
   "execution_count": 30,
   "metadata": {},
   "outputs": [
    {
     "data": {
      "text/html": [
       "<div>\n",
       "<style scoped>\n",
       "    .dataframe tbody tr th:only-of-type {\n",
       "        vertical-align: middle;\n",
       "    }\n",
       "\n",
       "    .dataframe tbody tr th {\n",
       "        vertical-align: top;\n",
       "    }\n",
       "\n",
       "    .dataframe thead th {\n",
       "        text-align: right;\n",
       "    }\n",
       "</style>\n",
       "<table border=\"1\" class=\"dataframe\">\n",
       "  <thead>\n",
       "    <tr style=\"text-align: right;\">\n",
       "      <th></th>\n",
       "      <th>Usuario</th>\n",
       "      <th>Nombre</th>\n",
       "      <th>Fecha</th>\n",
       "      <th>Año</th>\n",
       "      <th>Tweet</th>\n",
       "      <th>RT</th>\n",
       "      <th>like</th>\n",
       "      <th>path</th>\n",
       "      <th>verificados</th>\n",
       "      <th>tópico</th>\n",
       "      <th>sentimiento</th>\n",
       "      <th>categoría</th>\n",
       "    </tr>\n",
       "  </thead>\n",
       "  <tbody>\n",
       "    <tr>\n",
       "      <th>0</th>\n",
       "      <td>@jaymee_danielle</td>\n",
       "      <td>zen kitty</td>\n",
       "      <td>10 dic. 2017</td>\n",
       "      <td>2017</td>\n",
       "      <td>issues i have w/ GMO:\\n• doesnt taste “natural...</td>\n",
       "      <td>67</td>\n",
       "      <td>179</td>\n",
       "      <td>/jaymee_danielle/status/939965734196842496</td>\n",
       "      <td>NaN</td>\n",
       "      <td>Allergy</td>\n",
       "      <td>0.0900</td>\n",
       "      <td>Neutral</td>\n",
       "    </tr>\n",
       "    <tr>\n",
       "      <th>1</th>\n",
       "      <td>@systecdb</td>\n",
       "      <td>Dave Baggett</td>\n",
       "      <td>10 dic. 2017</td>\n",
       "      <td>2017</td>\n",
       "      <td>It dawns on me that before GMO foods became pr...</td>\n",
       "      <td>0</td>\n",
       "      <td>1</td>\n",
       "      <td>/systecdb/status/939776697724997632</td>\n",
       "      <td>NaN</td>\n",
       "      <td>Allergy</td>\n",
       "      <td>0.4767</td>\n",
       "      <td>Positivo</td>\n",
       "    </tr>\n",
       "    <tr>\n",
       "      <th>2</th>\n",
       "      <td>@saltedveg</td>\n",
       "      <td>ingin punya tuyul saja</td>\n",
       "      <td>10 dic. 2017</td>\n",
       "      <td>2017</td>\n",
       "      <td>Coz it's 'cool'. Just like people who suddenly...</td>\n",
       "      <td>1</td>\n",
       "      <td>1</td>\n",
       "      <td>/saltedveg/status/939675324765298688</td>\n",
       "      <td>NaN</td>\n",
       "      <td>Allergy</td>\n",
       "      <td>0.9068</td>\n",
       "      <td>Positivo</td>\n",
       "    </tr>\n",
       "    <tr>\n",
       "      <th>3</th>\n",
       "      <td>@RMathebulo</td>\n",
       "      <td>Rantho Mathebulo</td>\n",
       "      <td>9 dic. 2017</td>\n",
       "      <td>2017</td>\n",
       "      <td>Alcoholism gout acne genetically modified food...</td>\n",
       "      <td>0</td>\n",
       "      <td>0</td>\n",
       "      <td>/RMathebulo/status/939601946960453633</td>\n",
       "      <td>NaN</td>\n",
       "      <td>Allergy</td>\n",
       "      <td>-0.7412</td>\n",
       "      <td>Negativo</td>\n",
       "    </tr>\n",
       "    <tr>\n",
       "      <th>4</th>\n",
       "      <td>@carmelabny</td>\n",
       "      <td>JOSEPHINE BOLOGNA</td>\n",
       "      <td>8 dic. 2017</td>\n",
       "      <td>2017</td>\n",
       "      <td>Foods to eat every day and a healthy product t...</td>\n",
       "      <td>7</td>\n",
       "      <td>4</td>\n",
       "      <td>/carmelabny/status/939102225800028160</td>\n",
       "      <td>NaN</td>\n",
       "      <td>Allergy</td>\n",
       "      <td>0.4738</td>\n",
       "      <td>Positivo</td>\n",
       "    </tr>\n",
       "  </tbody>\n",
       "</table>\n",
       "</div>"
      ],
      "text/plain": [
       "            Usuario                  Nombre         Fecha   Año  \\\n",
       "0  @jaymee_danielle               zen kitty  10 dic. 2017  2017   \n",
       "1         @systecdb            Dave Baggett  10 dic. 2017  2017   \n",
       "2        @saltedveg  ingin punya tuyul saja  10 dic. 2017  2017   \n",
       "3       @RMathebulo        Rantho Mathebulo   9 dic. 2017  2017   \n",
       "4       @carmelabny       JOSEPHINE BOLOGNA   8 dic. 2017  2017   \n",
       "\n",
       "                                               Tweet  RT  like  \\\n",
       "0  issues i have w/ GMO:\\n• doesnt taste “natural...  67   179   \n",
       "1  It dawns on me that before GMO foods became pr...   0     1   \n",
       "2  Coz it's 'cool'. Just like people who suddenly...   1     1   \n",
       "3  Alcoholism gout acne genetically modified food...   0     0   \n",
       "4  Foods to eat every day and a healthy product t...   7     4   \n",
       "\n",
       "                                         path verificados   tópico  \\\n",
       "0  /jaymee_danielle/status/939965734196842496         NaN  Allergy   \n",
       "1         /systecdb/status/939776697724997632         NaN  Allergy   \n",
       "2        /saltedveg/status/939675324765298688         NaN  Allergy   \n",
       "3       /RMathebulo/status/939601946960453633         NaN  Allergy   \n",
       "4       /carmelabny/status/939102225800028160         NaN  Allergy   \n",
       "\n",
       "   sentimiento categoría  \n",
       "0       0.0900   Neutral  \n",
       "1       0.4767  Positivo  \n",
       "2       0.9068  Positivo  \n",
       "3      -0.7412  Negativo  \n",
       "4       0.4738  Positivo  "
      ]
     },
     "execution_count": 30,
     "metadata": {},
     "output_type": "execute_result"
    }
   ],
   "source": [
    "df.head()"
   ]
  },
  {
   "cell_type": "code",
   "execution_count": 35,
   "metadata": {},
   "outputs": [
    {
     "data": {
      "text/html": [
       "<div>\n",
       "<style scoped>\n",
       "    .dataframe tbody tr th:only-of-type {\n",
       "        vertical-align: middle;\n",
       "    }\n",
       "\n",
       "    .dataframe tbody tr th {\n",
       "        vertical-align: top;\n",
       "    }\n",
       "\n",
       "    .dataframe thead th {\n",
       "        text-align: right;\n",
       "    }\n",
       "</style>\n",
       "<table border=\"1\" class=\"dataframe\">\n",
       "  <thead>\n",
       "    <tr style=\"text-align: right;\">\n",
       "      <th></th>\n",
       "      <th>count</th>\n",
       "      <th>mean</th>\n",
       "      <th>std</th>\n",
       "      <th>max</th>\n",
       "    </tr>\n",
       "    <tr>\n",
       "      <th>Año</th>\n",
       "      <th></th>\n",
       "      <th></th>\n",
       "      <th></th>\n",
       "      <th></th>\n",
       "    </tr>\n",
       "  </thead>\n",
       "  <tbody>\n",
       "    <tr>\n",
       "      <th>2009</th>\n",
       "      <td>4.0</td>\n",
       "      <td>0.000000</td>\n",
       "      <td>0.000000</td>\n",
       "      <td>0.0</td>\n",
       "    </tr>\n",
       "    <tr>\n",
       "      <th>2010</th>\n",
       "      <td>25.0</td>\n",
       "      <td>0.440000</td>\n",
       "      <td>1.445683</td>\n",
       "      <td>7.0</td>\n",
       "    </tr>\n",
       "    <tr>\n",
       "      <th>2011</th>\n",
       "      <td>43.0</td>\n",
       "      <td>0.627907</td>\n",
       "      <td>1.234875</td>\n",
       "      <td>5.0</td>\n",
       "    </tr>\n",
       "    <tr>\n",
       "      <th>2012</th>\n",
       "      <td>77.0</td>\n",
       "      <td>0.987013</td>\n",
       "      <td>2.022853</td>\n",
       "      <td>14.0</td>\n",
       "    </tr>\n",
       "    <tr>\n",
       "      <th>2013</th>\n",
       "      <td>79.0</td>\n",
       "      <td>2.936709</td>\n",
       "      <td>22.021750</td>\n",
       "      <td>196.0</td>\n",
       "    </tr>\n",
       "    <tr>\n",
       "      <th>2014</th>\n",
       "      <td>548.0</td>\n",
       "      <td>1.465328</td>\n",
       "      <td>3.569713</td>\n",
       "      <td>35.0</td>\n",
       "    </tr>\n",
       "    <tr>\n",
       "      <th>2015</th>\n",
       "      <td>753.0</td>\n",
       "      <td>2.245684</td>\n",
       "      <td>7.724783</td>\n",
       "      <td>125.0</td>\n",
       "    </tr>\n",
       "    <tr>\n",
       "      <th>2016</th>\n",
       "      <td>3339.0</td>\n",
       "      <td>1.924528</td>\n",
       "      <td>12.645332</td>\n",
       "      <td>599.0</td>\n",
       "    </tr>\n",
       "    <tr>\n",
       "      <th>2017</th>\n",
       "      <td>7677.0</td>\n",
       "      <td>1.943468</td>\n",
       "      <td>13.888953</td>\n",
       "      <td>751.0</td>\n",
       "    </tr>\n",
       "  </tbody>\n",
       "</table>\n",
       "</div>"
      ],
      "text/plain": [
       "       count      mean        std    max\n",
       "Año                                     \n",
       "2009     4.0  0.000000   0.000000    0.0\n",
       "2010    25.0  0.440000   1.445683    7.0\n",
       "2011    43.0  0.627907   1.234875    5.0\n",
       "2012    77.0  0.987013   2.022853   14.0\n",
       "2013    79.0  2.936709  22.021750  196.0\n",
       "2014   548.0  1.465328   3.569713   35.0\n",
       "2015   753.0  2.245684   7.724783  125.0\n",
       "2016  3339.0  1.924528  12.645332  599.0\n",
       "2017  7677.0  1.943468  13.888953  751.0"
      ]
     },
     "execution_count": 35,
     "metadata": {},
     "output_type": "execute_result"
    }
   ],
   "source": [
    "by_year = df.groupby('Año')\n",
    "by_year.describe()['RT'][['count', 'mean', 'std', 'max']]"
   ]
  },
  {
   "cell_type": "code",
   "execution_count": 36,
   "metadata": {},
   "outputs": [
    {
     "data": {
      "text/html": [
       "<div>\n",
       "<style scoped>\n",
       "    .dataframe tbody tr th:only-of-type {\n",
       "        vertical-align: middle;\n",
       "    }\n",
       "\n",
       "    .dataframe tbody tr th {\n",
       "        vertical-align: top;\n",
       "    }\n",
       "\n",
       "    .dataframe thead th {\n",
       "        text-align: right;\n",
       "    }\n",
       "</style>\n",
       "<table border=\"1\" class=\"dataframe\">\n",
       "  <thead>\n",
       "    <tr style=\"text-align: right;\">\n",
       "      <th></th>\n",
       "      <th>count</th>\n",
       "      <th>mean</th>\n",
       "      <th>std</th>\n",
       "      <th>max</th>\n",
       "    </tr>\n",
       "    <tr>\n",
       "      <th>Año</th>\n",
       "      <th></th>\n",
       "      <th></th>\n",
       "      <th></th>\n",
       "      <th></th>\n",
       "    </tr>\n",
       "  </thead>\n",
       "  <tbody>\n",
       "    <tr>\n",
       "      <th>2009</th>\n",
       "      <td>4.0</td>\n",
       "      <td>0.250000</td>\n",
       "      <td>0.500000</td>\n",
       "      <td>1.0</td>\n",
       "    </tr>\n",
       "    <tr>\n",
       "      <th>2010</th>\n",
       "      <td>25.0</td>\n",
       "      <td>0.120000</td>\n",
       "      <td>0.600000</td>\n",
       "      <td>3.0</td>\n",
       "    </tr>\n",
       "    <tr>\n",
       "      <th>2011</th>\n",
       "      <td>43.0</td>\n",
       "      <td>0.046512</td>\n",
       "      <td>0.213083</td>\n",
       "      <td>1.0</td>\n",
       "    </tr>\n",
       "    <tr>\n",
       "      <th>2012</th>\n",
       "      <td>77.0</td>\n",
       "      <td>0.259740</td>\n",
       "      <td>0.571300</td>\n",
       "      <td>2.0</td>\n",
       "    </tr>\n",
       "    <tr>\n",
       "      <th>2013</th>\n",
       "      <td>79.0</td>\n",
       "      <td>2.556962</td>\n",
       "      <td>20.909295</td>\n",
       "      <td>186.0</td>\n",
       "    </tr>\n",
       "    <tr>\n",
       "      <th>2014</th>\n",
       "      <td>548.0</td>\n",
       "      <td>0.671533</td>\n",
       "      <td>1.497637</td>\n",
       "      <td>15.0</td>\n",
       "    </tr>\n",
       "    <tr>\n",
       "      <th>2015</th>\n",
       "      <td>753.0</td>\n",
       "      <td>1.345286</td>\n",
       "      <td>5.158940</td>\n",
       "      <td>101.0</td>\n",
       "    </tr>\n",
       "    <tr>\n",
       "      <th>2016</th>\n",
       "      <td>3339.0</td>\n",
       "      <td>1.986523</td>\n",
       "      <td>9.960924</td>\n",
       "      <td>321.0</td>\n",
       "    </tr>\n",
       "    <tr>\n",
       "      <th>2017</th>\n",
       "      <td>7677.0</td>\n",
       "      <td>2.593461</td>\n",
       "      <td>16.882430</td>\n",
       "      <td>925.0</td>\n",
       "    </tr>\n",
       "  </tbody>\n",
       "</table>\n",
       "</div>"
      ],
      "text/plain": [
       "       count      mean        std    max\n",
       "Año                                     \n",
       "2009     4.0  0.250000   0.500000    1.0\n",
       "2010    25.0  0.120000   0.600000    3.0\n",
       "2011    43.0  0.046512   0.213083    1.0\n",
       "2012    77.0  0.259740   0.571300    2.0\n",
       "2013    79.0  2.556962  20.909295  186.0\n",
       "2014   548.0  0.671533   1.497637   15.0\n",
       "2015   753.0  1.345286   5.158940  101.0\n",
       "2016  3339.0  1.986523   9.960924  321.0\n",
       "2017  7677.0  2.593461  16.882430  925.0"
      ]
     },
     "execution_count": 36,
     "metadata": {},
     "output_type": "execute_result"
    }
   ],
   "source": [
    "by_year = df.groupby('Año')\n",
    "by_year.describe()['like'][['count', 'mean', 'std', 'max']]"
   ]
  },
  {
   "cell_type": "code",
   "execution_count": 39,
   "metadata": {},
   "outputs": [
    {
     "data": {
      "text/html": [
       "<div>\n",
       "<style scoped>\n",
       "    .dataframe tbody tr th:only-of-type {\n",
       "        vertical-align: middle;\n",
       "    }\n",
       "\n",
       "    .dataframe tbody tr th {\n",
       "        vertical-align: top;\n",
       "    }\n",
       "\n",
       "    .dataframe thead th {\n",
       "        text-align: right;\n",
       "    }\n",
       "</style>\n",
       "<table border=\"1\" class=\"dataframe\">\n",
       "  <thead>\n",
       "    <tr style=\"text-align: right;\">\n",
       "      <th></th>\n",
       "      <th>Año</th>\n",
       "      <th>categoría</th>\n",
       "      <th>RT</th>\n",
       "      <th>like</th>\n",
       "      <th>sentimiento</th>\n",
       "    </tr>\n",
       "  </thead>\n",
       "  <tbody>\n",
       "    <tr>\n",
       "      <th>0</th>\n",
       "      <td>2009</td>\n",
       "      <td>Negativo</td>\n",
       "      <td>0.000000</td>\n",
       "      <td>0.000000</td>\n",
       "      <td>-0.883400</td>\n",
       "    </tr>\n",
       "    <tr>\n",
       "      <th>1</th>\n",
       "      <td>2009</td>\n",
       "      <td>Neutral</td>\n",
       "      <td>0.000000</td>\n",
       "      <td>0.333333</td>\n",
       "      <td>0.067433</td>\n",
       "    </tr>\n",
       "    <tr>\n",
       "      <th>2</th>\n",
       "      <td>2010</td>\n",
       "      <td>Negativo</td>\n",
       "      <td>0.000000</td>\n",
       "      <td>0.000000</td>\n",
       "      <td>-0.640200</td>\n",
       "    </tr>\n",
       "    <tr>\n",
       "      <th>3</th>\n",
       "      <td>2010</td>\n",
       "      <td>Neutral</td>\n",
       "      <td>0.454545</td>\n",
       "      <td>0.136364</td>\n",
       "      <td>0.033491</td>\n",
       "    </tr>\n",
       "    <tr>\n",
       "      <th>4</th>\n",
       "      <td>2010</td>\n",
       "      <td>Positivo</td>\n",
       "      <td>0.500000</td>\n",
       "      <td>0.000000</td>\n",
       "      <td>0.668050</td>\n",
       "    </tr>\n",
       "    <tr>\n",
       "      <th>5</th>\n",
       "      <td>2011</td>\n",
       "      <td>Negativo</td>\n",
       "      <td>0.000000</td>\n",
       "      <td>0.000000</td>\n",
       "      <td>-0.546950</td>\n",
       "    </tr>\n",
       "    <tr>\n",
       "      <th>6</th>\n",
       "      <td>2011</td>\n",
       "      <td>Neutral</td>\n",
       "      <td>0.702703</td>\n",
       "      <td>0.054054</td>\n",
       "      <td>0.040232</td>\n",
       "    </tr>\n",
       "    <tr>\n",
       "      <th>7</th>\n",
       "      <td>2011</td>\n",
       "      <td>Positivo</td>\n",
       "      <td>0.250000</td>\n",
       "      <td>0.000000</td>\n",
       "      <td>0.654350</td>\n",
       "    </tr>\n",
       "    <tr>\n",
       "      <th>8</th>\n",
       "      <td>2012</td>\n",
       "      <td>Negativo</td>\n",
       "      <td>0.000000</td>\n",
       "      <td>0.000000</td>\n",
       "      <td>-0.795329</td>\n",
       "    </tr>\n",
       "    <tr>\n",
       "      <th>9</th>\n",
       "      <td>2012</td>\n",
       "      <td>Neutral</td>\n",
       "      <td>1.092308</td>\n",
       "      <td>0.292308</td>\n",
       "      <td>0.027252</td>\n",
       "    </tr>\n",
       "    <tr>\n",
       "      <th>10</th>\n",
       "      <td>2012</td>\n",
       "      <td>Positivo</td>\n",
       "      <td>1.000000</td>\n",
       "      <td>0.200000</td>\n",
       "      <td>0.625240</td>\n",
       "    </tr>\n",
       "    <tr>\n",
       "      <th>11</th>\n",
       "      <td>2013</td>\n",
       "      <td>Negativo</td>\n",
       "      <td>9.714286</td>\n",
       "      <td>9.142857</td>\n",
       "      <td>-0.621905</td>\n",
       "    </tr>\n",
       "    <tr>\n",
       "      <th>12</th>\n",
       "      <td>2013</td>\n",
       "      <td>Neutral</td>\n",
       "      <td>0.478261</td>\n",
       "      <td>0.195652</td>\n",
       "      <td>0.015137</td>\n",
       "    </tr>\n",
       "    <tr>\n",
       "      <th>13</th>\n",
       "      <td>2013</td>\n",
       "      <td>Positivo</td>\n",
       "      <td>0.500000</td>\n",
       "      <td>0.083333</td>\n",
       "      <td>0.631817</td>\n",
       "    </tr>\n",
       "    <tr>\n",
       "      <th>14</th>\n",
       "      <td>2014</td>\n",
       "      <td>Negativo</td>\n",
       "      <td>1.580247</td>\n",
       "      <td>0.703704</td>\n",
       "      <td>-0.637263</td>\n",
       "    </tr>\n",
       "    <tr>\n",
       "      <th>15</th>\n",
       "      <td>2014</td>\n",
       "      <td>Neutral</td>\n",
       "      <td>1.430380</td>\n",
       "      <td>0.636076</td>\n",
       "      <td>-0.009092</td>\n",
       "    </tr>\n",
       "    <tr>\n",
       "      <th>16</th>\n",
       "      <td>2014</td>\n",
       "      <td>Positivo</td>\n",
       "      <td>1.357143</td>\n",
       "      <td>0.757143</td>\n",
       "      <td>0.633723</td>\n",
       "    </tr>\n",
       "    <tr>\n",
       "      <th>17</th>\n",
       "      <td>2015</td>\n",
       "      <td>Negativo</td>\n",
       "      <td>2.614525</td>\n",
       "      <td>1.268156</td>\n",
       "      <td>-0.633067</td>\n",
       "    </tr>\n",
       "    <tr>\n",
       "      <th>18</th>\n",
       "      <td>2015</td>\n",
       "      <td>Neutral</td>\n",
       "      <td>2.352298</td>\n",
       "      <td>1.442013</td>\n",
       "      <td>-0.009165</td>\n",
       "    </tr>\n",
       "    <tr>\n",
       "      <th>19</th>\n",
       "      <td>2015</td>\n",
       "      <td>Positivo</td>\n",
       "      <td>1.264957</td>\n",
       "      <td>1.085470</td>\n",
       "      <td>0.629957</td>\n",
       "    </tr>\n",
       "    <tr>\n",
       "      <th>20</th>\n",
       "      <td>2016</td>\n",
       "      <td>Negativo</td>\n",
       "      <td>2.288714</td>\n",
       "      <td>2.153543</td>\n",
       "      <td>-0.659423</td>\n",
       "    </tr>\n",
       "    <tr>\n",
       "      <th>21</th>\n",
       "      <td>2016</td>\n",
       "      <td>Neutral</td>\n",
       "      <td>1.576097</td>\n",
       "      <td>1.786181</td>\n",
       "      <td>0.019185</td>\n",
       "    </tr>\n",
       "    <tr>\n",
       "      <th>22</th>\n",
       "      <td>2016</td>\n",
       "      <td>Positivo</td>\n",
       "      <td>3.002299</td>\n",
       "      <td>2.680460</td>\n",
       "      <td>0.631079</td>\n",
       "    </tr>\n",
       "    <tr>\n",
       "      <th>23</th>\n",
       "      <td>2017</td>\n",
       "      <td>Negativo</td>\n",
       "      <td>1.662304</td>\n",
       "      <td>2.191099</td>\n",
       "      <td>-0.692273</td>\n",
       "    </tr>\n",
       "    <tr>\n",
       "      <th>24</th>\n",
       "      <td>2017</td>\n",
       "      <td>Neutral</td>\n",
       "      <td>1.979073</td>\n",
       "      <td>2.622117</td>\n",
       "      <td>0.012446</td>\n",
       "    </tr>\n",
       "    <tr>\n",
       "      <th>25</th>\n",
       "      <td>2017</td>\n",
       "      <td>Positivo</td>\n",
       "      <td>2.362712</td>\n",
       "      <td>3.272881</td>\n",
       "      <td>0.646379</td>\n",
       "    </tr>\n",
       "  </tbody>\n",
       "</table>\n",
       "</div>"
      ],
      "text/plain": [
       "     Año categoría        RT      like  sentimiento\n",
       "0   2009  Negativo  0.000000  0.000000    -0.883400\n",
       "1   2009   Neutral  0.000000  0.333333     0.067433\n",
       "2   2010  Negativo  0.000000  0.000000    -0.640200\n",
       "3   2010   Neutral  0.454545  0.136364     0.033491\n",
       "4   2010  Positivo  0.500000  0.000000     0.668050\n",
       "5   2011  Negativo  0.000000  0.000000    -0.546950\n",
       "6   2011   Neutral  0.702703  0.054054     0.040232\n",
       "7   2011  Positivo  0.250000  0.000000     0.654350\n",
       "8   2012  Negativo  0.000000  0.000000    -0.795329\n",
       "9   2012   Neutral  1.092308  0.292308     0.027252\n",
       "10  2012  Positivo  1.000000  0.200000     0.625240\n",
       "11  2013  Negativo  9.714286  9.142857    -0.621905\n",
       "12  2013   Neutral  0.478261  0.195652     0.015137\n",
       "13  2013  Positivo  0.500000  0.083333     0.631817\n",
       "14  2014  Negativo  1.580247  0.703704    -0.637263\n",
       "15  2014   Neutral  1.430380  0.636076    -0.009092\n",
       "16  2014  Positivo  1.357143  0.757143     0.633723\n",
       "17  2015  Negativo  2.614525  1.268156    -0.633067\n",
       "18  2015   Neutral  2.352298  1.442013    -0.009165\n",
       "19  2015  Positivo  1.264957  1.085470     0.629957\n",
       "20  2016  Negativo  2.288714  2.153543    -0.659423\n",
       "21  2016   Neutral  1.576097  1.786181     0.019185\n",
       "22  2016  Positivo  3.002299  2.680460     0.631079\n",
       "23  2017  Negativo  1.662304  2.191099    -0.692273\n",
       "24  2017   Neutral  1.979073  2.622117     0.012446\n",
       "25  2017  Positivo  2.362712  3.272881     0.646379"
      ]
     },
     "execution_count": 39,
     "metadata": {},
     "output_type": "execute_result"
    }
   ],
   "source": [
    "df.groupby(['Año', 'categoría'], as_index=False).mean()"
   ]
  },
  {
   "cell_type": "code",
   "execution_count": 40,
   "metadata": {},
   "outputs": [],
   "source": [
    "df_verificados = df[df.verificados == 'Usuario Verificado'] "
   ]
  },
  {
   "cell_type": "code",
   "execution_count": 42,
   "metadata": {},
   "outputs": [
    {
     "data": {
      "text/plain": [
       "235"
      ]
     },
     "execution_count": 42,
     "metadata": {},
     "output_type": "execute_result"
    }
   ],
   "source": [
    "len(df_verificados)"
   ]
  },
  {
   "cell_type": "code",
   "execution_count": 48,
   "metadata": {},
   "outputs": [
    {
     "name": "stdout",
     "output_type": "stream",
     "text": [
      "20.425531914893615\n",
      "17.02127659574468\n",
      "62.5531914893617\n"
     ]
    }
   ],
   "source": [
    "POS = 0\n",
    "NEG = 0\n",
    "NEU = 0\n",
    "for categoria in df_verificados['categoría']:\n",
    "    if categoria == 'Positivo':\n",
    "        POS = POS + 1\n",
    "    elif categoria == 'Negativo':\n",
    "        NEG = NEG +1\n",
    "    else:\n",
    "        NEU = NEU + 1\n",
    "print(POS/len(df_verificados)*100)\n",
    "print(NEG/len(df_verificados)*100)\n",
    "print(NEU/len(df_verificados)*100)"
   ]
  },
  {
   "cell_type": "code",
   "execution_count": 49,
   "metadata": {},
   "outputs": [
    {
     "name": "stdout",
     "output_type": "stream",
     "text": [
      "14.3489361702\n",
      "16.5021276596\n",
      "1.69082047116\n",
      "1.97189277011\n"
     ]
    }
   ],
   "source": [
    "print(df[df.verificados == 'Usuario Verificado']['RT'].mean())\n",
    "print(df[df.verificados == 'Usuario Verificado']['like'].mean())\n",
    "print(df[df.verificados != 'Usuario Verificado']['RT'].mean())\n",
    "print(df[df.verificados != 'Usuario Verificado']['like'].mean())"
   ]
  },
  {
   "cell_type": "code",
   "execution_count": 50,
   "metadata": {},
   "outputs": [
    {
     "data": {
      "text/html": [
       "<div>\n",
       "<style scoped>\n",
       "    .dataframe tbody tr th:only-of-type {\n",
       "        vertical-align: middle;\n",
       "    }\n",
       "\n",
       "    .dataframe tbody tr th {\n",
       "        vertical-align: top;\n",
       "    }\n",
       "\n",
       "    .dataframe thead tr th {\n",
       "        text-align: left;\n",
       "    }\n",
       "\n",
       "    .dataframe thead tr:last-of-type th {\n",
       "        text-align: right;\n",
       "    }\n",
       "</style>\n",
       "<table border=\"1\" class=\"dataframe\">\n",
       "  <thead>\n",
       "    <tr>\n",
       "      <th></th>\n",
       "      <th colspan=\"8\" halign=\"left\">RT</th>\n",
       "      <th colspan=\"5\" halign=\"left\">like</th>\n",
       "      <th colspan=\"8\" halign=\"left\">sentimiento</th>\n",
       "    </tr>\n",
       "    <tr>\n",
       "      <th></th>\n",
       "      <th>count</th>\n",
       "      <th>mean</th>\n",
       "      <th>std</th>\n",
       "      <th>min</th>\n",
       "      <th>25%</th>\n",
       "      <th>50%</th>\n",
       "      <th>75%</th>\n",
       "      <th>max</th>\n",
       "      <th>count</th>\n",
       "      <th>mean</th>\n",
       "      <th>...</th>\n",
       "      <th>75%</th>\n",
       "      <th>max</th>\n",
       "      <th>count</th>\n",
       "      <th>mean</th>\n",
       "      <th>std</th>\n",
       "      <th>min</th>\n",
       "      <th>25%</th>\n",
       "      <th>50%</th>\n",
       "      <th>75%</th>\n",
       "      <th>max</th>\n",
       "    </tr>\n",
       "    <tr>\n",
       "      <th>verificados</th>\n",
       "      <th></th>\n",
       "      <th></th>\n",
       "      <th></th>\n",
       "      <th></th>\n",
       "      <th></th>\n",
       "      <th></th>\n",
       "      <th></th>\n",
       "      <th></th>\n",
       "      <th></th>\n",
       "      <th></th>\n",
       "      <th></th>\n",
       "      <th></th>\n",
       "      <th></th>\n",
       "      <th></th>\n",
       "      <th></th>\n",
       "      <th></th>\n",
       "      <th></th>\n",
       "      <th></th>\n",
       "      <th></th>\n",
       "      <th></th>\n",
       "      <th></th>\n",
       "    </tr>\n",
       "  </thead>\n",
       "  <tbody>\n",
       "    <tr>\n",
       "      <th>No verificado</th>\n",
       "      <td>12310.0</td>\n",
       "      <td>1.690820</td>\n",
       "      <td>9.657550</td>\n",
       "      <td>0.0</td>\n",
       "      <td>0.0</td>\n",
       "      <td>0.0</td>\n",
       "      <td>1.0</td>\n",
       "      <td>599.0</td>\n",
       "      <td>12310.0</td>\n",
       "      <td>1.971893</td>\n",
       "      <td>...</td>\n",
       "      <td>1.0</td>\n",
       "      <td>547.0</td>\n",
       "      <td>12310.0</td>\n",
       "      <td>-0.087474</td>\n",
       "      <td>0.466491</td>\n",
       "      <td>-0.9826</td>\n",
       "      <td>-0.4939</td>\n",
       "      <td>0.0</td>\n",
       "      <td>0.2732</td>\n",
       "      <td>0.9800</td>\n",
       "    </tr>\n",
       "    <tr>\n",
       "      <th>Usuario Verificado</th>\n",
       "      <td>235.0</td>\n",
       "      <td>14.348936</td>\n",
       "      <td>62.705368</td>\n",
       "      <td>0.0</td>\n",
       "      <td>0.0</td>\n",
       "      <td>2.0</td>\n",
       "      <td>8.0</td>\n",
       "      <td>751.0</td>\n",
       "      <td>235.0</td>\n",
       "      <td>16.502128</td>\n",
       "      <td>...</td>\n",
       "      <td>9.0</td>\n",
       "      <td>925.0</td>\n",
       "      <td>235.0</td>\n",
       "      <td>0.047087</td>\n",
       "      <td>0.451480</td>\n",
       "      <td>-0.9022</td>\n",
       "      <td>-0.2500</td>\n",
       "      <td>0.0</td>\n",
       "      <td>0.4182</td>\n",
       "      <td>0.9054</td>\n",
       "    </tr>\n",
       "  </tbody>\n",
       "</table>\n",
       "<p>2 rows × 24 columns</p>\n",
       "</div>"
      ],
      "text/plain": [
       "                         RT                                                   \\\n",
       "                      count       mean        std  min  25%  50%  75%    max   \n",
       "verificados                                                                    \n",
       "No verificado       12310.0   1.690820   9.657550  0.0  0.0  0.0  1.0  599.0   \n",
       "Usuario Verificado    235.0  14.348936  62.705368  0.0  0.0  2.0  8.0  751.0   \n",
       "\n",
       "                       like              ...               sentimiento  \\\n",
       "                      count       mean   ...    75%    max       count   \n",
       "verificados                              ...                             \n",
       "No verificado       12310.0   1.971893   ...    1.0  547.0     12310.0   \n",
       "Usuario Verificado    235.0  16.502128   ...    9.0  925.0       235.0   \n",
       "\n",
       "                                                                             \n",
       "                        mean       std     min     25%  50%     75%     max  \n",
       "verificados                                                                  \n",
       "No verificado      -0.087474  0.466491 -0.9826 -0.4939  0.0  0.2732  0.9800  \n",
       "Usuario Verificado  0.047087  0.451480 -0.9022 -0.2500  0.0  0.4182  0.9054  \n",
       "\n",
       "[2 rows x 24 columns]"
      ]
     },
     "execution_count": 50,
     "metadata": {},
     "output_type": "execute_result"
    }
   ],
   "source": [
    "df.verificados = df.verificados.fillna('No verificado')\n",
    "by_ver = df.groupby('verificados')\n",
    "by_ver.describe()"
   ]
  },
  {
   "cell_type": "code",
   "execution_count": 51,
   "metadata": {},
   "outputs": [
    {
     "data": {
      "text/html": [
       "<div>\n",
       "<style scoped>\n",
       "    .dataframe tbody tr th:only-of-type {\n",
       "        vertical-align: middle;\n",
       "    }\n",
       "\n",
       "    .dataframe tbody tr th {\n",
       "        vertical-align: top;\n",
       "    }\n",
       "\n",
       "    .dataframe thead th {\n",
       "        text-align: right;\n",
       "    }\n",
       "</style>\n",
       "<table border=\"1\" class=\"dataframe\">\n",
       "  <thead>\n",
       "    <tr style=\"text-align: right;\">\n",
       "      <th></th>\n",
       "      <th>count</th>\n",
       "      <th>mean</th>\n",
       "      <th>std</th>\n",
       "      <th>max</th>\n",
       "    </tr>\n",
       "    <tr>\n",
       "      <th>verificados</th>\n",
       "      <th></th>\n",
       "      <th></th>\n",
       "      <th></th>\n",
       "      <th></th>\n",
       "    </tr>\n",
       "  </thead>\n",
       "  <tbody>\n",
       "    <tr>\n",
       "      <th>No verificado</th>\n",
       "      <td>12310.0</td>\n",
       "      <td>1.971893</td>\n",
       "      <td>10.758723</td>\n",
       "      <td>547.0</td>\n",
       "    </tr>\n",
       "    <tr>\n",
       "      <th>Usuario Verificado</th>\n",
       "      <td>235.0</td>\n",
       "      <td>16.502128</td>\n",
       "      <td>68.708375</td>\n",
       "      <td>925.0</td>\n",
       "    </tr>\n",
       "  </tbody>\n",
       "</table>\n",
       "</div>"
      ],
      "text/plain": [
       "                      count       mean        std    max\n",
       "verificados                                             \n",
       "No verificado       12310.0   1.971893  10.758723  547.0\n",
       "Usuario Verificado    235.0  16.502128  68.708375  925.0"
      ]
     },
     "execution_count": 51,
     "metadata": {},
     "output_type": "execute_result"
    }
   ],
   "source": [
    "by_ver.describe()['like'][['count', 'mean', 'std', 'max']]"
   ]
  },
  {
   "cell_type": "code",
   "execution_count": 52,
   "metadata": {},
   "outputs": [
    {
     "data": {
      "text/html": [
       "<div>\n",
       "<style scoped>\n",
       "    .dataframe tbody tr th:only-of-type {\n",
       "        vertical-align: middle;\n",
       "    }\n",
       "\n",
       "    .dataframe tbody tr th {\n",
       "        vertical-align: top;\n",
       "    }\n",
       "\n",
       "    .dataframe thead th {\n",
       "        text-align: right;\n",
       "    }\n",
       "</style>\n",
       "<table border=\"1\" class=\"dataframe\">\n",
       "  <thead>\n",
       "    <tr style=\"text-align: right;\">\n",
       "      <th></th>\n",
       "      <th>count</th>\n",
       "      <th>mean</th>\n",
       "      <th>std</th>\n",
       "      <th>max</th>\n",
       "    </tr>\n",
       "    <tr>\n",
       "      <th>verificados</th>\n",
       "      <th></th>\n",
       "      <th></th>\n",
       "      <th></th>\n",
       "      <th></th>\n",
       "    </tr>\n",
       "  </thead>\n",
       "  <tbody>\n",
       "    <tr>\n",
       "      <th>No verificado</th>\n",
       "      <td>12310.0</td>\n",
       "      <td>1.690820</td>\n",
       "      <td>9.657550</td>\n",
       "      <td>599.0</td>\n",
       "    </tr>\n",
       "    <tr>\n",
       "      <th>Usuario Verificado</th>\n",
       "      <td>235.0</td>\n",
       "      <td>14.348936</td>\n",
       "      <td>62.705368</td>\n",
       "      <td>751.0</td>\n",
       "    </tr>\n",
       "  </tbody>\n",
       "</table>\n",
       "</div>"
      ],
      "text/plain": [
       "                      count       mean        std    max\n",
       "verificados                                             \n",
       "No verificado       12310.0   1.690820   9.657550  599.0\n",
       "Usuario Verificado    235.0  14.348936  62.705368  751.0"
      ]
     },
     "execution_count": 52,
     "metadata": {},
     "output_type": "execute_result"
    }
   ],
   "source": [
    "by_ver.describe()['RT'][['count', 'mean', 'std', 'max']]"
   ]
  },
  {
   "cell_type": "code",
   "execution_count": 54,
   "metadata": {},
   "outputs": [
    {
     "data": {
      "text/html": [
       "<div>\n",
       "<style scoped>\n",
       "    .dataframe tbody tr th:only-of-type {\n",
       "        vertical-align: middle;\n",
       "    }\n",
       "\n",
       "    .dataframe tbody tr th {\n",
       "        vertical-align: top;\n",
       "    }\n",
       "\n",
       "    .dataframe thead th {\n",
       "        text-align: right;\n",
       "    }\n",
       "</style>\n",
       "<table border=\"1\" class=\"dataframe\">\n",
       "  <thead>\n",
       "    <tr style=\"text-align: right;\">\n",
       "      <th></th>\n",
       "      <th>count</th>\n",
       "      <th>mean</th>\n",
       "      <th>std</th>\n",
       "      <th>max</th>\n",
       "    </tr>\n",
       "    <tr>\n",
       "      <th>verificados</th>\n",
       "      <th></th>\n",
       "      <th></th>\n",
       "      <th></th>\n",
       "      <th></th>\n",
       "    </tr>\n",
       "  </thead>\n",
       "  <tbody>\n",
       "    <tr>\n",
       "      <th>No verificado</th>\n",
       "      <td>12310.0</td>\n",
       "      <td>-0.087474</td>\n",
       "      <td>0.466491</td>\n",
       "      <td>0.9800</td>\n",
       "    </tr>\n",
       "    <tr>\n",
       "      <th>Usuario Verificado</th>\n",
       "      <td>235.0</td>\n",
       "      <td>0.047087</td>\n",
       "      <td>0.451480</td>\n",
       "      <td>0.9054</td>\n",
       "    </tr>\n",
       "  </tbody>\n",
       "</table>\n",
       "</div>"
      ],
      "text/plain": [
       "                      count      mean       std     max\n",
       "verificados                                            \n",
       "No verificado       12310.0 -0.087474  0.466491  0.9800\n",
       "Usuario Verificado    235.0  0.047087  0.451480  0.9054"
      ]
     },
     "execution_count": 54,
     "metadata": {},
     "output_type": "execute_result"
    }
   ],
   "source": [
    "by_ver.describe()['sentimiento'][['count', 'mean', 'std', 'max']]"
   ]
  },
  {
   "cell_type": "code",
   "execution_count": null,
   "metadata": {},
   "outputs": [],
   "source": []
  }
 ],
 "metadata": {
  "kernelspec": {
   "display_name": "Python 3",
   "language": "python",
   "name": "python3"
  },
  "language_info": {
   "codemirror_mode": {
    "name": "ipython",
    "version": 3
   },
   "file_extension": ".py",
   "mimetype": "text/x-python",
   "name": "python",
   "nbconvert_exporter": "python",
   "pygments_lexer": "ipython3",
   "version": "3.6.1"
  }
 },
 "nbformat": 4,
 "nbformat_minor": 2
}
